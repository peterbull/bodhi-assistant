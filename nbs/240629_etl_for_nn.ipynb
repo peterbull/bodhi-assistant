{
 "cells": [
  {
   "cell_type": "code",
   "execution_count": 11,
   "metadata": {},
   "outputs": [],
   "source": [
    "import { config } from \"https://deno.land/x/dotenv/mod.ts\";\n",
    "import {z} from 'https://deno.land/x/zod@v3.23.8/mod.ts';\n",
    "import pl from \"npm:nodejs-polars\";\n",
    "import { display } from \"https://deno.land/x/display@v1.1.1/mod.ts\";\n",
    "import { Client } from \"https://deno.land/x/postgres/mod.ts\";\n"
   ]
  },
  {
   "cell_type": "code",
   "execution_count": 12,
   "metadata": {},
   "outputs": [],
   "source": [
    "import {Plug} from \"https://deno.land/x/plug@0.5.2/mod.ts\";"
   ]
  },
  {
   "cell_type": "code",
   "execution_count": 13,
   "metadata": {},
   "outputs": [],
   "source": [
    "import { createClient } from 'https://esm.sh/@supabase/supabase-js@2'\n"
   ]
  },
  {
   "cell_type": "code",
   "execution_count": 14,
   "metadata": {},
   "outputs": [],
   "source": [
    "const env = await config(); "
   ]
  },
  {
   "cell_type": "code",
   "execution_count": 15,
   "metadata": {},
   "outputs": [
    {
     "name": "stderr",
     "output_type": "stream",
     "text": [
      "\u001b[1m\u001b[33mTLS connection failed with message: \u001b[39m\u001b[22minvalid peer certificate: UnknownIssuer\n",
      "\u001b[1mDefaulting to non-encrypted connection\u001b[22m\n"
     ]
    }
   ],
   "source": [
    "const client = new Client({\n",
    "  user: env.SUPABASE_USER,\n",
    "  password: env.SUPABASE_PASSWORD,\n",
    "  database: env.SUPABASE_DATABASE,\n",
    "  hostname: env.SUPABASE_HOSTNAME,\n",
    "  port: env.SUPABASE_PORT ? parseInt(env.SUPABASE_PORT) : undefined\n",
    "});\n",
    "\n",
    "await client.connect()\n",
    "\n",
    "let results = await client.queryArray(\"select * from bodhi_waves limit 1\")"
   ]
  },
  {
   "cell_type": "code",
   "execution_count": 16,
   "metadata": {},
   "outputs": [
    {
     "data": {
      "text/plain": [
       "[\n",
       "  [\n",
       "    \u001b[33m36175n\u001b[39m,\n",
       "    \u001b[32m\"57\"\u001b[39m,\n",
       "    \u001b[32m\"-135.75\"\u001b[39m,\n",
       "    \u001b[35m2024-06-12T00:00:00.000Z\u001b[39m,\n",
       "    \u001b[32m\"00:00:00\"\u001b[39m,\n",
       "    \u001b[35m2024-06-12T00:00:00.000Z\u001b[39m,\n",
       "    \u001b[32m\"2.02999997138977\"\u001b[39m,\n",
       "    \u001b[32m\"10.8199996948242\"\u001b[39m,\n",
       "    \u001b[32m\"231.580001831055\"\u001b[39m,\n",
       "    \u001b[32m\"0.150000005960464\"\u001b[39m,\n",
       "    \u001b[32m\"0.889999985694885\"\u001b[39m,\n",
       "    \u001b[32m\"65.5400009155273\"\u001b[39m,\n",
       "    \u001b[32m\"6.78000020980835\"\u001b[39m,\n",
       "    \u001b[32m\"304.25\"\u001b[39m,\n",
       "    \u001b[32m\"1.98000001907349\"\u001b[39m,\n",
       "    \u001b[32m\"10.8199996948242\"\u001b[39m,\n",
       "    \u001b[35m2024-06-12T11:28:02.901Z\u001b[39m\n",
       "  ]\n",
       "]"
      ]
     },
     "execution_count": 16,
     "metadata": {},
     "output_type": "execute_result"
    }
   ],
   "source": [
    "results.rows"
   ]
  },
  {
   "cell_type": "code",
   "execution_count": 17,
   "metadata": {},
   "outputs": [],
   "source": [
    "await client.end()"
   ]
  },
  {
   "cell_type": "code",
   "execution_count": 37,
   "metadata": {},
   "outputs": [],
   "source": [
    "let test_arr = [1, 2, 3]"
   ]
  },
  {
   "cell_type": "code",
   "execution_count": 38,
   "metadata": {},
   "outputs": [
    {
     "name": "stdout",
     "output_type": "stream",
     "text": [
      "\u001b[33m1\u001b[39m \u001b[33m0\u001b[39m\n",
      "\u001b[33m2\u001b[39m \u001b[33m1\u001b[39m\n",
      "\u001b[33m3\u001b[39m \u001b[33m2\u001b[39m\n"
     ]
    },
    {
     "data": {
      "text/plain": [
       "[ \u001b[90mundefined\u001b[39m, \u001b[90mundefined\u001b[39m, \u001b[90mundefined\u001b[39m ]"
      ]
     },
     "execution_count": 38,
     "metadata": {},
     "output_type": "execute_result"
    }
   ],
   "source": [
    "test_arr.map((idx, item) => {\n",
    "    console.log(idx, item)\n",
    "})"
   ]
  },
  {
   "cell_type": "code",
   "execution_count": 18,
   "metadata": {},
   "outputs": [],
   "source": [
    "const supabase = createClient(env.SUPABASE_PROJECT_URL, env.SUPABASE_API_KEY)"
   ]
  },
  {
   "cell_type": "code",
   "execution_count": 110,
   "metadata": {},
   "outputs": [],
   "source": [
    "interface SelectColumns {\n",
    "    columns?: string\n",
    "}\n",
    "\n",
    "interface SelectWhere {\n",
    "  column: string; \n",
    "  value: string;\n",
    "}\n",
    "\n",
    "\n",
    "\n",
    "async function queryTable(table: string, numRows: number = 1, cols: SelectColumns = {}, where: SelectWhere[] = []) {\n",
    "  const { columns } = cols;\n",
    "  let query = supabase\n",
    "    .from(table)\n",
    "    .select(columns ? columns : '*')\n",
    "    .limit(numRows)\n",
    "  \n",
    "  where.forEach((clause) => {\n",
    "    if (clause) {\n",
    "      query = query.eq(clause.column, clause.value)\n",
    "    }\n",
    "    console.log(clause)\n",
    "  })\n",
    "  \n",
    "  const {data, error} = await query;\n",
    "\n",
    "  if (error) {\n",
    "    return error;\n",
    "  }\n",
    "  return data;\n",
    "}\n"
   ]
  },
  {
   "cell_type": "code",
   "execution_count": 112,
   "metadata": {},
   "outputs": [],
   "source": [
    "const jetty_sl_id = '584204214e65fad6a7709ce7'"
   ]
  },
  {
   "cell_type": "code",
   "execution_count": 113,
   "metadata": {},
   "outputs": [],
   "source": [
    "let params = {\n",
    "    columns: '*', \n",
    "    where: [{column: 'associated_spotId', value: jetty_sl_id}, {column: 'timestamp_utc', value: '2024-06-21'}]}"
   ]
  },
  {
   "cell_type": "code",
   "execution_count": 116,
   "metadata": {},
   "outputs": [
    {
     "name": "stdout",
     "output_type": "stream",
     "text": [
      "{ column: \u001b[32m\"timestamp_utc\"\u001b[39m, value: \u001b[32m\"2024-06-21\"\u001b[39m }\n"
     ]
    }
   ],
   "source": [
    "let res = await queryTable(\"sl_ratings\", 5, params.columns, params.where)"
   ]
  },
  {
   "cell_type": "code",
   "execution_count": null,
   "metadata": {},
   "outputs": [],
   "source": [
    "async function executeRawQuery(query: string) {\n",
    "  const sql = query; \n",
    "  const { data, error } = await supabase.rpc('sql', { query: sql });\n",
    "\n",
    "  if (error) {\n",
    "    console.error('Error executing query:', error);\n",
    "    return;\n",
    "  }\n",
    "\n",
    "  return data;\n",
    "}"
   ]
  },
  {
   "cell_type": "code",
   "execution_count": null,
   "metadata": {},
   "outputs": [],
   "source": [
    "\n",
    "executeRawQuery().then(data => console.log(data));\n"
   ]
  },
  {
   "cell_type": "code",
   "execution_count": null,
   "metadata": {},
   "outputs": [],
   "source": [
    "let df = await pl.DataFrame(res)"
   ]
  },
  {
   "cell_type": "code",
   "execution_count": null,
   "metadata": {},
   "outputs": [],
   "source": [
    "impo"
   ]
  },
  {
   "cell_type": "code",
   "execution_count": null,
   "metadata": {},
   "outputs": [],
   "source": [
    "console.log(df.toString())"
   ]
  },
  {
   "cell_type": "code",
   "execution_count": null,
   "metadata": {},
   "outputs": [],
   "source": [
    "function show (df: pl.DataFrame) {\n",
    "    console.log(df.toString())\n",
    "}"
   ]
  },
  {
   "cell_type": "code",
   "execution_count": null,
   "metadata": {},
   "outputs": [],
   "source": [
    "show(df)"
   ]
  },
  {
   "cell_type": "code",
   "execution_count": null,
   "metadata": {},
   "outputs": [],
   "source": []
  },
  {
   "cell_type": "code",
   "execution_count": null,
   "metadata": {},
   "outputs": [],
   "source": []
  }
 ],
 "metadata": {
  "kernelspec": {
   "display_name": "Deno",
   "language": "typescript",
   "name": "deno"
  },
  "language_info": {
   "codemirror_mode": "typescript",
   "file_extension": ".ts",
   "mimetype": "text/x.typescript",
   "name": "typescript",
   "nbconvert_exporter": "script",
   "pygments_lexer": "typescript",
   "version": "5.4.5"
  }
 },
 "nbformat": 4,
 "nbformat_minor": 2
}
