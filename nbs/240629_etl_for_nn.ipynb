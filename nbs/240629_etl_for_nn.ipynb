{
 "cells": [
  {
   "cell_type": "code",
   "execution_count": 1,
   "metadata": {},
   "outputs": [],
   "source": [
    "import { config } from \"https://deno.land/x/dotenv/mod.ts\";\n",
    "import {z} from 'https://deno.land/x/zod@v3.23.8/mod.ts';\n",
    "import pl from \"npm:nodejs-polars\";\n",
    "import { display } from \"https://deno.land/x/display@v1.1.1/mod.ts\";\n",
    "\n",
    "import { Client } from \"https://deno.land/x/postgres/mod.ts\";"
   ]
  },
  {
   "cell_type": "code",
   "execution_count": 4,
   "metadata": {},
   "outputs": [],
   "source": [
    "import {Plug} from \"https://deno.land/x/plug@0.5.2/mod.ts\";"
   ]
  },
  {
   "cell_type": "code",
   "execution_count": 2,
   "metadata": {},
   "outputs": [],
   "source": [
    "const env = await config(); "
   ]
  },
  {
   "cell_type": "code",
   "execution_count": 3,
   "metadata": {},
   "outputs": [],
   "source": [
    "const BODHICAST_API_URL_BASE = 'https://api.bodhicast.com';"
   ]
  },
  {
   "cell_type": "code",
   "execution_count": 7,
   "metadata": {},
   "outputs": [],
   "source": [
    "const client = new Client({\n",
    "  user: env.SUPABASE_USER,\n",
    "  password: env.SUPABASE_PASSWORD,\n",
    "  database: env.SUPABASE_DATABASE,\n",
    "  hostname: env.SUPABASE_HOSTNAME,\n",
    "  port: env.SUPABASE_PORT ? parseInt(env.SUPABASE_PORT) : undefined\n",
    "});\n"
   ]
  },
  {
   "cell_type": "code",
   "execution_count": 11,
   "metadata": {},
   "outputs": [
    {
     "name": "stderr",
     "output_type": "stream",
     "text": [
      "\u001b[1m\u001b[33mTLS connection failed with message: \u001b[39m\u001b[22minvalid peer certificate: UnknownIssuer\n",
      "\u001b[1mDefaulting to non-encrypted connection\u001b[22m\n"
     ]
    }
   ],
   "source": [
    "await client.connect()"
   ]
  },
  {
   "cell_type": "code",
   "execution_count": 18,
   "metadata": {},
   "outputs": [],
   "source": [
    "let results = await client.queryArray(\"select * from bodhi_waves limit 1\")"
   ]
  },
  {
   "cell_type": "code",
   "execution_count": 24,
   "metadata": {},
   "outputs": [
    {
     "data": {
      "text/plain": [
       "QueryArrayResult {\n",
       "  query: Query {\n",
       "    args: [],\n",
       "    camelCase: \u001b[90mundefined\u001b[39m,\n",
       "    fields: \u001b[90mundefined\u001b[39m,\n",
       "    result_type: \u001b[33m0\u001b[39m,\n",
       "    text: \u001b[32m\"select * from bodhi_waves limit 1\"\u001b[39m\n",
       "  },\n",
       "  command: \u001b[32m\"SELECT\"\u001b[39m,\n",
       "  rowCount: \u001b[33m1\u001b[39m,\n",
       "  warnings: [],\n",
       "  rows: [\n",
       "    [\n",
       "      \u001b[33m36175n\u001b[39m,\n",
       "      \u001b[32m\"57\"\u001b[39m,\n",
       "      \u001b[32m\"-135.75\"\u001b[39m,\n",
       "      \u001b[35m2024-06-12T00:00:00.000Z\u001b[39m,\n",
       "      \u001b[32m\"00:00:00\"\u001b[39m,\n",
       "      \u001b[35m2024-06-12T00:00:00.000Z\u001b[39m,\n",
       "      \u001b[32m\"2.02999997138977\"\u001b[39m,\n",
       "      \u001b[32m\"10.8199996948242\"\u001b[39m,\n",
       "      \u001b[32m\"231.580001831055\"\u001b[39m,\n",
       "      \u001b[32m\"0.150000005960464\"\u001b[39m,\n",
       "      \u001b[32m\"0.889999985694885\"\u001b[39m,\n",
       "      \u001b[32m\"65.5400009155273\"\u001b[39m,\n",
       "      \u001b[32m\"6.78000020980835\"\u001b[39m,\n",
       "      \u001b[32m\"304.25\"\u001b[39m,\n",
       "      \u001b[32m\"1.98000001907349\"\u001b[39m,\n",
       "      \u001b[32m\"10.8199996948242\"\u001b[39m,\n",
       "      \u001b[35m2024-06-12T11:28:02.901Z\u001b[39m\n",
       "    ]\n",
       "  ]\n",
       "}"
      ]
     },
     "execution_count": 24,
     "metadata": {},
     "output_type": "execute_result"
    }
   ],
   "source": [
    "results"
   ]
  },
  {
   "cell_type": "code",
   "execution_count": 20,
   "metadata": {},
   "outputs": [
    {
     "data": {
      "text/plain": [
       "[\n",
       "  [\n",
       "    \u001b[33m36175n\u001b[39m,\n",
       "    \u001b[32m\"57\"\u001b[39m,\n",
       "    \u001b[32m\"-135.75\"\u001b[39m,\n",
       "    \u001b[35m2024-06-12T00:00:00.000Z\u001b[39m,\n",
       "    \u001b[32m\"00:00:00\"\u001b[39m,\n",
       "    \u001b[35m2024-06-12T00:00:00.000Z\u001b[39m,\n",
       "    \u001b[32m\"2.02999997138977\"\u001b[39m,\n",
       "    \u001b[32m\"10.8199996948242\"\u001b[39m,\n",
       "    \u001b[32m\"231.580001831055\"\u001b[39m,\n",
       "    \u001b[32m\"0.150000005960464\"\u001b[39m,\n",
       "    \u001b[32m\"0.889999985694885\"\u001b[39m,\n",
       "    \u001b[32m\"65.5400009155273\"\u001b[39m,\n",
       "    \u001b[32m\"6.78000020980835\"\u001b[39m,\n",
       "    \u001b[32m\"304.25\"\u001b[39m,\n",
       "    \u001b[32m\"1.98000001907349\"\u001b[39m,\n",
       "    \u001b[32m\"10.8199996948242\"\u001b[39m,\n",
       "    \u001b[35m2024-06-12T11:28:02.901Z\u001b[39m\n",
       "  ]\n",
       "]"
      ]
     },
     "execution_count": 20,
     "metadata": {},
     "output_type": "execute_result"
    }
   ],
   "source": [
    "results.rows"
   ]
  },
  {
   "cell_type": "code",
   "execution_count": 22,
   "metadata": {},
   "outputs": [],
   "source": [
    "await client.end()"
   ]
  },
  {
   "cell_type": "code",
   "execution_count": 23,
   "metadata": {},
   "outputs": [
    {
     "data": {
      "text/plain": [
       "Client {}"
      ]
     },
     "execution_count": 23,
     "metadata": {},
     "output_type": "execute_result"
    }
   ],
   "source": [
    "client"
   ]
  },
  {
   "cell_type": "code",
   "execution_count": null,
   "metadata": {},
   "outputs": [],
   "source": []
  }
 ],
 "metadata": {
  "kernelspec": {
   "display_name": "Deno",
   "language": "typescript",
   "name": "deno"
  },
  "language_info": {
   "codemirror_mode": "typescript",
   "file_extension": ".ts",
   "mimetype": "text/x.typescript",
   "name": "typescript",
   "nbconvert_exporter": "script",
   "pygments_lexer": "typescript",
   "version": "5.4.5"
  }
 },
 "nbformat": 4,
 "nbformat_minor": 2
}
