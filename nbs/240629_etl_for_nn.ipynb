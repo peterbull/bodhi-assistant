{
 "cells": [
  {
   "cell_type": "code",
   "execution_count": 1,
   "metadata": {},
   "outputs": [],
   "source": [
    "import { config } from \"https://deno.land/x/dotenv/mod.ts\";\n",
    "import {z} from 'https://deno.land/x/zod@v3.23.8/mod.ts';\n",
    "import pl from \"npm:nodejs-polars\";\n",
    "import { display } from \"https://deno.land/x/display@v1.1.1/mod.ts\";\n",
    "\n",
    "import { Client } from \"https://deno.land/x/postgres/mod.ts\";"
   ]
  },
  {
   "cell_type": "code",
   "execution_count": 2,
   "metadata": {},
   "outputs": [],
   "source": [
    "import {Plug} from \"https://deno.land/x/plug@0.5.2/mod.ts\";"
   ]
  },
  {
   "cell_type": "code",
   "execution_count": 3,
   "metadata": {},
   "outputs": [],
   "source": [
    "const env = await config(); "
   ]
  },
  {
   "cell_type": "code",
   "execution_count": 4,
   "metadata": {},
   "outputs": [],
   "source": [
    "const BODHICAST_API_URL_BASE = 'https://api.bodhicast.com';"
   ]
  },
  {
   "cell_type": "code",
   "execution_count": 5,
   "metadata": {},
   "outputs": [],
   "source": [
    "const client = new Client({\n",
    "  user: env.SUPABASE_USER,\n",
    "  password: env.SUPABASE_PASSWORD,\n",
    "  database: env.SUPABASE_DATABASE,\n",
    "  hostname: env.SUPABASE_HOSTNAME,\n",
    "  port: env.SUPABASE_PORT ? parseInt(env.SUPABASE_PORT) : undefined\n",
    "});"
   ]
  },
  {
   "cell_type": "code",
   "execution_count": 6,
   "metadata": {},
   "outputs": [
    {
     "name": "stderr",
     "output_type": "stream",
     "text": [
      "\u001b[1m\u001b[33mTLS connection failed with message: \u001b[39m\u001b[22minvalid peer certificate: UnknownIssuer\n",
      "\u001b[1mDefaulting to non-encrypted connection\u001b[22m\n"
     ]
    }
   ],
   "source": [
    "await client.connect()"
   ]
  },
  {
   "cell_type": "code",
   "execution_count": 7,
   "metadata": {},
   "outputs": [],
   "source": [
    "let results = await client.queryArray(\"select * from bodhi_waves limit 1\")"
   ]
  },
  {
   "cell_type": "code",
   "execution_count": 8,
   "metadata": {},
   "outputs": [],
   "source": [
    "results"
   ]
  },
  {
   "cell_type": "code",
   "execution_count": 9,
   "metadata": {},
   "outputs": [],
   "source": [
    "results.rows"
   ]
  },
  {
   "cell_type": "code",
   "execution_count": 10,
   "metadata": {},
   "outputs": [],
   "source": [
    "await client.end()"
   ]
  },
  {
   "cell_type": "code",
   "execution_count": 11,
   "metadata": {},
   "outputs": [],
   "source": [
    "import { createClient } from 'https://esm.sh/@supabase/supabase-js@2'\n"
   ]
  },
  {
   "cell_type": "code",
   "execution_count": 12,
   "metadata": {},
   "outputs": [],
   "source": [
    "const supabase = createClient(env.SUPABASE_PROJECT_URL, env.SUPABASE_API_KEY)\n"
   ]
  },
  {
   "cell_type": "markdown",
   "metadata": {},
   "source": [
    "## Note: "
   ]
  },
  {
   "cell_type": "code",
   "execution_count": 57,
   "metadata": {},
   "outputs": [],
   "source": [
    "interface selectOptions {\n",
    "    columns?: string\n",
    "}\n",
    "\n",
    "async function queryTable(table: string, numRows: number = 1, options: selectOptions = {}) {\n",
    "  const { columns } = options;\n",
    "\n",
    "  const { data, error } = await supabase\n",
    "    .from(table)\n",
    "    .select(columns ? columns : '*')\n",
    "    .limit(numRows)\n",
    "  if (error) {\n",
    "    return error;\n",
    "  }\n",
    "  return data;\n",
    "}\n"
   ]
  },
  {
   "cell_type": "code",
   "execution_count": 58,
   "metadata": {},
   "outputs": [
    {
     "data": {
      "text/plain": [
       "\u001b[32m\"async function queryTable(table, numRows = 1, options = {}) {\\n\"\u001b[39m +\n",
       "  \u001b[32m\"  const { columns } = options;\\n\"\u001b[39m +\n",
       "  \u001b[32m\"  const { data, error } = await supabase.from(table).select(columns ? columns : '*').limit(numRows);\\n\"\u001b[39m +\n",
       "  \u001b[32m\"  if (error) {\\n\"\u001b[39m +\n",
       "  \u001b[32m\"    return error;\\n\"\u001b[39m +\n",
       "  \u001b[32m\"  }\\n\"\u001b[39m +\n",
       "  \u001b[32m\"  return data;\\n\"\u001b[39m +\n",
       "  \u001b[32m\"}\"\u001b[39m"
      ]
     },
     "execution_count": 58,
     "metadata": {},
     "output_type": "execute_result"
    }
   ],
   "source": [
    "queryTable.toString()"
   ]
  },
  {
   "cell_type": "code",
   "execution_count": 62,
   "metadata": {},
   "outputs": [],
   "source": [
    "let res = await queryTable(\"bodhi_waves\", 2, {columns: 'id, latitude'})"
   ]
  },
  {
   "cell_type": "code",
   "execution_count": 63,
   "metadata": {},
   "outputs": [
    {
     "data": {
      "text/plain": [
       "\u001b[33m2\u001b[39m"
      ]
     },
     "execution_count": 63,
     "metadata": {},
     "output_type": "execute_result"
    }
   ],
   "source": [
    "res.length"
   ]
  },
  {
   "cell_type": "code",
   "execution_count": 64,
   "metadata": {},
   "outputs": [
    {
     "data": {
      "text/plain": [
       "\u001b[32m\"object\"\u001b[39m"
      ]
     },
     "execution_count": 64,
     "metadata": {},
     "output_type": "execute_result"
    }
   ],
   "source": [
    "typeof(res)"
   ]
  },
  {
   "cell_type": "code",
   "execution_count": 65,
   "metadata": {},
   "outputs": [
    {
     "data": {
      "text/plain": [
       "\u001b[33mtrue\u001b[39m"
      ]
     },
     "execution_count": 65,
     "metadata": {},
     "output_type": "execute_result"
    }
   ],
   "source": [
    "Array.isArray(res)"
   ]
  },
  {
   "cell_type": "code",
   "execution_count": 66,
   "metadata": {},
   "outputs": [
    {
     "data": {
      "text/plain": [
       "[ { id: \u001b[33m36175\u001b[39m, latitude: \u001b[33m57\u001b[39m }, { id: \u001b[33m36775\u001b[39m, latitude: \u001b[33m56.75\u001b[39m } ]"
      ]
     },
     "execution_count": 66,
     "metadata": {},
     "output_type": "execute_result"
    }
   ],
   "source": [
    "res"
   ]
  },
  {
   "cell_type": "code",
   "execution_count": null,
   "metadata": {},
   "outputs": [],
   "source": []
  }
 ],
 "metadata": {
  "kernelspec": {
   "display_name": "Deno",
   "language": "typescript",
   "name": "deno"
  },
  "language_info": {
   "codemirror_mode": "typescript",
   "file_extension": ".ts",
   "mimetype": "text/x.typescript",
   "name": "typescript",
   "nbconvert_exporter": "script",
   "pygments_lexer": "typescript",
   "version": "5.4.5"
  }
 },
 "nbformat": 4,
 "nbformat_minor": 2
}
