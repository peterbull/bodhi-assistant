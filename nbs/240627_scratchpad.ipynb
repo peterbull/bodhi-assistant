{
 "cells": [
  {
   "cell_type": "code",
   "execution_count": 1,
   "metadata": {},
   "outputs": [],
   "source": [
    "const functions = [\n",
    "  {\n",
    "    name: \"get_current_weather\",\n",
    "    description: \"Get the current weather in a given location\",\n",
    "    parameters: {\n",
    "      type: \"object\",\n",
    "      properties: {\n",
    "        location: {\n",
    "          type: \"string\",\n",
    "          description: \"The city and state, e.g. San Francisco, CA\",\n",
    "        },\n",
    "        unit: {\n",
    "          type: \"string\",\n",
    "          enum: [\"celsius\", \"fahrenheit\"],\n",
    "        },\n",
    "      },\n",
    "      required: [\"location\"],\n",
    "    },\n",
    "  },\n",
    "];\n"
   ]
  },
  {
   "cell_type": "code",
   "execution_count": 4,
   "metadata": {},
   "outputs": [
    {
     "data": {
      "text/plain": [
       "\u001b[32m\"get_current_weather\"\u001b[39m"
      ]
     },
     "execution_count": 4,
     "metadata": {},
     "output_type": "execute_result"
    }
   ],
   "source": [
    "functions[0].name"
   ]
  },
  {
   "cell_type": "code",
   "execution_count": 5,
   "metadata": {},
   "outputs": [],
   "source": [
    "async function getCurrentWeather(location: string, unit: string = 'celsius') {\n",
    "  return { temperature: 22, unit: unit, location: location };\n",
    "}"
   ]
  },
  {
   "cell_type": "code",
   "execution_count": 6,
   "metadata": {},
   "outputs": [
    {
     "data": {
      "text/plain": [
       "Promise { { temperature: \u001b[33m22\u001b[39m, unit: \u001b[32m\"celsius\"\u001b[39m, location: \u001b[90mundefined\u001b[39m } }"
      ]
     },
     "execution_count": 6,
     "metadata": {},
     "output_type": "execute_result"
    }
   ],
   "source": [
    "getCurrentWeather()"
   ]
  },
  {
   "cell_type": "code",
   "execution_count": 7,
   "metadata": {},
   "outputs": [
    {
     "data": {
      "text/plain": [
       "{ temperature: \u001b[33m22\u001b[39m, unit: \u001b[32m\"celsius\"\u001b[39m, location: \u001b[90mundefined\u001b[39m }"
      ]
     },
     "execution_count": 7,
     "metadata": {},
     "output_type": "execute_result"
    }
   ],
   "source": [
    "await getCurrentWeather()"
   ]
  },
  {
   "cell_type": "code",
   "execution_count": null,
   "metadata": {},
   "outputs": [],
   "source": []
  }
 ],
 "metadata": {
  "kernelspec": {
   "display_name": "Deno",
   "language": "typescript",
   "name": "deno"
  },
  "language_info": {
   "codemirror_mode": "typescript",
   "file_extension": ".ts",
   "mimetype": "text/x.typescript",
   "name": "typescript",
   "nbconvert_exporter": "script",
   "pygments_lexer": "typescript",
   "version": "5.4.5"
  }
 },
 "nbformat": 4,
 "nbformat_minor": 2
}
