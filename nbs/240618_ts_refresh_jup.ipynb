{
 "cells": [
  {
   "cell_type": "code",
   "execution_count": 1,
   "metadata": {},
   "outputs": [],
   "source": [
    "import { Langfuse } from \"https://esm.sh/langfuse\""
   ]
  },
  {
   "cell_type": "code",
   "execution_count": null,
   "metadata": {},
   "outputs": [],
   "source": []
  },
  {
   "cell_type": "code",
   "execution_count": 2,
   "metadata": {},
   "outputs": [],
   "source": [
    "import { config } from \"https://deno.land/x/dotenv/mod.ts\";\n",
    "import {z} from 'https://deno.land/x/zod@v3.23.8/mod.ts';\n",
    "import { StructuredTool } from \"https://esm.sh/@langchain/core/tools\";\n",
    "import { formatToOpenAITool } from \"https://esm.sh/@langchain/openai\";\n",
    "import OpenAI from \"https://deno.land/x/openai@v4.51.0/mod.ts\";\n",
    "\n",
    "const env = await config(); "
   ]
  },
  {
   "cell_type": "code",
   "execution_count": 3,
   "metadata": {},
   "outputs": [],
   "source": [
    "const LANGFUSE_SECRET_KEY = env.LANGFUSE_SECRET_KEY"
   ]
  },
  {
   "cell_type": "code",
   "execution_count": 4,
   "metadata": {},
   "outputs": [],
   "source": [
    "const langfuse = new Langfuse({\n",
    "    release: \"v1.0.0\", \n",
    "    requestTimeout: 10000,\n",
    "    secretKey: env.LANGFUSE_SECRET_KEY,\n",
    "    publicKey: env.LANGFUSE_PUBLIC_KEY,\n",
    "    baseUrl: \"http://localhost:3001\",\n",
    "});"
   ]
  },
  {
   "cell_type": "code",
   "execution_count": 5,
   "metadata": {},
   "outputs": [],
   "source": [
    "const trace = langfuse.trace({\n",
    "  name: \"catch-all\",\n",
    "  metadata: { user: \"peter@peter.com\" },\n",
    "  tags: [\"dev\"],\n",
    "});"
   ]
  },
  {
   "cell_type": "code",
   "execution_count": 6,
   "metadata": {},
   "outputs": [],
   "source": [
    "let messages = 'Please add 500 and 465.'"
   ]
  },
  {
   "cell_type": "code",
   "execution_count": 7,
   "metadata": {},
   "outputs": [],
   "source": [
    "const generation = trace.generation({\n",
    "  name: \"chat-completion\",\n",
    "  model: \"gpt-3.5-turbo-0125\",\n",
    "  modelParameters: {\n",
    "    temperature: 0.7,\n",
    "    maxTokens: 2000,\n",
    "  },\n",
    "  input: messages,\n",
    "});"
   ]
  },
  {
   "cell_type": "code",
   "execution_count": 8,
   "metadata": {},
   "outputs": [],
   "source": [
    "const OPENAI_API_KEY = env.OPENAI_API_KEY"
   ]
  },
  {
   "cell_type": "code",
   "execution_count": 9,
   "metadata": {},
   "outputs": [],
   "source": [
    "import { ChatOpenAI } from \"https://esm.sh/@langchain/openai\";"
   ]
  },
  {
   "cell_type": "code",
   "execution_count": 10,
   "metadata": {},
   "outputs": [],
   "source": [
    "const openai_client = new OpenAI({apiKey:OPENAI_API_KEY})"
   ]
  },
  {
   "cell_type": "code",
   "execution_count": 11,
   "metadata": {},
   "outputs": [],
   "source": [
    "const client = new ChatOpenAI({apiKey:OPENAI_API_KEY})"
   ]
  },
  {
   "cell_type": "code",
   "execution_count": 12,
   "metadata": {},
   "outputs": [
    {
     "data": {
      "text/plain": [
       "g {\n",
       "  lc_serializable: \u001b[33mtrue\u001b[39m,\n",
       "  lc_kwargs: {\n",
       "    content: \u001b[32m\"Hello! How can I assist you today?\"\u001b[39m,\n",
       "    tool_calls: [],\n",
       "    invalid_tool_calls: [],\n",
       "    additional_kwargs: { function_call: \u001b[90mundefined\u001b[39m, tool_calls: \u001b[90mundefined\u001b[39m },\n",
       "    response_metadata: {}\n",
       "  },\n",
       "  lc_namespace: [ \u001b[32m\"langchain_core\"\u001b[39m, \u001b[32m\"messages\"\u001b[39m ],\n",
       "  content: \u001b[32m\"Hello! How can I assist you today?\"\u001b[39m,\n",
       "  name: \u001b[90mundefined\u001b[39m,\n",
       "  additional_kwargs: { function_call: \u001b[90mundefined\u001b[39m, tool_calls: \u001b[90mundefined\u001b[39m },\n",
       "  response_metadata: {\n",
       "    tokenUsage: { completionTokens: \u001b[33m9\u001b[39m, promptTokens: \u001b[33m9\u001b[39m, totalTokens: \u001b[33m18\u001b[39m },\n",
       "    finish_reason: \u001b[32m\"stop\"\u001b[39m\n",
       "  },\n",
       "  tool_calls: [],\n",
       "  invalid_tool_calls: [],\n",
       "  usage_metadata: { input_tokens: \u001b[33m9\u001b[39m, output_tokens: \u001b[33m9\u001b[39m, total_tokens: \u001b[33m18\u001b[39m }\n",
       "}"
      ]
     },
     "execution_count": 12,
     "metadata": {},
     "output_type": "execute_result"
    }
   ],
   "source": [
    "await client.invoke(\"hi there\")"
   ]
  },
  {
   "cell_type": "code",
   "execution_count": null,
   "metadata": {},
   "outputs": [],
   "source": []
  },
  {
   "cell_type": "code",
   "execution_count": 13,
   "metadata": {},
   "outputs": [],
   "source": [
    "class AddNums extends StructuredTool {\n",
    "    name = \"add_numbers\";\n",
    "    description = \"add two numbers together\";\n",
    "\n",
    "    schema =  z.object({\n",
    "        num_1: z.number().describe(\"the first number to add\"),\n",
    "        num_2: z.number().describe(\"the second number to add\"),\n",
    "    })\n",
    "\n",
    "    constructor() {\n",
    "        super();\n",
    "    }\n",
    "\n",
    "    _call(input: z.infer<typeof this['schema']>): Promise<string> {\n",
    "        return Promise.resolve(JSON.stringify(input, null, 2));\n",
    "    } \n",
    "}"
   ]
  },
  {
   "cell_type": "code",
   "execution_count": 14,
   "metadata": {},
   "outputs": [],
   "source": [
    "const addNums = new AddNums()"
   ]
  },
  {
   "cell_type": "code",
   "execution_count": 15,
   "metadata": {},
   "outputs": [],
   "source": [
    "const tool = new AddNums()"
   ]
  },
  {
   "cell_type": "code",
   "execution_count": 16,
   "metadata": {},
   "outputs": [
    {
     "name": "stdout",
     "output_type": "stream",
     "text": [
      "{\n",
      "  \"num_1\": 3,\n",
      "  \"num_2\": 4\n",
      "}\n"
     ]
    },
    {
     "data": {
      "text/plain": [
       "Promise { \u001b[90mundefined\u001b[39m }"
      ]
     },
     "execution_count": 16,
     "metadata": {},
     "output_type": "execute_result"
    }
   ],
   "source": [
    "tool._call({num_1: 3, num_2: 4}).then(console.log)"
   ]
  },
  {
   "cell_type": "code",
   "execution_count": 17,
   "metadata": {},
   "outputs": [
    {
     "data": {
      "text/plain": [
       "ZodObject {\n",
       "  _type: \u001b[90mundefined\u001b[39m,\n",
       "  _output: \u001b[90mundefined\u001b[39m,\n",
       "  _input: \u001b[90mundefined\u001b[39m,\n",
       "  _def: {\n",
       "    shape: \u001b[36m[Function: shape]\u001b[39m,\n",
       "    unknownKeys: \u001b[32m\"strip\"\u001b[39m,\n",
       "    catchall: ZodNever {\n",
       "      _type: \u001b[90mundefined\u001b[39m,\n",
       "      _output: \u001b[90mundefined\u001b[39m,\n",
       "      _input: \u001b[90mundefined\u001b[39m,\n",
       "      _def: { typeName: \u001b[32m\"ZodNever\"\u001b[39m },\n",
       "      spa: \u001b[36m[Function: bound safeParseAsync] AsyncFunction\u001b[39m,\n",
       "      parse: \u001b[36m[Function: bound parse]\u001b[39m,\n",
       "      safeParse: \u001b[36m[Function: bound safeParse]\u001b[39m,\n",
       "      parseAsync: \u001b[36m[Function: bound parseAsync] AsyncFunction\u001b[39m,\n",
       "      safeParseAsync: \u001b[36m[Function: bound safeParseAsync] AsyncFunction\u001b[39m,\n",
       "      refine: \u001b[36m[Function: bound refine]\u001b[39m,\n",
       "      refinement: \u001b[36m[Function: bound refinement]\u001b[39m,\n",
       "      superRefine: \u001b[36m[Function: bound superRefine]\u001b[39m,\n",
       "      optional: \u001b[36m[Function: bound optional]\u001b[39m,\n",
       "      nullable: \u001b[36m[Function: bound nullable]\u001b[39m,\n",
       "      nullish: \u001b[36m[Function: bound nullish]\u001b[39m,\n",
       "      array: \u001b[36m[Function: bound array]\u001b[39m,\n",
       "      promise: \u001b[36m[Function: bound promise]\u001b[39m,\n",
       "      or: \u001b[36m[Function: bound or]\u001b[39m,\n",
       "      and: \u001b[36m[Function: bound and]\u001b[39m,\n",
       "      transform: \u001b[36m[Function: bound transform]\u001b[39m,\n",
       "      brand: \u001b[36m[Function: bound brand]\u001b[39m,\n",
       "      default: \u001b[36m[Function: bound default]\u001b[39m,\n",
       "      catch: \u001b[36m[Function: bound catch]\u001b[39m,\n",
       "      describe: \u001b[36m[Function: bound describe]\u001b[39m,\n",
       "      pipe: \u001b[36m[Function: bound pipe]\u001b[39m,\n",
       "      readonly: \u001b[36m[Function: bound readonly]\u001b[39m,\n",
       "      isNullable: \u001b[36m[Function: bound isNullable]\u001b[39m,\n",
       "      isOptional: \u001b[36m[Function: bound isOptional]\u001b[39m\n",
       "    },\n",
       "    typeName: \u001b[32m\"ZodObject\"\u001b[39m,\n",
       "    description: \u001b[90mundefined\u001b[39m\n",
       "  },\n",
       "  spa: \u001b[36m[Function: bound safeParseAsync] AsyncFunction\u001b[39m,\n",
       "  parse: \u001b[36m[Function: bound parse]\u001b[39m,\n",
       "  safeParse: \u001b[36m[Function: bound safeParse]\u001b[39m,\n",
       "  parseAsync: \u001b[36m[Function: bound parseAsync] AsyncFunction\u001b[39m,\n",
       "  safeParseAsync: \u001b[36m[Function: bound safeParseAsync] AsyncFunction\u001b[39m,\n",
       "  refine: \u001b[36m[Function: bound refine]\u001b[39m,\n",
       "  refinement: \u001b[36m[Function: bound refinement]\u001b[39m,\n",
       "  superRefine: \u001b[36m[Function: bound superRefine]\u001b[39m,\n",
       "  optional: \u001b[36m[Function: bound optional]\u001b[39m,\n",
       "  nullable: \u001b[36m[Function: bound nullable]\u001b[39m,\n",
       "  nullish: \u001b[36m[Function: bound nullish]\u001b[39m,\n",
       "  array: \u001b[36m[Function: bound array]\u001b[39m,\n",
       "  promise: \u001b[36m[Function: bound promise]\u001b[39m,\n",
       "  or: \u001b[36m[Function: bound or]\u001b[39m,\n",
       "  and: \u001b[36m[Function: bound and]\u001b[39m,\n",
       "  transform: \u001b[36m[Function: bound transform]\u001b[39m,\n",
       "  brand: \u001b[36m[Function: bound brand]\u001b[39m,\n",
       "  default: \u001b[36m[Function: bound default]\u001b[39m,\n",
       "  catch: \u001b[36m[Function: bound catch]\u001b[39m,\n",
       "  describe: \u001b[36m[Function: bound describe]\u001b[39m,\n",
       "  pipe: \u001b[36m[Function: bound pipe]\u001b[39m,\n",
       "  readonly: \u001b[36m[Function: bound readonly]\u001b[39m,\n",
       "  isNullable: \u001b[36m[Function: bound isNullable]\u001b[39m,\n",
       "  isOptional: \u001b[36m[Function: bound isOptional]\u001b[39m,\n",
       "  _cached: \u001b[1mnull\u001b[22m,\n",
       "  nonstrict: \u001b[36m[Function: passthrough]\u001b[39m,\n",
       "  augment: \u001b[36m[Function: extend]\u001b[39m\n",
       "}"
      ]
     },
     "execution_count": 17,
     "metadata": {},
     "output_type": "execute_result"
    }
   ],
   "source": [
    "tool.schema.describe()"
   ]
  },
  {
   "cell_type": "code",
   "execution_count": 18,
   "metadata": {},
   "outputs": [
    {
     "data": {
      "text/plain": [
       "\u001b[32m\"number\"\u001b[39m"
      ]
     },
     "execution_count": 18,
     "metadata": {},
     "output_type": "execute_result"
    }
   ],
   "source": [
    "typeof(3)"
   ]
  },
  {
   "cell_type": "code",
   "execution_count": 19,
   "metadata": {},
   "outputs": [
    {
     "data": {
      "text/plain": [
       "AddNums {\n",
       "  lc_serializable: \u001b[33mfalse\u001b[39m,\n",
       "  lc_kwargs: {},\n",
       "  lc_runnable: \u001b[33mtrue\u001b[39m,\n",
       "  name: \u001b[32m\"add_numbers\"\u001b[39m,\n",
       "  verbose: \u001b[33mfalse\u001b[39m,\n",
       "  callbacks: \u001b[90mundefined\u001b[39m,\n",
       "  tags: [],\n",
       "  metadata: {},\n",
       "  returnDirect: \u001b[33mfalse\u001b[39m,\n",
       "  description: \u001b[32m\"add two numbers together\"\u001b[39m,\n",
       "  schema: ZodObject {\n",
       "    _type: \u001b[90mundefined\u001b[39m,\n",
       "    _output: \u001b[90mundefined\u001b[39m,\n",
       "    _input: \u001b[90mundefined\u001b[39m,\n",
       "    _def: {\n",
       "      shape: \u001b[36m[Function: shape]\u001b[39m,\n",
       "      unknownKeys: \u001b[32m\"strip\"\u001b[39m,\n",
       "      catchall: ZodNever {\n",
       "        _type: \u001b[90mundefined\u001b[39m,\n",
       "        _output: \u001b[90mundefined\u001b[39m,\n",
       "        _input: \u001b[90mundefined\u001b[39m,\n",
       "        _def: { typeName: \u001b[32m\"ZodNever\"\u001b[39m },\n",
       "        spa: \u001b[36m[Function: bound safeParseAsync] AsyncFunction\u001b[39m,\n",
       "        parse: \u001b[36m[Function: bound parse]\u001b[39m,\n",
       "        safeParse: \u001b[36m[Function: bound safeParse]\u001b[39m,\n",
       "        parseAsync: \u001b[36m[Function: bound parseAsync] AsyncFunction\u001b[39m,\n",
       "        safeParseAsync: \u001b[36m[Function: bound safeParseAsync] AsyncFunction\u001b[39m,\n",
       "        refine: \u001b[36m[Function: bound refine]\u001b[39m,\n",
       "        refinement: \u001b[36m[Function: bound refinement]\u001b[39m,\n",
       "        superRefine: \u001b[36m[Function: bound superRefine]\u001b[39m,\n",
       "        optional: \u001b[36m[Function: bound optional]\u001b[39m,\n",
       "        nullable: \u001b[36m[Function: bound nullable]\u001b[39m,\n",
       "        nullish: \u001b[36m[Function: bound nullish]\u001b[39m,\n",
       "        array: \u001b[36m[Function: bound array]\u001b[39m,\n",
       "        promise: \u001b[36m[Function: bound promise]\u001b[39m,\n",
       "        or: \u001b[36m[Function: bound or]\u001b[39m,\n",
       "        and: \u001b[36m[Function: bound and]\u001b[39m,\n",
       "        transform: \u001b[36m[Function: bound transform]\u001b[39m,\n",
       "        brand: \u001b[36m[Function: bound brand]\u001b[39m,\n",
       "        default: \u001b[36m[Function: bound default]\u001b[39m,\n",
       "        catch: \u001b[36m[Function: bound catch]\u001b[39m,\n",
       "        describe: \u001b[36m[Function: bound describe]\u001b[39m,\n",
       "        pipe: \u001b[36m[Function: bound pipe]\u001b[39m,\n",
       "        readonly: \u001b[36m[Function: bound readonly]\u001b[39m,\n",
       "        isNullable: \u001b[36m[Function: bound isNullable]\u001b[39m,\n",
       "        isOptional: \u001b[36m[Function: bound isOptional]\u001b[39m\n",
       "      },\n",
       "      typeName: \u001b[32m\"ZodObject\"\u001b[39m\n",
       "    },\n",
       "    spa: \u001b[36m[Function: bound safeParseAsync] AsyncFunction\u001b[39m,\n",
       "    parse: \u001b[36m[Function: bound parse]\u001b[39m,\n",
       "    safeParse: \u001b[36m[Function: bound safeParse]\u001b[39m,\n",
       "    parseAsync: \u001b[36m[Function: bound parseAsync] AsyncFunction\u001b[39m,\n",
       "    safeParseAsync: \u001b[36m[Function: bound safeParseAsync] AsyncFunction\u001b[39m,\n",
       "    refine: \u001b[36m[Function: bound refine]\u001b[39m,\n",
       "    refinement: \u001b[36m[Function: bound refinement]\u001b[39m,\n",
       "    superRefine: \u001b[36m[Function: bound superRefine]\u001b[39m,\n",
       "    optional: \u001b[36m[Function: bound optional]\u001b[39m,\n",
       "    nullable: \u001b[36m[Function: bound nullable]\u001b[39m,\n",
       "    nullish: \u001b[36m[Function: bound nullish]\u001b[39m,\n",
       "    array: \u001b[36m[Function: bound array]\u001b[39m,\n",
       "    promise: \u001b[36m[Function: bound promise]\u001b[39m,\n",
       "    or: \u001b[36m[Function: bound or]\u001b[39m,\n",
       "    and: \u001b[36m[Function: bound and]\u001b[39m,\n",
       "    transform: \u001b[36m[Function: bound transform]\u001b[39m,\n",
       "    brand: \u001b[36m[Function: bound brand]\u001b[39m,\n",
       "    default: \u001b[36m[Function: bound default]\u001b[39m,\n",
       "    catch: \u001b[36m[Function: bound catch]\u001b[39m,\n",
       "    describe: \u001b[36m[Function: bound describe]\u001b[39m,\n",
       "    pipe: \u001b[36m[Function: bound pipe]\u001b[39m,\n",
       "    readonly: \u001b[36m[Function: bound readonly]\u001b[39m,\n",
       "    isNullable: \u001b[36m[Function: bound isNullable]\u001b[39m,\n",
       "    isOptional: \u001b[36m[Function: bound isOptional]\u001b[39m,\n",
       "    _cached: \u001b[1mnull\u001b[22m,\n",
       "    nonstrict: \u001b[36m[Function: passthrough]\u001b[39m,\n",
       "    augment: \u001b[36m[Function: extend]\u001b[39m\n",
       "  }\n",
       "}"
      ]
     },
     "execution_count": 19,
     "metadata": {},
     "output_type": "execute_result"
    }
   ],
   "source": [
    "addNums"
   ]
  },
  {
   "cell_type": "code",
   "execution_count": 20,
   "metadata": {},
   "outputs": [],
   "source": [
    "const addTool = formatToOpenAITool(new AddNums())"
   ]
  },
  {
   "cell_type": "code",
   "execution_count": 21,
   "metadata": {},
   "outputs": [
    {
     "data": {
      "text/plain": [
       "{\n",
       "  type: \u001b[32m\"function\"\u001b[39m,\n",
       "  function: {\n",
       "    name: \u001b[32m\"add_numbers\"\u001b[39m,\n",
       "    description: \u001b[32m\"add two numbers together\"\u001b[39m,\n",
       "    parameters: {\n",
       "      type: \u001b[32m\"object\"\u001b[39m,\n",
       "      properties: {\n",
       "        num_1: { type: \u001b[32m\"number\"\u001b[39m, description: \u001b[32m\"the first number to add\"\u001b[39m },\n",
       "        num_2: { type: \u001b[32m\"number\"\u001b[39m, description: \u001b[32m\"the second number to add\"\u001b[39m }\n",
       "      },\n",
       "      required: [ \u001b[32m\"num_1\"\u001b[39m, \u001b[32m\"num_2\"\u001b[39m ],\n",
       "      additionalProperties: \u001b[33mfalse\u001b[39m,\n",
       "      \u001b[32m\"$schema\"\u001b[39m: \u001b[32m\"http://json-schema.org/draft-07/schema#\"\u001b[39m\n",
       "    }\n",
       "  }\n",
       "}"
      ]
     },
     "execution_count": 21,
     "metadata": {},
     "output_type": "execute_result"
    }
   ],
   "source": [
    "addTool"
   ]
  },
  {
   "cell_type": "code",
   "execution_count": 22,
   "metadata": {},
   "outputs": [
    {
     "data": {
      "text/plain": [
       "{\n",
       "  id: \u001b[32m\"chatcmpl-9bpvteTN8HsNMd7IvKByROzaJ4sO0\"\u001b[39m,\n",
       "  object: \u001b[32m\"chat.completion\"\u001b[39m,\n",
       "  created: \u001b[33m1718804793\u001b[39m,\n",
       "  model: \u001b[32m\"gpt-3.5-turbo-0125\"\u001b[39m,\n",
       "  choices: [\n",
       "    {\n",
       "      index: \u001b[33m0\u001b[39m,\n",
       "      message: {\n",
       "        role: \u001b[32m\"assistant\"\u001b[39m,\n",
       "        content: \u001b[32m\"Sure! Here's a joke for you:\\n\"\u001b[39m +\n",
       "          \u001b[32m\"\\n\"\u001b[39m +\n",
       "          \u001b[32m\"Why couldn't the bicycle stand up by itself?\\n\"\u001b[39m +\n",
       "          \u001b[32m\"Because it was two-tired!\"\u001b[39m\n",
       "      },\n",
       "      logprobs: \u001b[1mnull\u001b[22m,\n",
       "      finish_reason: \u001b[32m\"stop\"\u001b[39m\n",
       "    }\n",
       "  ],\n",
       "  usage: { prompt_tokens: \u001b[33m12\u001b[39m, completion_tokens: \u001b[33m26\u001b[39m, total_tokens: \u001b[33m38\u001b[39m },\n",
       "  system_fingerprint: \u001b[1mnull\u001b[22m\n",
       "}"
      ]
     },
     "execution_count": 22,
     "metadata": {},
     "output_type": "execute_result"
    }
   ],
   "source": [
    "await openai_client.chat.completions.create({\n",
    "      messages: [{ role: 'user', content: \"hello tell me a joke\" }],\n",
    "      model: 'gpt-3.5-turbo-0125',\n",
    "    });"
   ]
  },
  {
   "cell_type": "code",
   "execution_count": 23,
   "metadata": {},
   "outputs": [
    {
     "data": {
      "text/plain": [
       "{\n",
       "  type: \u001b[32m\"function\"\u001b[39m,\n",
       "  function: {\n",
       "    name: \u001b[32m\"add_numbers\"\u001b[39m,\n",
       "    description: \u001b[32m\"add two numbers together\"\u001b[39m,\n",
       "    parameters: {\n",
       "      type: \u001b[32m\"object\"\u001b[39m,\n",
       "      properties: {\n",
       "        num_1: { type: \u001b[32m\"number\"\u001b[39m, description: \u001b[32m\"the first number to add\"\u001b[39m },\n",
       "        num_2: { type: \u001b[32m\"number\"\u001b[39m, description: \u001b[32m\"the second number to add\"\u001b[39m }\n",
       "      },\n",
       "      required: [ \u001b[32m\"num_1\"\u001b[39m, \u001b[32m\"num_2\"\u001b[39m ],\n",
       "      additionalProperties: \u001b[33mfalse\u001b[39m,\n",
       "      \u001b[32m\"$schema\"\u001b[39m: \u001b[32m\"http://json-schema.org/draft-07/schema#\"\u001b[39m\n",
       "    }\n",
       "  }\n",
       "}"
      ]
     },
     "execution_count": 23,
     "metadata": {},
     "output_type": "execute_result"
    }
   ],
   "source": [
    "addTool"
   ]
  },
  {
   "cell_type": "code",
   "execution_count": 24,
   "metadata": {},
   "outputs": [],
   "source": [
    "let tools = [addTool]"
   ]
  },
  {
   "cell_type": "code",
   "execution_count": 25,
   "metadata": {},
   "outputs": [
    {
     "data": {
      "text/plain": [
       "{\n",
       "  type: \u001b[32m\"function\"\u001b[39m,\n",
       "  function: {\n",
       "    name: \u001b[32m\"add_numbers\"\u001b[39m,\n",
       "    description: \u001b[32m\"add two numbers together\"\u001b[39m,\n",
       "    parameters: {\n",
       "      type: \u001b[32m\"object\"\u001b[39m,\n",
       "      properties: {\n",
       "        num_1: { type: \u001b[32m\"number\"\u001b[39m, description: \u001b[32m\"the first number to add\"\u001b[39m },\n",
       "        num_2: { type: \u001b[32m\"number\"\u001b[39m, description: \u001b[32m\"the second number to add\"\u001b[39m }\n",
       "      },\n",
       "      required: [ \u001b[32m\"num_1\"\u001b[39m, \u001b[32m\"num_2\"\u001b[39m ],\n",
       "      additionalProperties: \u001b[33mfalse\u001b[39m,\n",
       "      \u001b[32m\"$schema\"\u001b[39m: \u001b[32m\"http://json-schema.org/draft-07/schema#\"\u001b[39m\n",
       "    }\n",
       "  }\n",
       "}"
      ]
     },
     "execution_count": 25,
     "metadata": {},
     "output_type": "execute_result"
    }
   ],
   "source": [
    "tools[0]"
   ]
  },
  {
   "cell_type": "code",
   "execution_count": 26,
   "metadata": {},
   "outputs": [],
   "source": [
    "let res = await openai_client.chat.completions.create({\n",
    "    model: 'gpt-3.5-turbo-0125',\n",
    "    messages: [{ role: 'user', content: messages }],\n",
    "    tools: tools\n",
    "    });"
   ]
  },
  {
   "cell_type": "code",
   "execution_count": 27,
   "metadata": {},
   "outputs": [],
   "source": [
    "let responseMessage = res.choices[0].message"
   ]
  },
  {
   "cell_type": "code",
   "execution_count": 29,
   "metadata": {},
   "outputs": [
    {
     "data": {
      "text/plain": [
       "A {\n",
       "  client: d {\n",
       "    debugMode: \u001b[33mfalse\u001b[39m,\n",
       "    pendingPromises: { \u001b[32m\"5e83c738-708a-4231-88a4-7e486a6c76ce\"\u001b[39m: Promise { \u001b[36m<pending>\u001b[39m } },\n",
       "    _events: S { events: {} },\n",
       "    enabled: \u001b[33mtrue\u001b[39m,\n",
       "    publicKey: \u001b[32m\"pk-lf-409b1062-497b-47b7-b167-89d267ea9469\"\u001b[39m,\n",
       "    secretKey: \u001b[32m\"sk-lf-926cd2e9-b209-4667-bbdf-2118a9247d34\"\u001b[39m,\n",
       "    baseUrl: \u001b[32m\"http://localhost:3001\"\u001b[39m,\n",
       "    flushAt: \u001b[33m15\u001b[39m,\n",
       "    flushInterval: \u001b[33m10000\u001b[39m,\n",
       "    release: \u001b[32m\"v1.0.0\"\u001b[39m,\n",
       "    _retryOptions: { retryCount: \u001b[33m3\u001b[39m, retryDelay: \u001b[33m3000\u001b[39m, retryCheck: \u001b[36m[Function: q]\u001b[39m },\n",
       "    requestTimeout: \u001b[33m10000\u001b[39m,\n",
       "    sdkIntegration: \u001b[32m\"DEFAULT\"\u001b[39m,\n",
       "    _promptCache: T { _cache: Map(0) {}, _defaultTtlSeconds: \u001b[33m60\u001b[39m },\n",
       "    _storageKey: \u001b[32m\"lf_pk-lf-409b1062-497b-47b7-b167-89d267ea9469_langfuse\"\u001b[39m,\n",
       "    _storage: {\n",
       "      getItem: \u001b[36m[Function: getItem]\u001b[39m,\n",
       "      setItem: \u001b[36m[Function: setItem]\u001b[39m,\n",
       "      removeItem: \u001b[36m[Function: removeItem]\u001b[39m,\n",
       "      clear: \u001b[36m[Function: clear]\u001b[39m,\n",
       "      getAllKeys: \u001b[36m[Function: getAllKeys]\u001b[39m\n",
       "    },\n",
       "    _storageCache: { queue: [] },\n",
       "    _flushTimer: \u001b[1mnull\u001b[22m\n",
       "  },\n",
       "  id: \u001b[32m\"c0d4d41c-1b7e-495b-aac5-91c5085c94e9\"\u001b[39m,\n",
       "  traceId: \u001b[32m\"9338804b-516c-4755-8f7d-19d3560e5e9b\"\u001b[39m,\n",
       "  observationId: \u001b[32m\"c0d4d41c-1b7e-495b-aac5-91c5085c94e9\"\u001b[39m\n",
       "}"
      ]
     },
     "execution_count": 29,
     "metadata": {},
     "output_type": "execute_result"
    }
   ],
   "source": [
    "generation.end({\n",
    "  output: responseMessage,\n",
    "});;"
   ]
  },
  {
   "cell_type": "code",
   "execution_count": 30,
   "metadata": {},
   "outputs": [
    {
     "data": {
      "text/plain": [
       "[\n",
       "  {\n",
       "    id: \u001b[32m\"call_q79ZMNDBzAYtp52jwyZ5fjv1\"\u001b[39m,\n",
       "    type: \u001b[32m\"function\"\u001b[39m,\n",
       "    function: { name: \u001b[32m\"add_numbers\"\u001b[39m, arguments: \u001b[32m'{\"num_1\":500,\"num_2\":465}'\u001b[39m }\n",
       "  }\n",
       "]"
      ]
     },
     "execution_count": 30,
     "metadata": {},
     "output_type": "execute_result"
    }
   ],
   "source": [
    "responseMessage.tool_calls"
   ]
  },
  {
   "cell_type": "code",
   "execution_count": 31,
   "metadata": {},
   "outputs": [
    {
     "name": "stdout",
     "output_type": "stream",
     "text": [
      "{ num_1: \u001b[33m500\u001b[39m, num_2: \u001b[33m465\u001b[39m }\n"
     ]
    }
   ],
   "source": [
    "let params\n",
    "if (responseMessage.tool_calls) {\n",
    "    params = JSON.parse(responseMessage.tool_calls[0].function.arguments);\n",
    "    console.log(params)\n",
    "}"
   ]
  },
  {
   "cell_type": "code",
   "execution_count": 32,
   "metadata": {},
   "outputs": [
    {
     "data": {
      "text/plain": [
       "{ num_1: \u001b[33m500\u001b[39m, num_2: \u001b[33m465\u001b[39m }"
      ]
     },
     "execution_count": 32,
     "metadata": {},
     "output_type": "execute_result"
    }
   ],
   "source": [
    "params"
   ]
  },
  {
   "cell_type": "code",
   "execution_count": 33,
   "metadata": {},
   "outputs": [],
   "source": [
    "function addingMachine ({num_1, num_2}) {\n",
    "    return num_1 + num_2\n",
    "}"
   ]
  },
  {
   "cell_type": "code",
   "execution_count": 34,
   "metadata": {},
   "outputs": [
    {
     "name": "stdout",
     "output_type": "stream",
     "text": [
      "\u001b[33m965\u001b[39m\n"
     ]
    }
   ],
   "source": [
    "console.log(addingMachine(params))"
   ]
  },
  {
   "cell_type": "code",
   "execution_count": null,
   "metadata": {},
   "outputs": [],
   "source": []
  }
 ],
 "metadata": {
  "kernelspec": {
   "display_name": "Deno",
   "language": "typescript",
   "name": "deno"
  },
  "language_info": {
   "codemirror_mode": "typescript",
   "file_extension": ".ts",
   "mimetype": "text/x.typescript",
   "name": "typescript",
   "nbconvert_exporter": "script",
   "pygments_lexer": "typescript",
   "version": "5.4.5"
  }
 },
 "nbformat": 4,
 "nbformat_minor": 4
}
