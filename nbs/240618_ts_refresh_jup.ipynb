{
 "cells": [
  {
   "cell_type": "code",
   "execution_count": 1,
   "metadata": {},
   "outputs": [],
   "source": [
    "import { config } from \"https://deno.land/x/dotenv/mod.ts\";\n",
    "import {z} from 'https://deno.land/x/zod@v3.23.8/mod.ts';\n",
    "import { StructuredTool } from \"https://esm.sh/@langchain/core/tools\";\n",
    "import { formatToOpenAITool } from \"https://esm.sh/@langchain/openai\";\n",
    "import OpenAI from \"https://deno.land/x/openai@v4.51.0/mod.ts\";\n",
    "\n",
    "const env = await config(); "
   ]
  },
  {
   "cell_type": "code",
   "execution_count": 2,
   "metadata": {},
   "outputs": [],
   "source": [
    "const OPENAI_API_KEY = env.OPENAI_API_KEY"
   ]
  },
  {
   "cell_type": "code",
   "execution_count": 3,
   "metadata": {},
   "outputs": [],
   "source": [
    "import { ChatOpenAI } from \"https://esm.sh/@langchain/openai\";"
   ]
  },
  {
   "cell_type": "code",
   "execution_count": 4,
   "metadata": {},
   "outputs": [],
   "source": [
    "const openai_client = new OpenAI({apiKey:OPENAI_API_KEY})"
   ]
  },
  {
   "cell_type": "code",
   "execution_count": 5,
   "metadata": {},
   "outputs": [],
   "source": [
    "const client = new ChatOpenAI({apiKey:OPENAI_API_KEY})"
   ]
  },
  {
   "cell_type": "code",
   "execution_count": 6,
   "metadata": {},
   "outputs": [
    {
     "data": {
      "text/plain": [
       "g {\n",
       "  lc_serializable: \u001b[33mtrue\u001b[39m,\n",
       "  lc_kwargs: {\n",
       "    content: \u001b[32m\"Hello! How can I assist you today?\"\u001b[39m,\n",
       "    tool_calls: [],\n",
       "    invalid_tool_calls: [],\n",
       "    additional_kwargs: { function_call: \u001b[90mundefined\u001b[39m, tool_calls: \u001b[90mundefined\u001b[39m },\n",
       "    response_metadata: {}\n",
       "  },\n",
       "  lc_namespace: [ \u001b[32m\"langchain_core\"\u001b[39m, \u001b[32m\"messages\"\u001b[39m ],\n",
       "  content: \u001b[32m\"Hello! How can I assist you today?\"\u001b[39m,\n",
       "  name: \u001b[90mundefined\u001b[39m,\n",
       "  additional_kwargs: { function_call: \u001b[90mundefined\u001b[39m, tool_calls: \u001b[90mundefined\u001b[39m },\n",
       "  response_metadata: {\n",
       "    tokenUsage: { completionTokens: \u001b[33m9\u001b[39m, promptTokens: \u001b[33m9\u001b[39m, totalTokens: \u001b[33m18\u001b[39m },\n",
       "    finish_reason: \u001b[32m\"stop\"\u001b[39m\n",
       "  },\n",
       "  tool_calls: [],\n",
       "  invalid_tool_calls: [],\n",
       "  usage_metadata: { input_tokens: \u001b[33m9\u001b[39m, output_tokens: \u001b[33m9\u001b[39m, total_tokens: \u001b[33m18\u001b[39m }\n",
       "}"
      ]
     },
     "execution_count": 6,
     "metadata": {},
     "output_type": "execute_result"
    }
   ],
   "source": [
    "await client.invoke(\"hi there\")"
   ]
  },
  {
   "cell_type": "code",
   "execution_count": null,
   "metadata": {},
   "outputs": [],
   "source": []
  },
  {
   "cell_type": "code",
   "execution_count": 7,
   "metadata": {},
   "outputs": [],
   "source": [
    "class AddNums extends StructuredTool {\n",
    "    name = \"add numbers\";\n",
    "    description = \"add two numbers together\";\n",
    "\n",
    "    schema =  z.object({\n",
    "        num_1: z.number().describe(\"the first number to add\"),\n",
    "        num_2: z.number().describe(\"the second number to add\"),\n",
    "    })\n",
    "\n",
    "    constructor() {\n",
    "        super();\n",
    "    }\n",
    "\n",
    "    _call(input: z.infer<typeof this['schema']>): Promise<string> {\n",
    "        return Promise.resolve(JSON.stringify(input, null, 2));\n",
    "    } \n",
    "}"
   ]
  },
  {
   "cell_type": "code",
   "execution_count": 8,
   "metadata": {},
   "outputs": [],
   "source": [
    "const tool = new AddNums()"
   ]
  },
  {
   "cell_type": "code",
   "execution_count": 9,
   "metadata": {},
   "outputs": [
    {
     "name": "stdout",
     "output_type": "stream",
     "text": [
      "{\n",
      "  \"num_1\": 3,\n",
      "  \"num_2\": 4\n",
      "}\n"
     ]
    },
    {
     "data": {
      "text/plain": [
       "Promise { \u001b[90mundefined\u001b[39m }"
      ]
     },
     "execution_count": 9,
     "metadata": {},
     "output_type": "execute_result"
    }
   ],
   "source": [
    "tool._call({num_1: 3, num_2: 4}).then(console.log)"
   ]
  },
  {
   "cell_type": "code",
   "execution_count": 10,
   "metadata": {},
   "outputs": [
    {
     "data": {
      "text/plain": [
       "ZodObject {\n",
       "  _type: \u001b[90mundefined\u001b[39m,\n",
       "  _output: \u001b[90mundefined\u001b[39m,\n",
       "  _input: \u001b[90mundefined\u001b[39m,\n",
       "  _def: {\n",
       "    shape: \u001b[36m[Function: shape]\u001b[39m,\n",
       "    unknownKeys: \u001b[32m\"strip\"\u001b[39m,\n",
       "    catchall: ZodNever {\n",
       "      _type: \u001b[90mundefined\u001b[39m,\n",
       "      _output: \u001b[90mundefined\u001b[39m,\n",
       "      _input: \u001b[90mundefined\u001b[39m,\n",
       "      _def: { typeName: \u001b[32m\"ZodNever\"\u001b[39m },\n",
       "      spa: \u001b[36m[Function: bound safeParseAsync] AsyncFunction\u001b[39m,\n",
       "      parse: \u001b[36m[Function: bound parse]\u001b[39m,\n",
       "      safeParse: \u001b[36m[Function: bound safeParse]\u001b[39m,\n",
       "      parseAsync: \u001b[36m[Function: bound parseAsync] AsyncFunction\u001b[39m,\n",
       "      safeParseAsync: \u001b[36m[Function: bound safeParseAsync] AsyncFunction\u001b[39m,\n",
       "      refine: \u001b[36m[Function: bound refine]\u001b[39m,\n",
       "      refinement: \u001b[36m[Function: bound refinement]\u001b[39m,\n",
       "      superRefine: \u001b[36m[Function: bound superRefine]\u001b[39m,\n",
       "      optional: \u001b[36m[Function: bound optional]\u001b[39m,\n",
       "      nullable: \u001b[36m[Function: bound nullable]\u001b[39m,\n",
       "      nullish: \u001b[36m[Function: bound nullish]\u001b[39m,\n",
       "      array: \u001b[36m[Function: bound array]\u001b[39m,\n",
       "      promise: \u001b[36m[Function: bound promise]\u001b[39m,\n",
       "      or: \u001b[36m[Function: bound or]\u001b[39m,\n",
       "      and: \u001b[36m[Function: bound and]\u001b[39m,\n",
       "      transform: \u001b[36m[Function: bound transform]\u001b[39m,\n",
       "      brand: \u001b[36m[Function: bound brand]\u001b[39m,\n",
       "      default: \u001b[36m[Function: bound default]\u001b[39m,\n",
       "      catch: \u001b[36m[Function: bound catch]\u001b[39m,\n",
       "      describe: \u001b[36m[Function: bound describe]\u001b[39m,\n",
       "      pipe: \u001b[36m[Function: bound pipe]\u001b[39m,\n",
       "      readonly: \u001b[36m[Function: bound readonly]\u001b[39m,\n",
       "      isNullable: \u001b[36m[Function: bound isNullable]\u001b[39m,\n",
       "      isOptional: \u001b[36m[Function: bound isOptional]\u001b[39m\n",
       "    },\n",
       "    typeName: \u001b[32m\"ZodObject\"\u001b[39m,\n",
       "    description: \u001b[90mundefined\u001b[39m\n",
       "  },\n",
       "  spa: \u001b[36m[Function: bound safeParseAsync] AsyncFunction\u001b[39m,\n",
       "  parse: \u001b[36m[Function: bound parse]\u001b[39m,\n",
       "  safeParse: \u001b[36m[Function: bound safeParse]\u001b[39m,\n",
       "  parseAsync: \u001b[36m[Function: bound parseAsync] AsyncFunction\u001b[39m,\n",
       "  safeParseAsync: \u001b[36m[Function: bound safeParseAsync] AsyncFunction\u001b[39m,\n",
       "  refine: \u001b[36m[Function: bound refine]\u001b[39m,\n",
       "  refinement: \u001b[36m[Function: bound refinement]\u001b[39m,\n",
       "  superRefine: \u001b[36m[Function: bound superRefine]\u001b[39m,\n",
       "  optional: \u001b[36m[Function: bound optional]\u001b[39m,\n",
       "  nullable: \u001b[36m[Function: bound nullable]\u001b[39m,\n",
       "  nullish: \u001b[36m[Function: bound nullish]\u001b[39m,\n",
       "  array: \u001b[36m[Function: bound array]\u001b[39m,\n",
       "  promise: \u001b[36m[Function: bound promise]\u001b[39m,\n",
       "  or: \u001b[36m[Function: bound or]\u001b[39m,\n",
       "  and: \u001b[36m[Function: bound and]\u001b[39m,\n",
       "  transform: \u001b[36m[Function: bound transform]\u001b[39m,\n",
       "  brand: \u001b[36m[Function: bound brand]\u001b[39m,\n",
       "  default: \u001b[36m[Function: bound default]\u001b[39m,\n",
       "  catch: \u001b[36m[Function: bound catch]\u001b[39m,\n",
       "  describe: \u001b[36m[Function: bound describe]\u001b[39m,\n",
       "  pipe: \u001b[36m[Function: bound pipe]\u001b[39m,\n",
       "  readonly: \u001b[36m[Function: bound readonly]\u001b[39m,\n",
       "  isNullable: \u001b[36m[Function: bound isNullable]\u001b[39m,\n",
       "  isOptional: \u001b[36m[Function: bound isOptional]\u001b[39m,\n",
       "  _cached: \u001b[1mnull\u001b[22m,\n",
       "  nonstrict: \u001b[36m[Function: passthrough]\u001b[39m,\n",
       "  augment: \u001b[36m[Function: extend]\u001b[39m\n",
       "}"
      ]
     },
     "execution_count": 10,
     "metadata": {},
     "output_type": "execute_result"
    }
   ],
   "source": [
    "tool.schema.describe()"
   ]
  },
  {
   "cell_type": "code",
   "execution_count": 11,
   "metadata": {},
   "outputs": [
    {
     "data": {
      "text/plain": [
       "\u001b[32m\"number\"\u001b[39m"
      ]
     },
     "execution_count": 11,
     "metadata": {},
     "output_type": "execute_result"
    }
   ],
   "source": [
    "typeof(3)"
   ]
  },
  {
   "cell_type": "code",
   "execution_count": 12,
   "metadata": {},
   "outputs": [],
   "source": [
    "const addTool = formatToOpenAITool(new AddNums())"
   ]
  },
  {
   "cell_type": "code",
   "execution_count": 13,
   "metadata": {},
   "outputs": [
    {
     "data": {
      "text/plain": [
       "{\n",
       "  type: \u001b[32m\"function\"\u001b[39m,\n",
       "  function: {\n",
       "    name: \u001b[32m\"add numbers\"\u001b[39m,\n",
       "    description: \u001b[32m\"add two numbers together\"\u001b[39m,\n",
       "    parameters: {\n",
       "      type: \u001b[32m\"object\"\u001b[39m,\n",
       "      properties: {\n",
       "        num_1: { type: \u001b[32m\"number\"\u001b[39m, description: \u001b[32m\"the first number to add\"\u001b[39m },\n",
       "        num_2: { type: \u001b[32m\"number\"\u001b[39m, description: \u001b[32m\"the second number to add\"\u001b[39m }\n",
       "      },\n",
       "      required: [ \u001b[32m\"num_1\"\u001b[39m, \u001b[32m\"num_2\"\u001b[39m ],\n",
       "      additionalProperties: \u001b[33mfalse\u001b[39m,\n",
       "      \u001b[32m\"$schema\"\u001b[39m: \u001b[32m\"http://json-schema.org/draft-07/schema#\"\u001b[39m\n",
       "    }\n",
       "  }\n",
       "}"
      ]
     },
     "execution_count": 13,
     "metadata": {},
     "output_type": "execute_result"
    }
   ],
   "source": [
    "addTool"
   ]
  },
  {
   "cell_type": "code",
   "execution_count": 14,
   "metadata": {},
   "outputs": [
    {
     "data": {
      "text/plain": [
       "{\n",
       "  id: \u001b[32m\"chatcmpl-9bVg0LZyhdw5F5uPKegRkbZX4iyZ4\"\u001b[39m,\n",
       "  object: \u001b[32m\"chat.completion\"\u001b[39m,\n",
       "  created: \u001b[33m1718726928\u001b[39m,\n",
       "  model: \u001b[32m\"gpt-3.5-turbo-0125\"\u001b[39m,\n",
       "  choices: [\n",
       "    {\n",
       "      index: \u001b[33m0\u001b[39m,\n",
       "      message: {\n",
       "        role: \u001b[32m\"assistant\"\u001b[39m,\n",
       "        content: \u001b[32m\"Sure! Why couldn't the bicycle stand up by itself?\\n\"\u001b[39m +\n",
       "          \u001b[32m\"\\n\"\u001b[39m +\n",
       "          \u001b[32m\"Because it was two-tired!\"\u001b[39m\n",
       "      },\n",
       "      logprobs: \u001b[1mnull\u001b[22m,\n",
       "      finish_reason: \u001b[32m\"stop\"\u001b[39m\n",
       "    }\n",
       "  ],\n",
       "  usage: { prompt_tokens: \u001b[33m12\u001b[39m, completion_tokens: \u001b[33m19\u001b[39m, total_tokens: \u001b[33m31\u001b[39m },\n",
       "  system_fingerprint: \u001b[1mnull\u001b[22m\n",
       "}"
      ]
     },
     "execution_count": 14,
     "metadata": {},
     "output_type": "execute_result"
    }
   ],
   "source": [
    "await openai_client.chat.completions.create({\n",
    "      messages: [{ role: 'user', content: \"hello tell me a joke\" }],\n",
    "      model: 'gpt-3.5-turbo-0125',\n",
    "    });"
   ]
  },
  {
   "cell_type": "code",
   "execution_count": 15,
   "metadata": {},
   "outputs": [
    {
     "data": {
      "text/plain": [
       "{\n",
       "  type: \u001b[32m\"function\"\u001b[39m,\n",
       "  function: {\n",
       "    name: \u001b[32m\"add numbers\"\u001b[39m,\n",
       "    description: \u001b[32m\"add two numbers together\"\u001b[39m,\n",
       "    parameters: {\n",
       "      type: \u001b[32m\"object\"\u001b[39m,\n",
       "      properties: {\n",
       "        num_1: { type: \u001b[32m\"number\"\u001b[39m, description: \u001b[32m\"the first number to add\"\u001b[39m },\n",
       "        num_2: { type: \u001b[32m\"number\"\u001b[39m, description: \u001b[32m\"the second number to add\"\u001b[39m }\n",
       "      },\n",
       "      required: [ \u001b[32m\"num_1\"\u001b[39m, \u001b[32m\"num_2\"\u001b[39m ],\n",
       "      additionalProperties: \u001b[33mfalse\u001b[39m,\n",
       "      \u001b[32m\"$schema\"\u001b[39m: \u001b[32m\"http://json-schema.org/draft-07/schema#\"\u001b[39m\n",
       "    }\n",
       "  }\n",
       "}"
      ]
     },
     "execution_count": 15,
     "metadata": {},
     "output_type": "execute_result"
    }
   ],
   "source": [
    "addTool"
   ]
  },
  {
   "cell_type": "code",
   "execution_count": 16,
   "metadata": {},
   "outputs": [],
   "source": [
    "let tools = [addTool]"
   ]
  },
  {
   "cell_type": "code",
   "execution_count": 21,
   "metadata": {},
   "outputs": [
    {
     "ename": "Error",
     "evalue": "400 Invalid 'functions[0].name': string does not match pattern. Expected a string that matches the pattern '^[a-zA-Z0-9_-]+$'.",
     "output_type": "error",
     "traceback": [
      "Stack trace:",
      "Error: 400 Invalid 'functions[0].name': string does not match pattern. Expected a string that matches the pattern '^[a-zA-Z0-9_-]+$'.",
      "    at Function.generate (https://deno.land/x/openai@v4.51.0/error.ts:74:14)",
      "    at OpenAI.makeStatusError (https://deno.land/x/openai@v4.51.0/core.ts:453:21)",
      "    at OpenAI.makeRequest (https://deno.land/x/openai@v4.51.0/core.ts:532:24)",
      "    at eventLoopTick (ext:core/01_core.js:168:7)",
      "    at async <anonymous>:1:22"
     ]
    }
   ],
   "source": [
    "await openai_client.chat.completions.create({\n",
    "    model: 'gpt-3.5-turbo-0125',\n",
    "    messages: [{ role: 'user', content: \"Please add the numbers 3 and 50000\" }],\n",
    "    functions: [addTool.function] \n",
    "    });"
   ]
  },
  {
   "cell_type": "code",
   "execution_count": 22,
   "metadata": {},
   "outputs": [
    {
     "data": {
      "text/plain": [
       "{\n",
       "  name: \u001b[32m\"add numbers\"\u001b[39m,\n",
       "  description: \u001b[32m\"add two numbers together\"\u001b[39m,\n",
       "  parameters: {\n",
       "    type: \u001b[32m\"object\"\u001b[39m,\n",
       "    properties: {\n",
       "      num_1: { type: \u001b[32m\"number\"\u001b[39m, description: \u001b[32m\"the first number to add\"\u001b[39m },\n",
       "      num_2: { type: \u001b[32m\"number\"\u001b[39m, description: \u001b[32m\"the second number to add\"\u001b[39m }\n",
       "    },\n",
       "    required: [ \u001b[32m\"num_1\"\u001b[39m, \u001b[32m\"num_2\"\u001b[39m ],\n",
       "    additionalProperties: \u001b[33mfalse\u001b[39m,\n",
       "    \u001b[32m\"$schema\"\u001b[39m: \u001b[32m\"http://json-schema.org/draft-07/schema#\"\u001b[39m\n",
       "  }\n",
       "}"
      ]
     },
     "execution_count": 22,
     "metadata": {},
     "output_type": "execute_result"
    }
   ],
   "source": [
    "addTool.function"
   ]
  }
 ],
 "metadata": {
  "kernelspec": {
   "display_name": "Deno",
   "language": "typescript",
   "name": "deno"
  },
  "language_info": {
   "codemirror_mode": "typescript",
   "file_extension": ".ts",
   "mimetype": "text/x.typescript",
   "name": "typescript",
   "nbconvert_exporter": "script",
   "pygments_lexer": "typescript",
   "version": "5.4.5"
  }
 },
 "nbformat": 4,
 "nbformat_minor": 4
}
