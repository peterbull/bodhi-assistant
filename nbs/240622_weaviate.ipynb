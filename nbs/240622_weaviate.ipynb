{
 "cells": [
  {
   "cell_type": "code",
   "execution_count": 1,
   "id": "ff210161-2a6b-4da3-bdbd-122f191c0333",
   "metadata": {},
   "outputs": [],
   "source": [
    "import weaviate, { vectorizer, generative }from \"https://esm.sh/weaviate-client\";\n"
   ]
  },
  {
   "cell_type": "code",
   "execution_count": 3,
   "id": "58c9aca4-0d3b-4512-a084-67fa5c0dda6b",
   "metadata": {},
   "outputs": [
    {
     "name": "stderr",
     "output_type": "stream",
     "text": [
      "Warning: Not implemented: Http2Session.socket\n"
     ]
    }
   ],
   "source": [
    "const client = await weaviate.connectToLocal('http://localhost:8000')"
   ]
  },
  {
   "cell_type": "code",
   "execution_count": 6,
   "id": "fe63c89a-9de7-43a2-8208-662b35c3bc47",
   "metadata": {},
   "outputs": [
    {
     "name": "stdout",
     "output_type": "stream",
     "text": [
      "Collection Question created!\n"
     ]
    }
   ],
   "source": [
    "async function createCollection() {\n",
    "  const questions = await client.collections.create({\n",
    "    name: 'Question',\n",
    "    vectorizers: vectorizer.text2VecTransformers()\n",
    "  })\n",
    "  console.log(`Collection ${questions.name} created!`);\n",
    "}\n",
    "await createCollection();"
   ]
  },
  {
   "cell_type": "code",
   "execution_count": null,
   "id": "118674d1-9783-4615-a450-d295a0ce9ddc",
   "metadata": {},
   "outputs": [],
   "source": []
  },
  {
   "cell_type": "code",
   "execution_count": 17,
   "id": "bf7d695c-2dd4-4d7f-92b9-6aa92b7f30a0",
   "metadata": {},
   "outputs": [
    {
     "data": {
      "text/plain": [
       "{\n",
       "  backup: {\n",
       "    create: \u001b[36m[Function: create]\u001b[39m,\n",
       "    getCreateStatus: \u001b[36m[Function: t]\u001b[39m,\n",
       "    getRestoreStatus: \u001b[36m[Function: r]\u001b[39m,\n",
       "    restore: \u001b[36m[Function: restore]\u001b[39m\n",
       "  },\n",
       "  cluster: { nodes: \u001b[36m[Function: nodes]\u001b[39m },\n",
       "  collections: {\n",
       "    create: \u001b[36m[Function: create]\u001b[39m,\n",
       "    createFromSchema: \u001b[36m[Function: createFromSchema]\u001b[39m,\n",
       "    delete: \u001b[36m[Function: i]\u001b[39m,\n",
       "    deleteAll: \u001b[36m[Function: deleteAll]\u001b[39m,\n",
       "    exists: \u001b[36m[Function: exists]\u001b[39m,\n",
       "    export: \u001b[36m[Function: export]\u001b[39m,\n",
       "    listAll: \u001b[36m[Function: r]\u001b[39m,\n",
       "    get: \u001b[36m[Function: get]\u001b[39m\n",
       "  },\n",
       "  close: \u001b[36m[Function: close]\u001b[39m,\n",
       "  getMeta: \u001b[36m[Function: getMeta]\u001b[39m,\n",
       "  getOpenIDConfig: \u001b[36m[Function: getOpenIDConfig]\u001b[39m,\n",
       "  getWeaviateVersion: \u001b[36m[Function: getWeaviateVersion]\u001b[39m,\n",
       "  isLive: \u001b[36m[Function: isLive]\u001b[39m,\n",
       "  isReady: \u001b[36m[Function: isReady]\u001b[39m\n",
       "}"
      ]
     },
     "execution_count": 17,
     "metadata": {},
     "output_type": "execute_result"
    }
   ],
   "source": [
    "conn"
   ]
  },
  {
   "cell_type": "code",
   "execution_count": 13,
   "id": "7d69f985-9da5-4f43-9aa0-1b1e5412d74f",
   "metadata": {},
   "outputs": [
    {
     "ename": "Ht",
     "evalue": "Weaviate startup failed with message: Weaviate failed to startup with message: error sending request for url (https://localhost/v1/meta)",
     "output_type": "error",
     "traceback": [
      "Stack trace:",
      "Ht: Weaviate startup failed with message: Weaviate failed to startup with message: error sending request for url (https://localhost/v1/meta)",
      "    at https://esm.sh/v135/weaviate-client@3.0.7/denonext/weaviate-client.mjs:14:281073",
      "    at eventLoopTick (ext:core/01_core.js:168:7)",
      "    at async <anonymous>:1:37"
     ]
    }
   ],
   "source": [
    "const client = await weaviate.connectToWeaviateCloud(\n",
    "    'http://localhost:8000',  // Replace with your Weaviate endpoint\n",
    "    {\n",
    "        authCredentials: new weaviate.ApiKey('YOUR-WEAVIATE-API-KEY'),  // Replacekka with your Weaviate instance API key\n",
    "    }\n",
    ");"
   ]
  },
  {
   "cell_type": "code",
   "execution_count": null,
   "id": "e93c8554-f8b5-4d89-8417-17b6da9137b3",
   "metadata": {},
   "outputs": [],
   "source": [
    "\n",
    "  async connectToWeaviate(): Promise<WeaviateClient> {\n",
    "    const weaviateClient = await weaviate.connectToWeaviateCloud(\n",
    "      'http://weaviate:8080',\n",
    "    );\n",
    "    return weaviateClient;"
   ]
  }
 ],
 "metadata": {
  "kernelspec": {
   "display_name": "Deno",
   "language": "typescript",
   "name": "deno"
  },
  "language_info": {
   "codemirror_mode": "typescript",
   "file_extension": ".ts",
   "mimetype": "text/x.typescript",
   "name": "typescript",
   "nbconvert_exporter": "script",
   "pygments_lexer": "typescript",
   "version": "5.4.5"
  }
 },
 "nbformat": 4,
 "nbformat_minor": 5
}
