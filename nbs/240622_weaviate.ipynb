{
 "cells": [
  {
   "cell_type": "code",
   "execution_count": 1,
   "id": "ff210161-2a6b-4da3-bdbd-122f191c0333",
   "metadata": {},
   "outputs": [],
   "source": [
    "import weaviate, { vectorizer, generative }from \"https://esm.sh/weaviate-client\";\n"
   ]
  },
  {
   "cell_type": "code",
   "execution_count": 3,
   "id": "58c9aca4-0d3b-4512-a084-67fa5c0dda6b",
   "metadata": {},
   "outputs": [
    {
     "name": "stderr",
     "output_type": "stream",
     "text": [
      "Warning: Not implemented: Http2Session.socket\n"
     ]
    }
   ],
   "source": [
    "const client = await weaviate.connectToLocal('http://localhost:8000')"
   ]
  },
  {
   "cell_type": "code",
   "execution_count": 6,
   "id": "fe63c89a-9de7-43a2-8208-662b35c3bc47",
   "metadata": {},
   "outputs": [
    {
     "name": "stdout",
     "output_type": "stream",
     "text": [
      "Collection Question created!\n"
     ]
    }
   ],
   "source": [
    "async function createCollection() {\n",
    "  const questions = await client.collections.create({\n",
    "    name: 'Question',\n",
    "    vectorizers: vectorizer.text2VecTransformers()\n",
    "  })\n",
    "  console.log(`Collection ${questions.name} created!`);\n",
    "}\n",
    "await createCollection();"
   ]
  },
  {
   "cell_type": "code",
   "execution_count": 7,
   "id": "118674d1-9783-4615-a450-d295a0ce9ddc",
   "metadata": {},
   "outputs": [],
   "source": [
    "async function getJsonData() {\n",
    "  const file = await fetch('https://raw.githubusercontent.com/weaviate-tutorials/quickstart/main/data/jeopardy_tiny.json');\n",
    "  return file.json();\n",
    "}"
   ]
  },
  {
   "cell_type": "code",
   "execution_count": 13,
   "id": "bf7d695c-2dd4-4d7f-92b9-6aa92b7f30a0",
   "metadata": {},
   "outputs": [],
   "source": [
    "async function importQuestions() {\n",
    "  // Get the questions directly from the URL\n",
    "  const questions = client.collections.get('biology');\n",
    "  const data = await getJsonData();\n",
    "  const result = await questions.data.insertMany(data)\n",
    "  console.log('We just bulk inserted',result);\n",
    "}"
   ]
  },
  {
   "cell_type": "code",
   "execution_count": 14,
   "id": "6d4cd96d-db0a-490a-8e54-16471a8ecd8e",
   "metadata": {},
   "outputs": [
    {
     "name": "stderr",
     "output_type": "stream",
     "text": [
      "Warning: Not implemented: Http2Session.socket\n"
     ]
    },
    {
     "name": "stdout",
     "output_type": "stream",
     "text": [
      "We just bulk inserted {\n",
      "  uuids: {\n",
      "    \u001b[32m\"0\"\u001b[39m: \u001b[32m\"4977bd42-5b3a-4b3e-b607-1452d673617b\"\u001b[39m,\n",
      "    \u001b[32m\"1\"\u001b[39m: \u001b[32m\"12ce121d-75da-4730-8f8f-d2a1d269aaef\"\u001b[39m,\n",
      "    \u001b[32m\"2\"\u001b[39m: \u001b[32m\"a9971376-8972-408e-8107-c29d4b41708d\"\u001b[39m,\n",
      "    \u001b[32m\"3\"\u001b[39m: \u001b[32m\"3ca75c4d-6727-4da0-944c-ff7af4b3a67b\"\u001b[39m,\n",
      "    \u001b[32m\"4\"\u001b[39m: \u001b[32m\"c16e303b-0335-4375-a7ff-309d8a73fca5\"\u001b[39m,\n",
      "    \u001b[32m\"5\"\u001b[39m: \u001b[32m\"a7fcd5d6-0c56-43c4-9abe-ed2ab2561dcf\"\u001b[39m,\n",
      "    \u001b[32m\"6\"\u001b[39m: \u001b[32m\"df6fde80-39b9-4dad-adb3-6febd9375188\"\u001b[39m,\n",
      "    \u001b[32m\"7\"\u001b[39m: \u001b[32m\"54df49ed-e2c2-417e-a157-0bb6abb90d3f\"\u001b[39m,\n",
      "    \u001b[32m\"8\"\u001b[39m: \u001b[32m\"40075ade-9d43-43c7-acc2-9b2505091b5f\"\u001b[39m,\n",
      "    \u001b[32m\"9\"\u001b[39m: \u001b[32m\"8062290a-1d09-47df-a41a-a8a0114a9252\"\u001b[39m\n",
      "  },\n",
      "  errors: {},\n",
      "  hasErrors: \u001b[33mfalse\u001b[39m,\n",
      "  allResponses: [\n",
      "    \u001b[32m\"4977bd42-5b3a-4b3e-b607-1452d673617b\"\u001b[39m,\n",
      "    \u001b[32m\"12ce121d-75da-4730-8f8f-d2a1d269aaef\"\u001b[39m,\n",
      "    \u001b[32m\"a9971376-8972-408e-8107-c29d4b41708d\"\u001b[39m,\n",
      "    \u001b[32m\"3ca75c4d-6727-4da0-944c-ff7af4b3a67b\"\u001b[39m,\n",
      "    \u001b[32m\"c16e303b-0335-4375-a7ff-309d8a73fca5\"\u001b[39m,\n",
      "    \u001b[32m\"a7fcd5d6-0c56-43c4-9abe-ed2ab2561dcf\"\u001b[39m,\n",
      "    \u001b[32m\"df6fde80-39b9-4dad-adb3-6febd9375188\"\u001b[39m,\n",
      "    \u001b[32m\"54df49ed-e2c2-417e-a157-0bb6abb90d3f\"\u001b[39m,\n",
      "    \u001b[32m\"40075ade-9d43-43c7-acc2-9b2505091b5f\"\u001b[39m,\n",
      "    \u001b[32m\"8062290a-1d09-47df-a41a-a8a0114a9252\"\u001b[39m\n",
      "  ],\n",
      "  elapsedSeconds: \u001b[33m1790\u001b[39m\n",
      "}\n"
     ]
    }
   ],
   "source": [
    "await importQuestions();"
   ]
  },
  {
   "cell_type": "code",
   "execution_count": 15,
   "id": "789230c8-bc04-4e98-9613-016f796778d3",
   "metadata": {},
   "outputs": [
    {
     "name": "stderr",
     "output_type": "stream",
     "text": [
      "Warning: Not implemented: Http2Session.socket\n"
     ]
    },
    {
     "name": "stdout",
     "output_type": "stream",
     "text": [
      "{\n",
      "  \"answer\": \"the atmosphere\",\n",
      "  \"category\": \"SCIENCE\",\n",
      "  \"question\": \"Changes in the tropospheric layer of this are what gives us weather\"\n",
      "}\n",
      "{\n",
      "  \"question\": \"In 70-degree air, a plane traveling at about 1,130 feet per second breaks it\",\n",
      "  \"answer\": \"Sound barrier\",\n",
      "  \"category\": \"SCIENCE\"\n",
      "}\n",
      "{\n",
      "  \"category\": \"ANIMALS\",\n",
      "  \"question\": \"The gavial looks very much like a crocodile except for this bodily feature\",\n",
      "  \"answer\": \"the nose or snout\"\n",
      "}\n",
      "{\n",
      "  \"question\": \"A metal that is ductile can be pulled into this while cold & under pressure\",\n",
      "  \"answer\": \"wire\",\n",
      "  \"category\": \"SCIENCE\"\n",
      "}\n",
      "{\n",
      "  \"answer\": \"Liver\",\n",
      "  \"category\": \"SCIENCE\",\n",
      "  \"question\": \"This organ removes excess glucose from the blood & stores it as glycogen\"\n",
      "}\n",
      "{\n",
      "  \"category\": \"SCIENCE\",\n",
      "  \"question\": \"2000 news: the Gunnison sage grouse isn't just another northern sage grouse, but a new one of this classification\",\n",
      "  \"answer\": \"species\"\n",
      "}\n",
      "{\n",
      "  \"question\": \"It's the only living mammal in the order Proboseidea\",\n",
      "  \"answer\": \"Elephant\",\n",
      "  \"category\": \"ANIMALS\"\n",
      "}\n",
      "{\n",
      "  \"category\": \"ANIMALS\",\n",
      "  \"question\": \"Heaviest of all poisonous snakes is this North American rattlesnake\",\n",
      "  \"answer\": \"the diamondback rattler\"\n",
      "}\n",
      "{\n",
      "  \"question\": \"In 1953 Watson & Crick built a model of the molecular structure of this, the gene-carrying substance\",\n",
      "  \"answer\": \"DNA\",\n",
      "  \"category\": \"SCIENCE\"\n",
      "}\n",
      "{\n",
      "  \"question\": \"Weighing around a ton, the eland is the largest species of this animal in Africa\",\n",
      "  \"answer\": \"Antelope\",\n",
      "  \"category\": \"ANIMALS\"\n",
      "}\n"
     ]
    },
    {
     "data": {
      "text/plain": [
       "{\n",
       "  objects: [\n",
       "    {\n",
       "      metadata: {},\n",
       "      properties: {\n",
       "        answer: \u001b[32m\"the atmosphere\"\u001b[39m,\n",
       "        category: \u001b[32m\"SCIENCE\"\u001b[39m,\n",
       "        question: \u001b[32m\"Changes in the tropospheric layer of this are what gives us weather\"\u001b[39m\n",
       "      },\n",
       "      references: \u001b[90mundefined\u001b[39m,\n",
       "      uuid: \u001b[32m\"c7afc0da-012e-4fcf-9dde-84f869774d8c\"\u001b[39m,\n",
       "      vectors: {}\n",
       "    },\n",
       "    {\n",
       "      metadata: {},\n",
       "      properties: {\n",
       "        question: \u001b[32m\"In 70-degree air, a plane traveling at about 1,130 feet per second breaks it\"\u001b[39m,\n",
       "        answer: \u001b[32m\"Sound barrier\"\u001b[39m,\n",
       "        category: \u001b[32m\"SCIENCE\"\u001b[39m\n",
       "      },\n",
       "      references: \u001b[90mundefined\u001b[39m,\n",
       "      uuid: \u001b[32m\"55ee8192-f2ac-43b7-beb9-434a5af9865e\"\u001b[39m,\n",
       "      vectors: {}\n",
       "    },\n",
       "    {\n",
       "      metadata: {},\n",
       "      properties: {\n",
       "        category: \u001b[32m\"ANIMALS\"\u001b[39m,\n",
       "        question: \u001b[32m\"The gavial looks very much like a crocodile except for this bodily feature\"\u001b[39m,\n",
       "        answer: \u001b[32m\"the nose or snout\"\u001b[39m\n",
       "      },\n",
       "      references: \u001b[90mundefined\u001b[39m,\n",
       "      uuid: \u001b[32m\"d415f4b1-c637-445f-9bf4-17d645664240\"\u001b[39m,\n",
       "      vectors: {}\n",
       "    },\n",
       "    {\n",
       "      metadata: {},\n",
       "      properties: {\n",
       "        question: \u001b[32m\"A metal that is ductile can be pulled into this while cold & under pressure\"\u001b[39m,\n",
       "        answer: \u001b[32m\"wire\"\u001b[39m,\n",
       "        category: \u001b[32m\"SCIENCE\"\u001b[39m\n",
       "      },\n",
       "      references: \u001b[90mundefined\u001b[39m,\n",
       "      uuid: \u001b[32m\"304abd3f-646b-4419-980e-4877d783d7e8\"\u001b[39m,\n",
       "      vectors: {}\n",
       "    },\n",
       "    {\n",
       "      metadata: {},\n",
       "      properties: {\n",
       "        answer: \u001b[32m\"Liver\"\u001b[39m,\n",
       "        category: \u001b[32m\"SCIENCE\"\u001b[39m,\n",
       "        question: \u001b[32m\"This organ removes excess glucose from the blood & stores it as glycogen\"\u001b[39m\n",
       "      },\n",
       "      references: \u001b[90mundefined\u001b[39m,\n",
       "      uuid: \u001b[32m\"f1f8f81f-729c-4370-a9d6-d2bb3c6383b4\"\u001b[39m,\n",
       "      vectors: {}\n",
       "    },\n",
       "    {\n",
       "      metadata: {},\n",
       "      properties: {\n",
       "        category: \u001b[32m\"SCIENCE\"\u001b[39m,\n",
       "        question: \u001b[32m\"2000 news: the Gunnison sage grouse isn't just another northern sage grouse, but a new one of this classification\"\u001b[39m,\n",
       "        answer: \u001b[32m\"species\"\u001b[39m\n",
       "      },\n",
       "      references: \u001b[90mundefined\u001b[39m,\n",
       "      uuid: \u001b[32m\"2e5d1ad3-e50c-4992-8f3e-87aba76c6bad\"\u001b[39m,\n",
       "      vectors: {}\n",
       "    },\n",
       "    {\n",
       "      metadata: {},\n",
       "      properties: {\n",
       "        question: \u001b[32m\"It's the only living mammal in the order Proboseidea\"\u001b[39m,\n",
       "        answer: \u001b[32m\"Elephant\"\u001b[39m,\n",
       "        category: \u001b[32m\"ANIMALS\"\u001b[39m\n",
       "      },\n",
       "      references: \u001b[90mundefined\u001b[39m,\n",
       "      uuid: \u001b[32m\"219251a6-6eba-4a12-8bf1-73100e97a3dd\"\u001b[39m,\n",
       "      vectors: {}\n",
       "    },\n",
       "    {\n",
       "      metadata: {},\n",
       "      properties: {\n",
       "        category: \u001b[32m\"ANIMALS\"\u001b[39m,\n",
       "        question: \u001b[32m\"Heaviest of all poisonous snakes is this North American rattlesnake\"\u001b[39m,\n",
       "        answer: \u001b[32m\"the diamondback rattler\"\u001b[39m\n",
       "      },\n",
       "      references: \u001b[90mundefined\u001b[39m,\n",
       "      uuid: \u001b[32m\"7e2ef2ed-37fa-4a56-b116-2e2038e4b37e\"\u001b[39m,\n",
       "      vectors: {}\n",
       "    },\n",
       "    {\n",
       "      metadata: {},\n",
       "      properties: {\n",
       "        question: \u001b[32m\"In 1953 Watson & Crick built a model of the molecular structure of this, the gene-carrying substance\"\u001b[39m,\n",
       "        answer: \u001b[32m\"DNA\"\u001b[39m,\n",
       "        category: \u001b[32m\"SCIENCE\"\u001b[39m\n",
       "      },\n",
       "      references: \u001b[90mundefined\u001b[39m,\n",
       "      uuid: \u001b[32m\"d4559edb-6a75-4d5f-99fa-606a61fa6157\"\u001b[39m,\n",
       "      vectors: {}\n",
       "    },\n",
       "    {\n",
       "      metadata: {},\n",
       "      properties: {\n",
       "        question: \u001b[32m\"Weighing around a ton, the eland is the largest species of this animal in Africa\"\u001b[39m,\n",
       "        answer: \u001b[32m\"Antelope\"\u001b[39m,\n",
       "        category: \u001b[32m\"ANIMALS\"\u001b[39m\n",
       "      },\n",
       "      references: \u001b[90mundefined\u001b[39m,\n",
       "      uuid: \u001b[32m\"e369c7d2-e62c-4107-9ebd-ef5f7b009bc5\"\u001b[39m,\n",
       "      vectors: {}\n",
       "    }\n",
       "  ]\n",
       "}"
      ]
     },
     "execution_count": 15,
     "metadata": {},
     "output_type": "execute_result"
    }
   ],
   "source": [
    "async function nearTextQuery() {  \n",
    "  const questions = client.collections.get('Question');\n",
    "\n",
    "  const result = await questions.query.nearText('cooking', {\n",
    "    limit:10\n",
    "  });\n",
    "\n",
    "  for (let object of result.objects) {\n",
    "    console.log(JSON.stringify(object.properties, null, 2));\n",
    "  }\n",
    "\n",
    "  return result;\n",
    "}\n",
    "await nearTextQuery();"
   ]
  },
  {
   "cell_type": "code",
   "execution_count": null,
   "id": "3ace3d90-a0b7-4ed9-ba8f-e5f8f1ee957f",
   "metadata": {},
   "outputs": [],
   "source": []
  }
 ],
 "metadata": {
  "kernelspec": {
   "display_name": "Deno",
   "language": "typescript",
   "name": "deno"
  },
  "language_info": {
   "codemirror_mode": "typescript",
   "file_extension": ".ts",
   "mimetype": "text/x.typescript",
   "name": "typescript",
   "nbconvert_exporter": "script",
   "pygments_lexer": "typescript",
   "version": "5.4.5"
  }
 },
 "nbformat": 4,
 "nbformat_minor": 5
}
