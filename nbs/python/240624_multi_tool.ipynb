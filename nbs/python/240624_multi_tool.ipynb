{
 "cells": [
  {
   "cell_type": "code",
   "execution_count": 32,
   "metadata": {},
   "outputs": [],
   "source": [
    "from anthropic.types import Message, TextBlock, ToolUseBlock\n",
    "from claudette.core import *\n",
    "from fastcore.meta import delegates\n",
    "from fastcore.utils import *"
   ]
  },
  {
   "cell_type": "code",
   "execution_count": 3,
   "metadata": {},
   "outputs": [],
   "source": [
    "model = models[-1]\n"
   ]
  },
  {
   "cell_type": "code",
   "execution_count": 4,
   "metadata": {},
   "outputs": [
    {
     "data": {
      "text/plain": [
       "'claude-3-haiku-20240307'"
      ]
     },
     "execution_count": 4,
     "metadata": {},
     "output_type": "execute_result"
    }
   ],
   "source": [
    "model"
   ]
  },
  {
   "cell_type": "code",
   "execution_count": 5,
   "metadata": {},
   "outputs": [],
   "source": [
    "orders = {\n",
    "    \"O1\": dict(id=\"O1\", product=\"Widget A\", quantity=2, price=19.99, status=\"Shipped\"),\n",
    "    \"O2\": dict(id=\"O2\", product=\"Gadget B\", quantity=1, price=49.99, status=\"Processing\"),\n",
    "    \"O3\": dict(id=\"O3\", product=\"Gadget B\", quantity=2, price=49.99, status=\"Shipped\")}\n",
    "\n",
    "customers = {\n",
    "    \"C1\": dict(name=\"John Doe\", email=\"john@example.com\", phone=\"123-456-7890\",\n",
    "               orders=[orders['O1'], orders['O2']]),\n",
    "    \"C2\": dict(name=\"Jane Smith\", email=\"jane@example.com\", phone=\"987-654-3210\",\n",
    "               orders=[orders['O3']])\n",
    "}"
   ]
  },
  {
   "cell_type": "code",
   "execution_count": 7,
   "metadata": {},
   "outputs": [
    {
     "data": {
      "text/plain": [
       "{'O1': {'id': 'O1',\n",
       "  'product': 'Widget A',\n",
       "  'quantity': 2,\n",
       "  'price': 19.99,\n",
       "  'status': 'Shipped'},\n",
       " 'O2': {'id': 'O2',\n",
       "  'product': 'Gadget B',\n",
       "  'quantity': 1,\n",
       "  'price': 49.99,\n",
       "  'status': 'Processing'},\n",
       " 'O3': {'id': 'O3',\n",
       "  'product': 'Gadget B',\n",
       "  'quantity': 2,\n",
       "  'price': 49.99,\n",
       "  'status': 'Shipped'}}"
      ]
     },
     "execution_count": 7,
     "metadata": {},
     "output_type": "execute_result"
    }
   ],
   "source": [
    "orders"
   ]
  },
  {
   "cell_type": "code",
   "execution_count": 8,
   "metadata": {},
   "outputs": [],
   "source": [
    "def get_customer_info(\n",
    "    customer_id:str # ID of the customer\n",
    "): # Customer's name, email, phone number, and list of orders\n",
    "    \"Retrieves a customer's information and their orders based on the customer ID\"\n",
    "    print(f'- Retrieving customer {customer_id}')\n",
    "    return customers.get(customer_id, \"Customer not found\")\n",
    "\n",
    "def get_order_details(\n",
    "    order_id:str # ID of the order\n",
    "): # Order's ID, product name, quantity, price, and order status\n",
    "    \"Retrieves the details of a specific order based on the order ID\"\n",
    "    print(f'- Retrieving order {order_id}')\n",
    "    return orders.get(order_id, \"Order not found\")\n",
    "\n",
    "def cancel_order(\n",
    "    order_id:str # ID of the order to cancel\n",
    ")->bool: # True if the cancellation is successful\n",
    "    \"Cancels an order based on the provided order ID\"\n",
    "    print(f'- Cancelling order {order_id}')\n",
    "    if order_id not in orders: return False\n",
    "    orders[order_id]['status'] = 'Cancelled'\n",
    "    return True"
   ]
  },
  {
   "cell_type": "code",
   "execution_count": 9,
   "metadata": {},
   "outputs": [],
   "source": [
    "tools = [get_customer_info, get_order_details, cancel_order]\n",
    "chat = Chat(model, tools=tools)"
   ]
  },
  {
   "cell_type": "code",
   "execution_count": 10,
   "metadata": {},
   "outputs": [
    {
     "name": "stdout",
     "output_type": "stream",
     "text": [
      "- Retrieving customer C1\n",
      "tool_use\n"
     ]
    },
    {
     "data": {
      "text/plain": [
       "[ToolUseBlock(id='toolu_01UZ7q7dkbBUEEbFvitUu87L', input={'customer_id': 'C1'}, name='get_customer_info', type='tool_use')]"
      ]
     },
     "execution_count": 10,
     "metadata": {},
     "output_type": "execute_result"
    }
   ],
   "source": [
    "r = chat('Can you tell me the email address for customer C1?')\n",
    "print(r.stop_reason)\n",
    "r.content\n",
    "     "
   ]
  },
  {
   "cell_type": "code",
   "execution_count": 20,
   "metadata": {},
   "outputs": [
    {
     "name": "stdout",
     "output_type": "stream",
     "text": [
      "- Retrieving customer C1\n"
     ]
    },
    {
     "data": {
      "text/plain": [
       "{'name': 'John Doe',\n",
       " 'email': 'john@example.com',\n",
       " 'phone': '123-456-7890',\n",
       " 'orders': [{'id': 'O1',\n",
       "   'product': 'Widget A',\n",
       "   'quantity': 2,\n",
       "   'price': 19.99,\n",
       "   'status': 'Cancelled'},\n",
       "  {'id': 'O2',\n",
       "   'product': 'Gadget B',\n",
       "   'quantity': 1,\n",
       "   'price': 49.99,\n",
       "   'status': 'Cancelled'}]}"
      ]
     },
     "execution_count": 20,
     "metadata": {},
     "output_type": "execute_result"
    }
   ],
   "source": [
    "get_customer_info('C1')"
   ]
  },
  {
   "cell_type": "code",
   "execution_count": 11,
   "metadata": {},
   "outputs": [],
   "source": [
    "r = chat()"
   ]
  },
  {
   "cell_type": "code",
   "execution_count": 12,
   "metadata": {},
   "outputs": [
    {
     "data": {
      "text/plain": [
       "'The email address for customer C1 is john@example.com.'"
      ]
     },
     "execution_count": 12,
     "metadata": {},
     "output_type": "execute_result"
    }
   ],
   "source": [
    "contents(r)"
   ]
  },
  {
   "cell_type": "code",
   "execution_count": 13,
   "metadata": {},
   "outputs": [],
   "source": [
    "chat = Chat(model, tools=tools)"
   ]
  },
  {
   "cell_type": "code",
   "execution_count": 14,
   "metadata": {},
   "outputs": [
    {
     "name": "stdout",
     "output_type": "stream",
     "text": [
      "- Retrieving customer C1\n"
     ]
    }
   ],
   "source": [
    "r = chat(\"Please cancel all orders for customer C1 for me.\")"
   ]
  },
  {
   "cell_type": "code",
   "execution_count": 15,
   "metadata": {},
   "outputs": [
    {
     "data": {
      "text/plain": [
       "'tool_use'"
      ]
     },
     "execution_count": 15,
     "metadata": {},
     "output_type": "execute_result"
    }
   ],
   "source": [
    "r.stop_reason"
   ]
  },
  {
   "cell_type": "code",
   "execution_count": 17,
   "metadata": {},
   "outputs": [
    {
     "data": {
      "text/plain": [
       "[TextBlock(text=\"Okay, let's cancel all orders for customer C1:\", type='text'),\n",
       " ToolUseBlock(id='toolu_01TuVzBRLTecVGux3a3DVVBs', input={'customer_id': 'C1'}, name='get_customer_info', type='tool_use')]"
      ]
     },
     "execution_count": 17,
     "metadata": {},
     "output_type": "execute_result"
    }
   ],
   "source": [
    "r.content"
   ]
  },
  {
   "cell_type": "code",
   "execution_count": 18,
   "metadata": {},
   "outputs": [
    {
     "name": "stdout",
     "output_type": "stream",
     "text": [
      "- Retrieving customer C1\n"
     ]
    },
    {
     "data": {
      "text/markdown": [
       "The email address for customer C1 is john@example.com.\n",
       "\n",
       "<details>\n",
       "\n",
       "- id: msg_01HY1mhR62SWyexjzkzQLrWS\n",
       "- content: [{'text': 'The email address for customer C1 is john@example.com.', 'type': 'text'}]\n",
       "- model: claude-3-haiku-20240307\n",
       "- role: assistant\n",
       "- stop_reason: end_turn\n",
       "- stop_sequence: None\n",
       "- type: message\n",
       "- usage: {'input_tokens': 732, 'output_tokens': 19}\n",
       "\n",
       "</details>"
      ],
      "text/plain": [
       "Message(id='msg_01HY1mhR62SWyexjzkzQLrWS', content=[TextBlock(text='The email address for customer C1 is john@example.com.', type='text')], model='claude-3-haiku-20240307', role='assistant', stop_reason='end_turn', stop_sequence=None, type='message', usage=In: 732; Out: 19; Total: 751)"
      ]
     },
     "execution_count": 18,
     "metadata": {},
     "output_type": "execute_result"
    }
   ],
   "source": [
    "\n",
    "chat = Chat(model, tools=tools)\n",
    "r = chat.toolloop('Can you tell me the email address for customer C1?')\n",
    "r"
   ]
  },
  {
   "cell_type": "code",
   "execution_count": 44,
   "metadata": {},
   "outputs": [
    {
     "data": {
      "text/plain": [
       "[<function __main__.get_customer_info(customer_id: str)>,\n",
       " <function __main__.get_order_details(order_id: str)>,\n",
       " <function __main__.cancel_order(order_id: str) -> bool>]"
      ]
     },
     "execution_count": 44,
     "metadata": {},
     "output_type": "execute_result"
    }
   ],
   "source": [
    "tools"
   ]
  },
  {
   "cell_type": "code",
   "execution_count": 22,
   "metadata": {},
   "outputs": [
    {
     "name": "stdout",
     "output_type": "stream",
     "text": [
      "- Retrieving customer C1\n",
      "Message(id='msg_01D8oJb8DxUWnhFAuvhMbsTp', content=[TextBlock(text=\"Okay, let's cancel all orders for customer C1:\", type='text'), ToolUseBlock(id='toolu_011KAJ7YbLdraqHUyg6DA1ZK', input={'customer_id': 'C1'}, name='get_customer_info', type='tool_use')], model='claude-3-haiku-20240307', role='assistant', stop_reason='tool_use', stop_sequence=None, type='message', usage=In: 537; Out: 72; Total: 609)\n",
      "- Cancelling order O1\n",
      "- Cancelling order O2\n",
      "Message(id='msg_01C9XXzFn66PZnr6nXnrkA5z', content=[TextBlock(text=\"Based on the customer information, it looks like there are 2 orders for customer C1:\\n- Order O1 for Widget A\\n- Order O2 for Gadget B\\n\\nLet's cancel both of these orders:\", type='text'), ToolUseBlock(id='toolu_015zF2QPELBh9jzsy19X8u2Y', input={'order_id': 'O1'}, name='cancel_order', type='tool_use'), ToolUseBlock(id='toolu_015Qx73PwE5MWLWaHvhQNGiw', input={'order_id': 'O2'}, name='cancel_order', type='tool_use')], model='claude-3-haiku-20240307', role='assistant', stop_reason='tool_use', stop_sequence=None, type='message', usage=In: 746; Out: 146; Total: 892)\n",
      "Message(id='msg_01QFDcsFPMhWahV7efBL9YRd', content=[TextBlock(text='The cancellation of both orders was successful. All orders for customer C1 have now been cancelled.', type='text')], model='claude-3-haiku-20240307', role='assistant', stop_reason='end_turn', stop_sequence=None, type='message', usage=In: 956; Out: 25; Total: 981)\n"
     ]
    },
    {
     "data": {
      "text/markdown": [
       "The cancellation of both orders was successful. All orders for customer C1 have now been cancelled.\n",
       "\n",
       "<details>\n",
       "\n",
       "- id: msg_01QFDcsFPMhWahV7efBL9YRd\n",
       "- content: [{'text': 'The cancellation of both orders was successful. All orders for customer C1 have now been cancelled.', 'type': 'text'}]\n",
       "- model: claude-3-haiku-20240307\n",
       "- role: assistant\n",
       "- stop_reason: end_turn\n",
       "- stop_sequence: None\n",
       "- type: message\n",
       "- usage: {'input_tokens': 956, 'output_tokens': 25}\n",
       "\n",
       "</details>"
      ],
      "text/plain": [
       "Message(id='msg_01QFDcsFPMhWahV7efBL9YRd', content=[TextBlock(text='The cancellation of both orders was successful. All orders for customer C1 have now been cancelled.', type='text')], model='claude-3-haiku-20240307', role='assistant', stop_reason='end_turn', stop_sequence=None, type='message', usage=In: 956; Out: 25; Total: 981)"
      ]
     },
     "execution_count": 22,
     "metadata": {},
     "output_type": "execute_result"
    }
   ],
   "source": [
    "chat = Chat(model, tools=tools)\n",
    "r = chat.toolloop('Please cancel all orders for customer C1 for me.', trace_func=print)\n",
    "r"
   ]
  },
  {
   "cell_type": "code",
   "execution_count": 24,
   "metadata": {},
   "outputs": [
    {
     "name": "stdout",
     "output_type": "stream",
     "text": [
      "- Retrieving customer C1\n"
     ]
    },
    {
     "data": {
      "text/plain": [
       "{'name': 'John Doe',\n",
       " 'email': 'john@example.com',\n",
       " 'phone': '123-456-7890',\n",
       " 'orders': [{'id': 'O1',\n",
       "   'product': 'Widget A',\n",
       "   'quantity': 2,\n",
       "   'price': 19.99,\n",
       "   'status': 'Cancelled'},\n",
       "  {'id': 'O2',\n",
       "   'product': 'Gadget B',\n",
       "   'quantity': 1,\n",
       "   'price': 49.99,\n",
       "   'status': 'Cancelled'}]}"
      ]
     },
     "execution_count": 24,
     "metadata": {},
     "output_type": "execute_result"
    }
   ],
   "source": [
    "get_customer_info('C1')"
   ]
  },
  {
   "cell_type": "code",
   "execution_count": 25,
   "metadata": {},
   "outputs": [
    {
     "data": {
      "text/plain": [
       "{'O1': {'id': 'O1',\n",
       "  'product': 'Widget A',\n",
       "  'quantity': 2,\n",
       "  'price': 19.99,\n",
       "  'status': 'Cancelled'},\n",
       " 'O2': {'id': 'O2',\n",
       "  'product': 'Gadget B',\n",
       "  'quantity': 1,\n",
       "  'price': 49.99,\n",
       "  'status': 'Cancelled'},\n",
       " 'O3': {'id': 'O3',\n",
       "  'product': 'Gadget B',\n",
       "  'quantity': 2,\n",
       "  'price': 49.99,\n",
       "  'status': 'Shipped'}}"
      ]
     },
     "execution_count": 25,
     "metadata": {},
     "output_type": "execute_result"
    }
   ],
   "source": [
    "orders"
   ]
  },
  {
   "cell_type": "code",
   "execution_count": 23,
   "metadata": {},
   "outputs": [
    {
     "data": {
      "text/plain": [
       "In: 2239; Out: 243; Total: 2482"
      ]
     },
     "execution_count": 23,
     "metadata": {},
     "output_type": "execute_result"
    }
   ],
   "source": [
    "chat.use"
   ]
  },
  {
   "cell_type": "code",
   "execution_count": 26,
   "metadata": {},
   "outputs": [
    {
     "data": {
      "text/plain": [
       "In: 2239; Out: 243; Total: 2482"
      ]
     },
     "execution_count": 26,
     "metadata": {},
     "output_type": "execute_result"
    }
   ],
   "source": [
    "chat.use"
   ]
  },
  {
   "cell_type": "code",
   "execution_count": 27,
   "metadata": {},
   "outputs": [
    {
     "name": "stdout",
     "output_type": "stream",
     "text": [
      "- Retrieving order O2\n"
     ]
    },
    {
     "data": {
      "text/markdown": [
       "The status of Order O2 is 'Cancelled'. This matches the information we saw earlier when retrieving the customer's order details.\n",
       "\n",
       "So in summary, Order O2 for Gadget B has been successfully cancelled.\n",
       "\n",
       "<details>\n",
       "\n",
       "- id: msg_01YRt3MNzcyYjG1hJtAammzh\n",
       "- content: [{'text': \"The status of Order O2 is 'Cancelled'. This matches the information we saw earlier when retrieving the customer's order details.\\n\\nSo in summary, Order O2 for Gadget B has been successfully cancelled.\", 'type': 'text'}]\n",
       "- model: claude-3-haiku-20240307\n",
       "- role: assistant\n",
       "- stop_reason: end_turn\n",
       "- stop_sequence: None\n",
       "- type: message\n",
       "- usage: {'input_tokens': 1120, 'output_tokens': 52}\n",
       "\n",
       "</details>"
      ],
      "text/plain": [
       "Message(id='msg_01YRt3MNzcyYjG1hJtAammzh', content=[TextBlock(text=\"The status of Order O2 is 'Cancelled'. This matches the information we saw earlier when retrieving the customer's order details.\\n\\nSo in summary, Order O2 for Gadget B has been successfully cancelled.\", type='text')], model='claude-3-haiku-20240307', role='assistant', stop_reason='end_turn', stop_sequence=None, type='message', usage=In: 1120; Out: 52; Total: 1172)"
      ]
     },
     "execution_count": 27,
     "metadata": {},
     "output_type": "execute_result"
    }
   ],
   "source": [
    "chat.toolloop(\"What is the status of Order 02?\")"
   ]
  },
  {
   "cell_type": "markdown",
   "metadata": {},
   "source": [
    "## Need to Watch runaway costs with `Chat` obj, it stores the entire history "
   ]
  },
  {
   "cell_type": "code",
   "execution_count": 28,
   "metadata": {},
   "outputs": [
    {
     "data": {
      "text/plain": [
       "In: 4352; Out: 367; Total: 4719"
      ]
     },
     "execution_count": 28,
     "metadata": {},
     "output_type": "execute_result"
    }
   ],
   "source": [
    "chat.use"
   ]
  },
  {
   "cell_type": "markdown",
   "metadata": {},
   "source": [
    "## Code Interpreter"
   ]
  },
  {
   "cell_type": "code",
   "execution_count": 29,
   "metadata": {},
   "outputs": [],
   "source": [
    "from toolslm.shell import get_shell\n",
    "from fastcore.meta import delegates\n",
    "import traceback"
   ]
  },
  {
   "cell_type": "code",
   "execution_count": 33,
   "metadata": {},
   "outputs": [],
   "source": [
    "@delegates()\n",
    "class CodeChat(Chat):\n",
    "    imps = 'os, warnings, time, json, re, math, collections, itertools, functools, dateutil, datetime, string, types, copy, pprint, enum, numbers, decimal, fractions, random, operator, typing, dataclasses'\n",
    "    def __init__(self, model: Optional[str] = None, ask:bool=True, **kwargs):\n",
    "        super().__init__(model=model, **kwargs)\n",
    "        self.ask = ask\n",
    "        self.tools.append(self.run_cell)\n",
    "        self.shell = get_shell()\n",
    "        self.shell.run_cell('import '+self.imps)"
   ]
  },
  {
   "cell_type": "code",
   "execution_count": 34,
   "metadata": {},
   "outputs": [],
   "source": [
    "\n",
    "@patch\n",
    "def run_cell(\n",
    "    self:CodeChat,\n",
    "    code:str,   # Code to execute in persistent IPython session\n",
    "): # Result of expression on last line (if exists); '#DECLINED#' if user declines request to execute\n",
    "    \"Asks user for permission, and if provided, executes python `code` using persistent IPython session.\"\n",
    "    confirm = f'Press Enter to execute, or enter \"n\" to skip?\\n```\\n{code}\\n```\\n'\n",
    "    if self.ask and input(confirm): return '#DECLINED#'\n",
    "    try: res = self.shell.run_cell(code)\n",
    "    except Exception as e: return traceback.format_exc()\n",
    "    return res.stdout if res.result is None else res.result"
   ]
  },
  {
   "cell_type": "code",
   "execution_count": 35,
   "metadata": {},
   "outputs": [],
   "source": [
    "sp = f'''You are a knowledgable assistant. Do not use tools unless needed.\n",
    "Don't do complex calculations yourself -- use code for them.\n",
    "The following modules are pre-imported for `run_cell` automatically:\n",
    "\n",
    "{CodeChat.imps}\n",
    "\n",
    "Never mention what tools you are using. Note that `run_cell` interpreter state is *persistent* across calls.\n",
    "\n",
    "If a tool returns `#DECLINED#` report to the user that the attempt was declined and no further progress can be made.'''"
   ]
  },
  {
   "cell_type": "code",
   "execution_count": 36,
   "metadata": {},
   "outputs": [],
   "source": [
    "def get_user(ignored:str='' # Unused parameter\n",
    "            ): # Username of current user\n",
    "    \"Get the username of the user running this session\"\n",
    "    return 'Peter'"
   ]
  },
  {
   "cell_type": "code",
   "execution_count": 37,
   "metadata": {},
   "outputs": [],
   "source": [
    "model = models[-1]"
   ]
  },
  {
   "cell_type": "code",
   "execution_count": 38,
   "metadata": {},
   "outputs": [],
   "source": [
    "chat = CodeChat(model, tools=[get_user], sp=sp, ask=True)\n"
   ]
  },
  {
   "cell_type": "code",
   "execution_count": 39,
   "metadata": {},
   "outputs": [],
   "source": [
    "\n",
    "chat.h = [\n",
    "    'Calculate the square root of `10332`', 'math.sqrt(10332)',\n",
    "    '#DECLINED#', 'I am sorry but the request to execute that was declined and no further progress can be made.'\n",
    "]"
   ]
  },
  {
   "cell_type": "code",
   "execution_count": 40,
   "metadata": {},
   "outputs": [],
   "source": [
    "def _show_cts(r):\n",
    "    for o in r.content:\n",
    "        if hasattr(o,'text'): print(o.text)\n",
    "        nm = getattr(o, 'name', None)\n",
    "        if nm=='run_cell': print(o.input['code'])\n",
    "        elif nm: print(f'{o.name}({o.input})')"
   ]
  },
  {
   "cell_type": "code",
   "execution_count": 41,
   "metadata": {},
   "outputs": [],
   "source": [
    "def _cont_decline(c):\n",
    "    return nested_idx(c, 'content', 'content') != '#DECLINED#'"
   ]
  },
  {
   "cell_type": "code",
   "execution_count": 42,
   "metadata": {},
   "outputs": [
    {
     "name": "stdout",
     "output_type": "stream",
     "text": [
      "Here is a 1-line function to calculate the checksum of a string using `reduce` and the `ord` function to get the ASCII values:\n",
      "from functools import reduce\n",
      "\n",
      "def checksum(s):\n",
      "    return reduce(lambda x, y: x * ord(y), s, 1)\n",
      "To test it:\n",
      "print(checksum(\"hello\"))\n",
      "The key steps are:\n",
      "\n",
      "1. Use `reduce` to iteratively multiply the ASCII values of each character.\n",
      "2. Start with an initial value of 1 for the accumulator.\n",
      "3. Use a lambda function to multiply the current accumulator by the ASCII value of the current character (`ord(y)`).\n",
      "\n",
      "This provides a concise one-line implementation of the checksum function.\n"
     ]
    },
    {
     "data": {
      "text/markdown": [
       "The key steps are:\n",
       "\n",
       "1. Use `reduce` to iteratively multiply the ASCII values of each character.\n",
       "2. Start with an initial value of 1 for the accumulator.\n",
       "3. Use a lambda function to multiply the current accumulator by the ASCII value of the current character (`ord(y)`).\n",
       "\n",
       "This provides a concise one-line implementation of the checksum function.\n",
       "\n",
       "<details>\n",
       "\n",
       "- id: msg_01SFMrz3Aw8Kc3HvNpqv53m7\n",
       "- content: [{'text': 'The key steps are:\\n\\n1. Use `reduce` to iteratively multiply the ASCII values of each character.\\n2. Start with an initial value of 1 for the accumulator.\\n3. Use a lambda function to multiply the current accumulator by the ASCII value of the current character (`ord(y)`).\\n\\nThis provides a concise one-line implementation of the checksum function.', 'type': 'text'}]\n",
       "- model: claude-3-haiku-20240307\n",
       "- role: assistant\n",
       "- stop_reason: end_turn\n",
       "- stop_sequence: None\n",
       "- type: message\n",
       "- usage: {'input_tokens': 882, 'output_tokens': 87}\n",
       "\n",
       "</details>"
      ],
      "text/plain": [
       "Message(id='msg_01SFMrz3Aw8Kc3HvNpqv53m7', content=[TextBlock(text='The key steps are:\\n\\n1. Use `reduce` to iteratively multiply the ASCII values of each character.\\n2. Start with an initial value of 1 for the accumulator.\\n3. Use a lambda function to multiply the current accumulator by the ASCII value of the current character (`ord(y)`).\\n\\nThis provides a concise one-line implementation of the checksum function.', type='text')], model='claude-3-haiku-20240307', role='assistant', stop_reason='end_turn', stop_sequence=None, type='message', usage=In: 882; Out: 87; Total: 969)"
      ]
     },
     "execution_count": 42,
     "metadata": {},
     "output_type": "execute_result"
    }
   ],
   "source": [
    "pr = '''Create a 1-line function `checksum` for a string `s`,\n",
    "that multiplies together the ascii values of each character in `s` using `reduce`.'''\n",
    "chat.toolloop(pr, temp=0.2, trace_func=_show_cts, cont_func=_cont_decline)"
   ]
  },
  {
   "cell_type": "code",
   "execution_count": 43,
   "metadata": {},
   "outputs": [
    {
     "name": "stdout",
     "output_type": "stream",
     "text": [
      "Okay, let's get the checksum of the username for this session:\n",
      "get_user({'ignored': 'ignored'})\n",
      "Now let's calculate the checksum:\n",
      "from functools import reduce\n",
      "\n",
      "def checksum(s):\n",
      "    return reduce(lambda x, y: x * ord(y), s, 1)\n",
      "\n",
      "print(checksum(\"Peter\"))\n",
      "The checksum of the username \"Peter\" is 10791841920.\n"
     ]
    },
    {
     "data": {
      "text/markdown": [
       "The checksum of the username \"Peter\" is 10791841920.\n",
       "\n",
       "<details>\n",
       "\n",
       "- id: msg_019bcXoDBqpJcdXfA3ZkuECp\n",
       "- content: [{'text': 'The checksum of the username \"Peter\" is 10791841920.', 'type': 'text'}]\n",
       "- model: claude-3-haiku-20240307\n",
       "- role: assistant\n",
       "- stop_reason: end_turn\n",
       "- stop_sequence: None\n",
       "- type: message\n",
       "- usage: {'input_tokens': 1187, 'output_tokens': 20}\n",
       "\n",
       "</details>"
      ],
      "text/plain": [
       "Message(id='msg_019bcXoDBqpJcdXfA3ZkuECp', content=[TextBlock(text='The checksum of the username \"Peter\" is 10791841920.', type='text')], model='claude-3-haiku-20240307', role='assistant', stop_reason='end_turn', stop_sequence=None, type='message', usage=In: 1187; Out: 20; Total: 1207)"
      ]
     },
     "execution_count": 43,
     "metadata": {},
     "output_type": "execute_result"
    }
   ],
   "source": [
    "pr = 'Use it to get the checksum of the username of this session.'\n",
    "chat.toolloop(pr, temp=0.2, trace_func=_show_cts)"
   ]
  },
  {
   "cell_type": "code",
   "execution_count": null,
   "metadata": {},
   "outputs": [],
   "source": []
  }
 ],
 "metadata": {
  "kernelspec": {
   "display_name": ".venv",
   "language": "python",
   "name": "python3"
  },
  "language_info": {
   "codemirror_mode": {
    "name": "ipython",
    "version": 3
   },
   "file_extension": ".py",
   "mimetype": "text/x-python",
   "name": "python",
   "nbconvert_exporter": "python",
   "pygments_lexer": "ipython3",
   "version": "3.10.12"
  }
 },
 "nbformat": 4,
 "nbformat_minor": 2
}
