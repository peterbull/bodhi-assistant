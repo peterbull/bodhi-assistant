{
 "cells": [
  {
   "cell_type": "code",
   "execution_count": 1,
   "metadata": {},
   "outputs": [],
   "source": [
    "import os"
   ]
  },
  {
   "cell_type": "code",
   "execution_count": 2,
   "metadata": {},
   "outputs": [],
   "source": [
    "from toolslm import funccall\n",
    "import claudette"
   ]
  },
  {
   "cell_type": "code",
   "execution_count": 3,
   "metadata": {},
   "outputs": [],
   "source": [
    "# os.environ['ANTHROPIC_LOG'] = 'debug'\n"
   ]
  },
  {
   "cell_type": "code",
   "execution_count": 4,
   "metadata": {},
   "outputs": [
    {
     "data": {
      "text/plain": [
       "('claude-3-opus-20240229',\n",
       " 'claude-3-5-sonnet-20240620',\n",
       " 'claude-3-haiku-20240307')"
      ]
     },
     "execution_count": 4,
     "metadata": {},
     "output_type": "execute_result"
    }
   ],
   "source": [
    "claudette.models"
   ]
  },
  {
   "cell_type": "code",
   "execution_count": 5,
   "metadata": {},
   "outputs": [],
   "source": [
    "model = claudette.models[-1]"
   ]
  },
  {
   "cell_type": "code",
   "execution_count": 6,
   "metadata": {},
   "outputs": [
    {
     "data": {
      "text/plain": [
       "'claude-3-haiku-20240307'"
      ]
     },
     "execution_count": 6,
     "metadata": {},
     "output_type": "execute_result"
    }
   ],
   "source": [
    "model"
   ]
  },
  {
   "cell_type": "code",
   "execution_count": 7,
   "metadata": {},
   "outputs": [],
   "source": [
    "m = {'role': 'user', 'content': \"I'm Peter\"}\n"
   ]
  },
  {
   "cell_type": "code",
   "execution_count": 8,
   "metadata": {},
   "outputs": [],
   "source": [
    "c = claudette.Client(model)"
   ]
  },
  {
   "cell_type": "code",
   "execution_count": 9,
   "metadata": {},
   "outputs": [
    {
     "data": {
      "text/plain": [
       "In: 0; Out: 0; Total: 0"
      ]
     },
     "execution_count": 9,
     "metadata": {},
     "output_type": "execute_result"
    }
   ],
   "source": [
    "c.use"
   ]
  },
  {
   "cell_type": "code",
   "execution_count": 10,
   "metadata": {},
   "outputs": [
    {
     "data": {
      "text/markdown": [
       "Hello! How can I assist you today?\n",
       "\n",
       "<details>\n",
       "\n",
       "- id: msg_01SP2kkyLTSW5YXQRzTukeoE\n",
       "- content: [{'text': 'Hello! How can I assist you today?', 'type': 'text'}]\n",
       "- model: claude-3-haiku-20240307\n",
       "- role: assistant\n",
       "- stop_reason: end_turn\n",
       "- stop_sequence: None\n",
       "- type: message\n",
       "- usage: {'input_tokens': 8, 'output_tokens': 12}\n",
       "\n",
       "</details>"
      ],
      "text/plain": [
       "Message(id='msg_01SP2kkyLTSW5YXQRzTukeoE', content=[TextBlock(text='Hello! How can I assist you today?', type='text')], model='claude-3-haiku-20240307', role='assistant', stop_reason='end_turn', stop_sequence=None, type='message', usage=In: 8; Out: 12; Total: 20)"
      ]
     },
     "execution_count": 10,
     "metadata": {},
     "output_type": "execute_result"
    }
   ],
   "source": [
    "c('Hi')"
   ]
  },
  {
   "cell_type": "code",
   "execution_count": 11,
   "metadata": {},
   "outputs": [],
   "source": [
    "def sums(\n",
    "        a:int, # The first thing to sum\n",
    "        b:int = 5 # The second thing to sum\n",
    ") -> int: # The sum of the inputs\n",
    "    \"Adds a + b\"\n",
    "    print(f\"finding the sum of {a} + {b}\")\n",
    "    return a + b"
   ]
  },
  {
   "cell_type": "code",
   "execution_count": 12,
   "metadata": {},
   "outputs": [
    {
     "name": "stdout",
     "output_type": "stream",
     "text": [
      "finding the sum of 2 + 5\n"
     ]
    },
    {
     "data": {
      "text/plain": [
       "7"
      ]
     },
     "execution_count": 12,
     "metadata": {},
     "output_type": "execute_result"
    }
   ],
   "source": [
    "sums(2, 5)"
   ]
  },
  {
   "cell_type": "code",
   "execution_count": 13,
   "metadata": {},
   "outputs": [],
   "source": [
    "a, b = 604542, 6458932\n",
    "pr = f\"What is {a}+{b}?\"\n",
    "sp = \"You are a summing expert.\""
   ]
  },
  {
   "cell_type": "code",
   "execution_count": 14,
   "metadata": {},
   "outputs": [
    {
     "data": {
      "text/plain": [
       "{'type': 'tool', 'name': 'sums'}"
      ]
     },
     "execution_count": 14,
     "metadata": {},
     "output_type": "execute_result"
    }
   ],
   "source": [
    "claudette.mk_tool_choice(\"sums\")"
   ]
  },
  {
   "cell_type": "code",
   "execution_count": 15,
   "metadata": {},
   "outputs": [
    {
     "data": {
      "text/plain": [
       "{'name': 'sums',\n",
       " 'description': 'Adds a + b\\n\\nReturns:\\n- type: integer\\n- description: The sum of the inputs',\n",
       " 'input_schema': {'type': 'object',\n",
       "  'properties': {'a': {'type': 'integer',\n",
       "    'description': 'The first thing to sum'},\n",
       "   'b': {'type': 'integer',\n",
       "    'description': 'The second thing to sum',\n",
       "    'default': 5}},\n",
       "  'required': ['a']}}"
      ]
     },
     "execution_count": 15,
     "metadata": {},
     "output_type": "execute_result"
    }
   ],
   "source": [
    "funccall.get_schema(sums)"
   ]
  },
  {
   "cell_type": "code",
   "execution_count": 26,
   "metadata": {},
   "outputs": [],
   "source": [
    "class Dummy:\n",
    "    def sums(\n",
    "            a:int, # The first thing to sum\n",
    "            b:int = 5 # The second thing to sum\n",
    "    ) -> int: # The sum of the inputs\n",
    "        \"Adds a + b\"\n",
    "        print(f\"finding the sum of {a} + {b}\")\n",
    "        return a + b"
   ]
  },
  {
   "cell_type": "code",
   "execution_count": 27,
   "metadata": {},
   "outputs": [],
   "source": [
    "tools = [funccall.get_schema(Dummy.sums)]"
   ]
  },
  {
   "cell_type": "code",
   "execution_count": 28,
   "metadata": {},
   "outputs": [
    {
     "data": {
      "text/plain": [
       "[{'name': 'sums',\n",
       "  'description': 'Adds a + b\\n\\nReturns:\\n- type: integer\\n- description: The sum of the inputs',\n",
       "  'input_schema': {'type': 'object',\n",
       "   'properties': {'a': {'type': 'integer',\n",
       "     'description': 'The first thing to sum'},\n",
       "    'b': {'type': 'integer',\n",
       "     'description': 'The second thing to sum',\n",
       "     'default': 5}},\n",
       "   'required': ['a']}}]"
      ]
     },
     "execution_count": 28,
     "metadata": {},
     "output_type": "execute_result"
    }
   ],
   "source": [
    "tools"
   ]
  },
  {
   "cell_type": "code",
   "execution_count": 29,
   "metadata": {},
   "outputs": [],
   "source": [
    "tool_choice = claudette.mk_tool_choice('sums')"
   ]
  },
  {
   "cell_type": "code",
   "execution_count": 30,
   "metadata": {},
   "outputs": [
    {
     "data": {
      "text/plain": [
       "'What is 604542+6458932?'"
      ]
     },
     "execution_count": 30,
     "metadata": {},
     "output_type": "execute_result"
    }
   ],
   "source": [
    "pr"
   ]
  },
  {
   "cell_type": "code",
   "execution_count": 31,
   "metadata": {},
   "outputs": [],
   "source": [
    "msgs = claudette.mk_msgs([pr])"
   ]
  },
  {
   "cell_type": "code",
   "execution_count": 32,
   "metadata": {},
   "outputs": [],
   "source": [
    "r = c(msgs=msgs, sp=sp, tools=tools, tool_choice=tool_choice)"
   ]
  },
  {
   "cell_type": "code",
   "execution_count": 33,
   "metadata": {},
   "outputs": [
    {
     "data": {
      "text/plain": [
       "[ToolUseBlock(id='toolu_01CqLeUD95BVvoWRpFVtiVb1', input={'a': 604542, 'b': 6458932}, name='sums', type='tool_use')]"
      ]
     },
     "execution_count": 33,
     "metadata": {},
     "output_type": "execute_result"
    }
   ],
   "source": [
    "r.content"
   ]
  },
  {
   "cell_type": "code",
   "execution_count": 34,
   "metadata": {},
   "outputs": [],
   "source": [
    "o = Dummy()"
   ]
  },
  {
   "cell_type": "code",
   "execution_count": 38,
   "metadata": {},
   "outputs": [
    {
     "data": {
      "text/plain": [
       "{'role': 'user',\n",
       " 'content': [ToolUseBlock(id='toolu_01CqLeUD95BVvoWRpFVtiVb1', input={'a': 604542, 'b': 6458932}, name='sums', type='tool_use')]}"
      ]
     },
     "execution_count": 38,
     "metadata": {},
     "output_type": "execute_result"
    }
   ],
   "source": [
    "claudette.mk_msg(r.content)\n"
   ]
  },
  {
   "cell_type": "code",
   "execution_count": 36,
   "metadata": {},
   "outputs": [
    {
     "ename": "TypeError",
     "evalue": "Dummy.sums() got multiple values for argument 'a'",
     "output_type": "error",
     "traceback": [
      "\u001b[0;31m---------------------------------------------------------------------------\u001b[0m",
      "\u001b[0;31mTypeError\u001b[0m                                 Traceback (most recent call last)",
      "Cell \u001b[0;32mIn[36], line 1\u001b[0m\n\u001b[0;32m----> 1\u001b[0m \u001b[43mclaudette\u001b[49m\u001b[38;5;241;43m.\u001b[39;49m\u001b[43mmk_toolres\u001b[49m\u001b[43m(\u001b[49m\u001b[43mr\u001b[49m\u001b[43m,\u001b[49m\u001b[43m \u001b[49m\u001b[43mobj\u001b[49m\u001b[38;5;241;43m=\u001b[39;49m\u001b[43mo\u001b[49m\u001b[43m)\u001b[49m\n",
      "File \u001b[0;32m~/peter-projects/bodhi-assistant/nbs/python/.venv/lib/python3.10/site-packages/claudette/core.py:162\u001b[0m, in \u001b[0;36mmk_toolres\u001b[0;34m(r, ns, obj)\u001b[0m\n\u001b[1;32m    160\u001b[0m cts \u001b[38;5;241m=\u001b[39m \u001b[38;5;28mgetattr\u001b[39m(r, \u001b[38;5;124m'\u001b[39m\u001b[38;5;124mcontent\u001b[39m\u001b[38;5;124m'\u001b[39m, [])\n\u001b[1;32m    161\u001b[0m res \u001b[38;5;241m=\u001b[39m [mk_msg(r)]\n\u001b[0;32m--> 162\u001b[0m tcs \u001b[38;5;241m=\u001b[39m [call_func(o, ns\u001b[38;5;241m=\u001b[39mns, obj\u001b[38;5;241m=\u001b[39mobj) \u001b[38;5;28;01mfor\u001b[39;00m o \u001b[38;5;129;01min\u001b[39;00m cts \u001b[38;5;28;01mif\u001b[39;00m \u001b[38;5;28misinstance\u001b[39m(o,ToolUseBlock)]\n\u001b[1;32m    163\u001b[0m \u001b[38;5;28;01mif\u001b[39;00m tcs: res\u001b[38;5;241m.\u001b[39mappend(mk_msg(tcs))\n\u001b[1;32m    164\u001b[0m \u001b[38;5;28;01mreturn\u001b[39;00m res\n",
      "File \u001b[0;32m~/peter-projects/bodhi-assistant/nbs/python/.venv/lib/python3.10/site-packages/claudette/core.py:162\u001b[0m, in \u001b[0;36m<listcomp>\u001b[0;34m(.0)\u001b[0m\n\u001b[1;32m    160\u001b[0m cts \u001b[38;5;241m=\u001b[39m \u001b[38;5;28mgetattr\u001b[39m(r, \u001b[38;5;124m'\u001b[39m\u001b[38;5;124mcontent\u001b[39m\u001b[38;5;124m'\u001b[39m, [])\n\u001b[1;32m    161\u001b[0m res \u001b[38;5;241m=\u001b[39m [mk_msg(r)]\n\u001b[0;32m--> 162\u001b[0m tcs \u001b[38;5;241m=\u001b[39m [\u001b[43mcall_func\u001b[49m\u001b[43m(\u001b[49m\u001b[43mo\u001b[49m\u001b[43m,\u001b[49m\u001b[43m \u001b[49m\u001b[43mns\u001b[49m\u001b[38;5;241;43m=\u001b[39;49m\u001b[43mns\u001b[49m\u001b[43m,\u001b[49m\u001b[43m \u001b[49m\u001b[43mobj\u001b[49m\u001b[38;5;241;43m=\u001b[39;49m\u001b[43mobj\u001b[49m\u001b[43m)\u001b[49m \u001b[38;5;28;01mfor\u001b[39;00m o \u001b[38;5;129;01min\u001b[39;00m cts \u001b[38;5;28;01mif\u001b[39;00m \u001b[38;5;28misinstance\u001b[39m(o,ToolUseBlock)]\n\u001b[1;32m    163\u001b[0m \u001b[38;5;28;01mif\u001b[39;00m tcs: res\u001b[38;5;241m.\u001b[39mappend(mk_msg(tcs))\n\u001b[1;32m    164\u001b[0m \u001b[38;5;28;01mreturn\u001b[39;00m res\n",
      "File \u001b[0;32m~/peter-projects/bodhi-assistant/nbs/python/.venv/lib/python3.10/site-packages/claudette/core.py:150\u001b[0m, in \u001b[0;36mcall_func\u001b[0;34m(fc, ns, obj)\u001b[0m\n\u001b[1;32m    148\u001b[0m func \u001b[38;5;241m=\u001b[39m \u001b[38;5;28mgetattr\u001b[39m(obj, fc\u001b[38;5;241m.\u001b[39mname, \u001b[38;5;28;01mNone\u001b[39;00m)\n\u001b[1;32m    149\u001b[0m \u001b[38;5;28;01mif\u001b[39;00m \u001b[38;5;129;01mnot\u001b[39;00m func: func \u001b[38;5;241m=\u001b[39m ns[fc\u001b[38;5;241m.\u001b[39mname]\n\u001b[0;32m--> 150\u001b[0m res \u001b[38;5;241m=\u001b[39m \u001b[43mfunc\u001b[49m\u001b[43m(\u001b[49m\u001b[38;5;241;43m*\u001b[39;49m\u001b[38;5;241;43m*\u001b[39;49m\u001b[43mfc\u001b[49m\u001b[38;5;241;43m.\u001b[39;49m\u001b[43minput\u001b[49m\u001b[43m)\u001b[49m\n\u001b[1;32m    151\u001b[0m \u001b[38;5;28;01mreturn\u001b[39;00m \u001b[38;5;28mdict\u001b[39m(\u001b[38;5;28mtype\u001b[39m\u001b[38;5;241m=\u001b[39m\u001b[38;5;124m\"\u001b[39m\u001b[38;5;124mtool_result\u001b[39m\u001b[38;5;124m\"\u001b[39m, tool_use_id\u001b[38;5;241m=\u001b[39mfc\u001b[38;5;241m.\u001b[39mid, content\u001b[38;5;241m=\u001b[39m\u001b[38;5;28mstr\u001b[39m(res))\n",
      "\u001b[0;31mTypeError\u001b[0m: Dummy.sums() got multiple values for argument 'a'"
     ]
    }
   ],
   "source": [
    "claudette.mk_toolres(r, obj=o)"
   ]
  },
  {
   "cell_type": "code",
   "execution_count": null,
   "metadata": {},
   "outputs": [],
   "source": []
  },
  {
   "cell_type": "code",
   "execution_count": null,
   "metadata": {},
   "outputs": [],
   "source": []
  },
  {
   "cell_type": "code",
   "execution_count": null,
   "metadata": {},
   "outputs": [],
   "source": [
    "ns ="
   ]
  }
 ],
 "metadata": {
  "kernelspec": {
   "display_name": ".venv",
   "language": "python",
   "name": "python3"
  },
  "language_info": {
   "codemirror_mode": {
    "name": "ipython",
    "version": 3
   },
   "file_extension": ".py",
   "mimetype": "text/x-python",
   "name": "python",
   "nbconvert_exporter": "python",
   "pygments_lexer": "ipython3",
   "version": "3.10.12"
  }
 },
 "nbformat": 4,
 "nbformat_minor": 2
}
