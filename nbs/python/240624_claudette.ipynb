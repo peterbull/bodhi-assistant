{
 "cells": [
  {
   "cell_type": "code",
   "execution_count": 1,
   "metadata": {},
   "outputs": [],
   "source": [
    "import os"
   ]
  },
  {
   "cell_type": "code",
   "execution_count": 2,
   "metadata": {},
   "outputs": [],
   "source": [
    "from toolslm import funccall\n",
    "import claudette"
   ]
  },
  {
   "cell_type": "code",
   "execution_count": 3,
   "metadata": {},
   "outputs": [],
   "source": [
    "# os.environ['ANTHROPIC_LOG'] = 'debug'\n"
   ]
  },
  {
   "cell_type": "code",
   "execution_count": 4,
   "metadata": {},
   "outputs": [
    {
     "data": {
      "text/plain": [
       "('claude-3-opus-20240229',\n",
       " 'claude-3-5-sonnet-20240620',\n",
       " 'claude-3-haiku-20240307')"
      ]
     },
     "execution_count": 4,
     "metadata": {},
     "output_type": "execute_result"
    }
   ],
   "source": [
    "claudette.models"
   ]
  },
  {
   "cell_type": "code",
   "execution_count": 5,
   "metadata": {},
   "outputs": [],
   "source": [
    "model = claudette.models[-1]"
   ]
  },
  {
   "cell_type": "code",
   "execution_count": 6,
   "metadata": {},
   "outputs": [
    {
     "data": {
      "text/plain": [
       "'claude-3-haiku-20240307'"
      ]
     },
     "execution_count": 6,
     "metadata": {},
     "output_type": "execute_result"
    }
   ],
   "source": [
    "model"
   ]
  },
  {
   "cell_type": "code",
   "execution_count": 7,
   "metadata": {},
   "outputs": [],
   "source": [
    "m = {'role': 'user', 'content': \"I'm Peter\"}\n"
   ]
  },
  {
   "cell_type": "code",
   "execution_count": 8,
   "metadata": {},
   "outputs": [],
   "source": [
    "c = claudette.Client(model)"
   ]
  },
  {
   "cell_type": "code",
   "execution_count": 9,
   "metadata": {},
   "outputs": [
    {
     "data": {
      "text/plain": [
       "In: 0; Out: 0; Total: 0"
      ]
     },
     "execution_count": 9,
     "metadata": {},
     "output_type": "execute_result"
    }
   ],
   "source": [
    "c.use"
   ]
  },
  {
   "cell_type": "code",
   "execution_count": 51,
   "metadata": {},
   "outputs": [
    {
     "data": {
      "text/plain": [
       "'claude-3-haiku-20240307'"
      ]
     },
     "execution_count": 51,
     "metadata": {},
     "output_type": "execute_result"
    }
   ],
   "source": [
    "c.model"
   ]
  },
  {
   "cell_type": "code",
   "execution_count": 10,
   "metadata": {},
   "outputs": [
    {
     "data": {
      "text/markdown": [
       "Hello! How can I assist you today?\n",
       "\n",
       "<details>\n",
       "\n",
       "- id: msg_01SP2kkyLTSW5YXQRzTukeoE\n",
       "- content: [{'text': 'Hello! How can I assist you today?', 'type': 'text'}]\n",
       "- model: claude-3-haiku-20240307\n",
       "- role: assistant\n",
       "- stop_reason: end_turn\n",
       "- stop_sequence: None\n",
       "- type: message\n",
       "- usage: {'input_tokens': 8, 'output_tokens': 12}\n",
       "\n",
       "</details>"
      ],
      "text/plain": [
       "Message(id='msg_01SP2kkyLTSW5YXQRzTukeoE', content=[TextBlock(text='Hello! How can I assist you today?', type='text')], model='claude-3-haiku-20240307', role='assistant', stop_reason='end_turn', stop_sequence=None, type='message', usage=In: 8; Out: 12; Total: 20)"
      ]
     },
     "execution_count": 10,
     "metadata": {},
     "output_type": "execute_result"
    }
   ],
   "source": [
    "c('Hi')"
   ]
  },
  {
   "cell_type": "code",
   "execution_count": 11,
   "metadata": {},
   "outputs": [],
   "source": [
    "def sums(\n",
    "        a:int, # The first thing to sum\n",
    "        b:int = 5 # The second thing to sum\n",
    ") -> int: # The sum of the inputs\n",
    "    \"Adds a + b\"\n",
    "    print(f\"finding the sum of {a} + {b}\")\n",
    "    return a + b"
   ]
  },
  {
   "cell_type": "code",
   "execution_count": 12,
   "metadata": {},
   "outputs": [
    {
     "name": "stdout",
     "output_type": "stream",
     "text": [
      "finding the sum of 2 + 5\n"
     ]
    },
    {
     "data": {
      "text/plain": [
       "7"
      ]
     },
     "execution_count": 12,
     "metadata": {},
     "output_type": "execute_result"
    }
   ],
   "source": [
    "sums(2, 5)"
   ]
  },
  {
   "cell_type": "code",
   "execution_count": 13,
   "metadata": {},
   "outputs": [],
   "source": [
    "a, b = 604542, 6458932\n",
    "pr = f\"What is {a}+{b}?\"\n",
    "sp = \"You are a summing expert.\""
   ]
  },
  {
   "cell_type": "code",
   "execution_count": 14,
   "metadata": {},
   "outputs": [
    {
     "data": {
      "text/plain": [
       "{'type': 'tool', 'name': 'sums'}"
      ]
     },
     "execution_count": 14,
     "metadata": {},
     "output_type": "execute_result"
    }
   ],
   "source": [
    "claudette.mk_tool_choice(\"sums\")"
   ]
  },
  {
   "cell_type": "code",
   "execution_count": 15,
   "metadata": {},
   "outputs": [
    {
     "data": {
      "text/plain": [
       "{'name': 'sums',\n",
       " 'description': 'Adds a + b\\n\\nReturns:\\n- type: integer\\n- description: The sum of the inputs',\n",
       " 'input_schema': {'type': 'object',\n",
       "  'properties': {'a': {'type': 'integer',\n",
       "    'description': 'The first thing to sum'},\n",
       "   'b': {'type': 'integer',\n",
       "    'description': 'The second thing to sum',\n",
       "    'default': 5}},\n",
       "  'required': ['a']}}"
      ]
     },
     "execution_count": 15,
     "metadata": {},
     "output_type": "execute_result"
    }
   ],
   "source": [
    "funccall.get_schema(sums)"
   ]
  },
  {
   "cell_type": "code",
   "execution_count": 26,
   "metadata": {},
   "outputs": [],
   "source": [
    "class Dummy:\n",
    "    def sums(\n",
    "            a:int, # The first thing to sum\n",
    "            b:int = 5 # The second thing to sum\n",
    "    ) -> int: # The sum of the inputs\n",
    "        \"Adds a + b\"\n",
    "        print(f\"finding the sum of {a} + {b}\")\n",
    "        return a + b"
   ]
  },
  {
   "cell_type": "code",
   "execution_count": 27,
   "metadata": {},
   "outputs": [],
   "source": [
    "tools = [funccall.get_schema(Dummy.sums)]"
   ]
  },
  {
   "cell_type": "code",
   "execution_count": 28,
   "metadata": {},
   "outputs": [
    {
     "data": {
      "text/plain": [
       "[{'name': 'sums',\n",
       "  'description': 'Adds a + b\\n\\nReturns:\\n- type: integer\\n- description: The sum of the inputs',\n",
       "  'input_schema': {'type': 'object',\n",
       "   'properties': {'a': {'type': 'integer',\n",
       "     'description': 'The first thing to sum'},\n",
       "    'b': {'type': 'integer',\n",
       "     'description': 'The second thing to sum',\n",
       "     'default': 5}},\n",
       "   'required': ['a']}}]"
      ]
     },
     "execution_count": 28,
     "metadata": {},
     "output_type": "execute_result"
    }
   ],
   "source": [
    "tools"
   ]
  },
  {
   "cell_type": "code",
   "execution_count": 29,
   "metadata": {},
   "outputs": [],
   "source": [
    "tool_choice = claudette.mk_tool_choice('sums')"
   ]
  },
  {
   "cell_type": "code",
   "execution_count": 52,
   "metadata": {},
   "outputs": [],
   "source": [
    "msgs = claudette.mk_msgs(pr)"
   ]
  },
  {
   "cell_type": "code",
   "execution_count": 77,
   "metadata": {},
   "outputs": [
    {
     "data": {
      "text/markdown": [
       "Hello! How can I assist you today?\n",
       "\n",
       "<details>\n",
       "\n",
       "- id: msg_017T6E8kgzYCJeBPyVbSVRMC\n",
       "- content: [{'text': 'Hello! How can I assist you today?', 'type': 'text'}]\n",
       "- model: claude-3-haiku-20240307\n",
       "- role: assistant\n",
       "- stop_reason: end_turn\n",
       "- stop_sequence: None\n",
       "- type: message\n",
       "- usage: {'input_tokens': 8, 'output_tokens': 12}\n",
       "\n",
       "</details>"
      ],
      "text/plain": [
       "Message(id='msg_017T6E8kgzYCJeBPyVbSVRMC', content=[TextBlock(text='Hello! How can I assist you today?', type='text')], model='claude-3-haiku-20240307', role='assistant', stop_reason='end_turn', stop_sequence=None, type='message', usage=In: 8; Out: 12; Total: 20)"
      ]
     },
     "execution_count": 77,
     "metadata": {},
     "output_type": "execute_result"
    }
   ],
   "source": [
    "c(\"hi\")"
   ]
  },
  {
   "cell_type": "code",
   "execution_count": null,
   "metadata": {},
   "outputs": [],
   "source": [
    "r = c"
   ]
  },
  {
   "cell_type": "code",
   "execution_count": 78,
   "metadata": {},
   "outputs": [],
   "source": [
    "r = c(msgs=msgs, sp=sp, tools=tools, tool_choice=tool_choice)"
   ]
  },
  {
   "cell_type": "code",
   "execution_count": 79,
   "metadata": {},
   "outputs": [
    {
     "data": {
      "text/plain": [
       "[ToolUseBlock(id='toolu_01BgFfVbgn1p1mPQzn4jkVdY', input={'a': 604542, 'b': 6458932}, name='sums', type='tool_use')]"
      ]
     },
     "execution_count": 79,
     "metadata": {},
     "output_type": "execute_result"
    }
   ],
   "source": [
    "r.content"
   ]
  },
  {
   "cell_type": "code",
   "execution_count": null,
   "metadata": {},
   "outputs": [],
   "source": []
  },
  {
   "cell_type": "code",
   "execution_count": 55,
   "metadata": {},
   "outputs": [],
   "source": [
    "o = Dummy()"
   ]
  },
  {
   "cell_type": "code",
   "execution_count": 56,
   "metadata": {},
   "outputs": [
    {
     "data": {
      "text/plain": [
       "{'role': 'user',\n",
       " 'content': [ToolUseBlock(id='toolu_015ynhNszsk3RUMpUov2koyb', input={'a': 604542, 'b': 6458932}, name='sums', type='tool_use')]}"
      ]
     },
     "execution_count": 56,
     "metadata": {},
     "output_type": "execute_result"
    }
   ],
   "source": [
    "claudette.mk_msg(r.content)\n"
   ]
  },
  {
   "cell_type": "code",
   "execution_count": 57,
   "metadata": {},
   "outputs": [
    {
     "data": {
      "text/markdown": [
       "ToolUseBlock(id='toolu_015ynhNszsk3RUMpUov2koyb', input={'a': 604542, 'b': 6458932}, name='sums', type='tool_use')\n",
       "\n",
       "<details>\n",
       "\n",
       "- id: msg_011rdddbnU1rnE697TrRy3qE\n",
       "- content: [{'id': 'toolu_015ynhNszsk3RUMpUov2koyb', 'input': {'a': 604542, 'b': 6458932}, 'name': 'sums', 'type': 'tool_use'}]\n",
       "- model: claude-3-haiku-20240307\n",
       "- role: assistant\n",
       "- stop_reason: tool_use\n",
       "- stop_sequence: None\n",
       "- type: message\n",
       "- usage: {'input_tokens': 495, 'output_tokens': 53}\n",
       "\n",
       "</details>"
      ],
      "text/plain": [
       "Message(id='msg_011rdddbnU1rnE697TrRy3qE', content=[ToolUseBlock(id='toolu_015ynhNszsk3RUMpUov2koyb', input={'a': 604542, 'b': 6458932}, name='sums', type='tool_use')], model='claude-3-haiku-20240307', role='assistant', stop_reason='tool_use', stop_sequence=None, type='message', usage=In: 495; Out: 53; Total: 548)"
      ]
     },
     "execution_count": 57,
     "metadata": {},
     "output_type": "execute_result"
    }
   ],
   "source": [
    "r"
   ]
  },
  {
   "cell_type": "code",
   "execution_count": 58,
   "metadata": {},
   "outputs": [
    {
     "data": {
      "text/markdown": [
       "ToolUseBlock(id='toolu_015ynhNszsk3RUMpUov2koyb', input={'a': 604542, 'b': 6458932}, name='sums', type='tool_use')\n",
       "\n",
       "<details>\n",
       "\n",
       "- id: msg_011rdddbnU1rnE697TrRy3qE\n",
       "- content: [{'id': 'toolu_015ynhNszsk3RUMpUov2koyb', 'input': {'a': 604542, 'b': 6458932}, 'name': 'sums', 'type': 'tool_use'}]\n",
       "- model: claude-3-haiku-20240307\n",
       "- role: assistant\n",
       "- stop_reason: tool_use\n",
       "- stop_sequence: None\n",
       "- type: message\n",
       "- usage: {'input_tokens': 495, 'output_tokens': 53}\n",
       "\n",
       "</details>"
      ],
      "text/plain": [
       "Message(id='msg_011rdddbnU1rnE697TrRy3qE', content=[ToolUseBlock(id='toolu_015ynhNszsk3RUMpUov2koyb', input={'a': 604542, 'b': 6458932}, name='sums', type='tool_use')], model='claude-3-haiku-20240307', role='assistant', stop_reason='tool_use', stop_sequence=None, type='message', usage=In: 495; Out: 53; Total: 548)"
      ]
     },
     "execution_count": 58,
     "metadata": {},
     "output_type": "execute_result"
    }
   ],
   "source": [
    "r"
   ]
  },
  {
   "cell_type": "code",
   "execution_count": 59,
   "metadata": {},
   "outputs": [
    {
     "ename": "AttributeError",
     "evalue": "'Message' object has no attribute 'name'",
     "output_type": "error",
     "traceback": [
      "\u001b[0;31m---------------------------------------------------------------------------\u001b[0m",
      "\u001b[0;31mAttributeError\u001b[0m                            Traceback (most recent call last)",
      "Cell \u001b[0;32mIn[59], line 1\u001b[0m\n\u001b[0;32m----> 1\u001b[0m \u001b[38;5;28mtype\u001b[39m(\u001b[43mr\u001b[49m\u001b[38;5;241;43m.\u001b[39;49m\u001b[43mname\u001b[49m)\n",
      "File \u001b[0;32m~/peter-projects/bodhi-assistant/nbs/python/.venv/lib/python3.10/site-packages/pydantic/main.py:811\u001b[0m, in \u001b[0;36mBaseModel.__getattr__\u001b[0;34m(self, item)\u001b[0m\n\u001b[1;32m    808\u001b[0m     \u001b[38;5;28;01mreturn\u001b[39;00m \u001b[38;5;28msuper\u001b[39m()\u001b[38;5;241m.\u001b[39m\u001b[38;5;21m__getattribute__\u001b[39m(item)  \u001b[38;5;66;03m# Raises AttributeError if appropriate\u001b[39;00m\n\u001b[1;32m    809\u001b[0m \u001b[38;5;28;01melse\u001b[39;00m:\n\u001b[1;32m    810\u001b[0m     \u001b[38;5;66;03m# this is the current error\u001b[39;00m\n\u001b[0;32m--> 811\u001b[0m     \u001b[38;5;28;01mraise\u001b[39;00m \u001b[38;5;167;01mAttributeError\u001b[39;00m(\u001b[38;5;124mf\u001b[39m\u001b[38;5;124m'\u001b[39m\u001b[38;5;132;01m{\u001b[39;00m\u001b[38;5;28mtype\u001b[39m(\u001b[38;5;28mself\u001b[39m)\u001b[38;5;241m.\u001b[39m\u001b[38;5;18m__name__\u001b[39m\u001b[38;5;132;01m!r}\u001b[39;00m\u001b[38;5;124m object has no attribute \u001b[39m\u001b[38;5;132;01m{\u001b[39;00mitem\u001b[38;5;132;01m!r}\u001b[39;00m\u001b[38;5;124m'\u001b[39m)\n",
      "\u001b[0;31mAttributeError\u001b[0m: 'Message' object has no attribute 'name'"
     ]
    }
   ],
   "source": [
    "type(r.name)"
   ]
  },
  {
   "cell_type": "code",
   "execution_count": 75,
   "metadata": {},
   "outputs": [
    {
     "data": {
      "text/plain": [
       "anthropic.types.tool_use_block.ToolUseBlock"
      ]
     },
     "execution_count": 75,
     "metadata": {},
     "output_type": "execute_result"
    }
   ],
   "source": [
    "type(r.content[0])"
   ]
  },
  {
   "cell_type": "code",
   "execution_count": 81,
   "metadata": {},
   "outputs": [],
   "source": [
    "ns = None"
   ]
  },
  {
   "cell_type": "code",
   "execution_count": 82,
   "metadata": {},
   "outputs": [],
   "source": [
    "if ns is None: ns=globals()"
   ]
  },
  {
   "cell_type": "code",
   "execution_count": 83,
   "metadata": {},
   "outputs": [
    {
     "data": {
      "text/plain": [
       "{'__name__': '__main__',\n",
       " '__doc__': 'Automatically created module for IPython interactive environment',\n",
       " '__package__': None,\n",
       " '__loader__': None,\n",
       " '__spec__': None,\n",
       " '__builtin__': <module 'builtins' (built-in)>,\n",
       " '__builtins__': <module 'builtins' (built-in)>,\n",
       " '_ih': ['',\n",
       "  'import os',\n",
       "  'from toolslm import funccall\\nimport claudette',\n",
       "  \"# os.environ['ANTHROPIC_LOG'] = 'debug'\",\n",
       "  'claudette.models',\n",
       "  'model = claudette.models[-1]',\n",
       "  'model',\n",
       "  'm = {\\'role\\': \\'user\\', \\'content\\': \"I\\'m Peter\"}',\n",
       "  'c = claudette.Client(model)',\n",
       "  'c.use',\n",
       "  \"c('Hi')\",\n",
       "  'def sums(\\n        a:int, # The first thing to sum\\n        b:int = 5 # The second thing to sum\\n) -> int: # The sum of the inputs\\n    \"Adds a + b\"\\n    print(f\"finding the sum of {a} + {b}\")\\n    return a + b',\n",
       "  'sums(2, 5)',\n",
       "  'a, b = 604542, 6458932\\npr = f\"What is {a}+{b}?\"\\nsp = \"You are a summing expert.\"',\n",
       "  'claudette.mk_tool_choice(\"sums\")',\n",
       "  'funccall.get_schema(sums)',\n",
       "  'tools = [funccall.get_schema(sums)]',\n",
       "  \"tool_choice = claudette.mk_tool_choice('sums')\",\n",
       "  'pr',\n",
       "  'msgs = claudette.mk_msgs([pr])',\n",
       "  'r = c(msgs=msgs, sp=sp, tools=tools, tool_choice=tool_choice)',\n",
       "  'r.content',\n",
       "  'r',\n",
       "  'r.usage',\n",
       "  'claudette._mk_ns(sums)',\n",
       "  'class Dummy:\\n    def sums(\\n            a:int, # The first thing to sum\\n            b:int = 5 # The second thing to sum\\n    ) -> int: # The sum of the inputs\\n        \"Adds a + b\"\\n        print(f\"finding the sum of {a} + {b}\")\\n        return a + b',\n",
       "  'class Dummy:\\n    def sums(\\n            a:int, # The first thing to sum\\n            b:int = 5 # The second thing to sum\\n    ) -> int: # The sum of the inputs\\n        \"Adds a + b\"\\n        print(f\"finding the sum of {a} + {b}\")\\n        return a + b',\n",
       "  'tools = [funccall.get_schema(Dummy.sums)]',\n",
       "  'tools',\n",
       "  \"tool_choice = claudette.mk_tool_choice('sums')\",\n",
       "  'pr',\n",
       "  'msgs = claudette.mk_msgs([pr])',\n",
       "  'r = c(msgs=msgs, sp=sp, tools=tools, tool_choice=tool_choice)',\n",
       "  'r.content',\n",
       "  'o = Dummy()',\n",
       "  'o',\n",
       "  'claudette.mk_toolres(r, obj=o)',\n",
       "  'r.content',\n",
       "  'claudette.mk_msg(r.content)',\n",
       "  'claudette.call_func(r.content)',\n",
       "  'claudette.call_func(r)',\n",
       "  'r',\n",
       "  'r = c(msgs=msgs, sp=sp, tools=tools, tool_choice=tool_choice)',\n",
       "  'r.content',\n",
       "  'r',\n",
       "  'r',\n",
       "  'r',\n",
       "  'claudette.call_func(r.content)',\n",
       "  'claudette.call_func(r, obj=o)',\n",
       "  'type(r)',\n",
       "  'type(r.name)',\n",
       "  'c.model',\n",
       "  'msgs = claudette.mk_msgs(pr)',\n",
       "  'r = c(msgs=msgs, sp=sp, tools=tools, tool_choice=tool_choice)',\n",
       "  'r.content',\n",
       "  'o = Dummy()',\n",
       "  'claudette.mk_msg(r.content)',\n",
       "  'r',\n",
       "  'r',\n",
       "  'type(r.name)',\n",
       "  'claudette.call_func(r)',\n",
       "  'r',\n",
       "  'type(r)',\n",
       "  'type(r.name)',\n",
       "  'type(r)',\n",
       "  'rr',\n",
       "  'r',\n",
       "  'r[0]',\n",
       "  'r',\n",
       "  'r.conent',\n",
       "  'r.content',\n",
       "  'r.content[0]',\n",
       "  'r.content[0].id',\n",
       "  'r.content[0]',\n",
       "  'r.content[0]',\n",
       "  'type(r.content[0])',\n",
       "  'claudette.call_func(r.content)',\n",
       "  'c(\"hi\")',\n",
       "  'r = c(msgs=msgs, sp=sp, tools=tools, tool_choice=tool_choice)',\n",
       "  'r.content',\n",
       "  'claudette.call_func(r.content[0])',\n",
       "  'ns = None',\n",
       "  'if ns is None: ns=globals()',\n",
       "  'ns'],\n",
       " '_oh': {4: ('claude-3-opus-20240229',\n",
       "   'claude-3-5-sonnet-20240620',\n",
       "   'claude-3-haiku-20240307'),\n",
       "  6: 'claude-3-haiku-20240307',\n",
       "  9: In: 0; Out: 0; Total: 0,\n",
       "  10: Message(id='msg_01SP2kkyLTSW5YXQRzTukeoE', content=[TextBlock(text='Hello! How can I assist you today?', type='text')], model='claude-3-haiku-20240307', role='assistant', stop_reason='end_turn', stop_sequence=None, type='message', usage=In: 8; Out: 12; Total: 20),\n",
       "  12: 7,\n",
       "  14: {'type': 'tool', 'name': 'sums'},\n",
       "  15: {'name': 'sums',\n",
       "   'description': 'Adds a + b\\n\\nReturns:\\n- type: integer\\n- description: The sum of the inputs',\n",
       "   'input_schema': {'type': 'object',\n",
       "    'properties': {'a': {'type': 'integer',\n",
       "      'description': 'The first thing to sum'},\n",
       "     'b': {'type': 'integer',\n",
       "      'description': 'The second thing to sum',\n",
       "      'default': 5}},\n",
       "    'required': ['a']}},\n",
       "  18: 'What is 604542+6458932?',\n",
       "  21: [ToolUseBlock(id='toolu_01Ub2FKvP9kgnijYNNNbYGze', input={'a': 604542, 'b': 6458932}, name='sums', type='tool_use')],\n",
       "  22: Message(id='msg_01NfGaKfJaPVxBAMt6twx4Sg', content=[ToolUseBlock(id='toolu_01Ub2FKvP9kgnijYNNNbYGze', input={'a': 604542, 'b': 6458932}, name='sums', type='tool_use')], model='claude-3-haiku-20240307', role='assistant', stop_reason='tool_use', stop_sequence=None, type='message', usage=In: 495; Out: 53; Total: 548),\n",
       "  23: In: 495; Out: 53; Total: 548,\n",
       "  28: [{'name': 'sums',\n",
       "    'description': 'Adds a + b\\n\\nReturns:\\n- type: integer\\n- description: The sum of the inputs',\n",
       "    'input_schema': {'type': 'object',\n",
       "     'properties': {'a': {'type': 'integer',\n",
       "       'description': 'The first thing to sum'},\n",
       "      'b': {'type': 'integer',\n",
       "       'description': 'The second thing to sum',\n",
       "       'default': 5}},\n",
       "     'required': ['a']}}],\n",
       "  30: 'What is 604542+6458932?',\n",
       "  33: [ToolUseBlock(id='toolu_01CqLeUD95BVvoWRpFVtiVb1', input={'a': 604542, 'b': 6458932}, name='sums', type='tool_use')],\n",
       "  35: <__main__.Dummy at 0x7f292a161ff0>,\n",
       "  37: [ToolUseBlock(id='toolu_01CqLeUD95BVvoWRpFVtiVb1', input={'a': 604542, 'b': 6458932}, name='sums', type='tool_use')],\n",
       "  38: {'role': 'user',\n",
       "   'content': [ToolUseBlock(id='toolu_01CqLeUD95BVvoWRpFVtiVb1', input={'a': 604542, 'b': 6458932}, name='sums', type='tool_use')]},\n",
       "  41: Message(id='msg_01BDhpqEU7vHA5zdAUQnS3yf', content=[ToolUseBlock(id='toolu_01CqLeUD95BVvoWRpFVtiVb1', input={'a': 604542, 'b': 6458932}, name='sums', type='tool_use')], model='claude-3-haiku-20240307', role='assistant', stop_reason='tool_use', stop_sequence=None, type='message', usage=In: 495; Out: 53; Total: 548),\n",
       "  43: [ToolUseBlock(id='toolu_0188Y5LHeqYw1B7UhaQXsLid', input={'a': 604542, 'b': 6458932}, name='sums', type='tool_use')],\n",
       "  44: Message(id='msg_01PzU2wCRzbFXZnStrAPKj7m', content=[ToolUseBlock(id='toolu_0188Y5LHeqYw1B7UhaQXsLid', input={'a': 604542, 'b': 6458932}, name='sums', type='tool_use')], model='claude-3-haiku-20240307', role='assistant', stop_reason='tool_use', stop_sequence=None, type='message', usage=In: 495; Out: 53; Total: 548),\n",
       "  45: Message(id='msg_01PzU2wCRzbFXZnStrAPKj7m', content=[ToolUseBlock(id='toolu_0188Y5LHeqYw1B7UhaQXsLid', input={'a': 604542, 'b': 6458932}, name='sums', type='tool_use')], model='claude-3-haiku-20240307', role='assistant', stop_reason='tool_use', stop_sequence=None, type='message', usage=In: 495; Out: 53; Total: 548),\n",
       "  46: Message(id='msg_01PzU2wCRzbFXZnStrAPKj7m', content=[ToolUseBlock(id='toolu_0188Y5LHeqYw1B7UhaQXsLid', input={'a': 604542, 'b': 6458932}, name='sums', type='tool_use')], model='claude-3-haiku-20240307', role='assistant', stop_reason='tool_use', stop_sequence=None, type='message', usage=In: 495; Out: 53; Total: 548),\n",
       "  49: anthropic.types.message.Message,\n",
       "  51: 'claude-3-haiku-20240307',\n",
       "  54: [ToolUseBlock(id='toolu_015ynhNszsk3RUMpUov2koyb', input={'a': 604542, 'b': 6458932}, name='sums', type='tool_use')],\n",
       "  56: {'role': 'user',\n",
       "   'content': [ToolUseBlock(id='toolu_015ynhNszsk3RUMpUov2koyb', input={'a': 604542, 'b': 6458932}, name='sums', type='tool_use')]},\n",
       "  57: Message(id='msg_011rdddbnU1rnE697TrRy3qE', content=[ToolUseBlock(id='toolu_015ynhNszsk3RUMpUov2koyb', input={'a': 604542, 'b': 6458932}, name='sums', type='tool_use')], model='claude-3-haiku-20240307', role='assistant', stop_reason='tool_use', stop_sequence=None, type='message', usage=In: 495; Out: 53; Total: 548),\n",
       "  58: Message(id='msg_011rdddbnU1rnE697TrRy3qE', content=[ToolUseBlock(id='toolu_015ynhNszsk3RUMpUov2koyb', input={'a': 604542, 'b': 6458932}, name='sums', type='tool_use')], model='claude-3-haiku-20240307', role='assistant', stop_reason='tool_use', stop_sequence=None, type='message', usage=In: 495; Out: 53; Total: 548),\n",
       "  61: Message(id='msg_011rdddbnU1rnE697TrRy3qE', content=[ToolUseBlock(id='toolu_015ynhNszsk3RUMpUov2koyb', input={'a': 604542, 'b': 6458932}, name='sums', type='tool_use')], model='claude-3-haiku-20240307', role='assistant', stop_reason='tool_use', stop_sequence=None, type='message', usage=In: 495; Out: 53; Total: 548),\n",
       "  62: anthropic.types.message.Message,\n",
       "  64: anthropic.types.message.Message,\n",
       "  66: Message(id='msg_011rdddbnU1rnE697TrRy3qE', content=[ToolUseBlock(id='toolu_015ynhNszsk3RUMpUov2koyb', input={'a': 604542, 'b': 6458932}, name='sums', type='tool_use')], model='claude-3-haiku-20240307', role='assistant', stop_reason='tool_use', stop_sequence=None, type='message', usage=In: 495; Out: 53; Total: 548),\n",
       "  68: Message(id='msg_011rdddbnU1rnE697TrRy3qE', content=[ToolUseBlock(id='toolu_015ynhNszsk3RUMpUov2koyb', input={'a': 604542, 'b': 6458932}, name='sums', type='tool_use')], model='claude-3-haiku-20240307', role='assistant', stop_reason='tool_use', stop_sequence=None, type='message', usage=In: 495; Out: 53; Total: 548),\n",
       "  70: [ToolUseBlock(id='toolu_015ynhNszsk3RUMpUov2koyb', input={'a': 604542, 'b': 6458932}, name='sums', type='tool_use')],\n",
       "  71: ToolUseBlock(id='toolu_015ynhNszsk3RUMpUov2koyb', input={'a': 604542, 'b': 6458932}, name='sums', type='tool_use'),\n",
       "  72: 'toolu_015ynhNszsk3RUMpUov2koyb',\n",
       "  73: ToolUseBlock(id='toolu_015ynhNszsk3RUMpUov2koyb', input={'a': 604542, 'b': 6458932}, name='sums', type='tool_use'),\n",
       "  74: ToolUseBlock(id='toolu_015ynhNszsk3RUMpUov2koyb', input={'a': 604542, 'b': 6458932}, name='sums', type='tool_use'),\n",
       "  75: anthropic.types.tool_use_block.ToolUseBlock,\n",
       "  77: Message(id='msg_017T6E8kgzYCJeBPyVbSVRMC', content=[TextBlock(text='Hello! How can I assist you today?', type='text')], model='claude-3-haiku-20240307', role='assistant', stop_reason='end_turn', stop_sequence=None, type='message', usage=In: 8; Out: 12; Total: 20),\n",
       "  79: [ToolUseBlock(id='toolu_01BgFfVbgn1p1mPQzn4jkVdY', input={'a': 604542, 'b': 6458932}, name='sums', type='tool_use')]},\n",
       " '_dh': [Path('/home/peter/peter-projects/bodhi-assistant/nbs/python')],\n",
       " 'In': ['',\n",
       "  'import os',\n",
       "  'from toolslm import funccall\\nimport claudette',\n",
       "  \"# os.environ['ANTHROPIC_LOG'] = 'debug'\",\n",
       "  'claudette.models',\n",
       "  'model = claudette.models[-1]',\n",
       "  'model',\n",
       "  'm = {\\'role\\': \\'user\\', \\'content\\': \"I\\'m Peter\"}',\n",
       "  'c = claudette.Client(model)',\n",
       "  'c.use',\n",
       "  \"c('Hi')\",\n",
       "  'def sums(\\n        a:int, # The first thing to sum\\n        b:int = 5 # The second thing to sum\\n) -> int: # The sum of the inputs\\n    \"Adds a + b\"\\n    print(f\"finding the sum of {a} + {b}\")\\n    return a + b',\n",
       "  'sums(2, 5)',\n",
       "  'a, b = 604542, 6458932\\npr = f\"What is {a}+{b}?\"\\nsp = \"You are a summing expert.\"',\n",
       "  'claudette.mk_tool_choice(\"sums\")',\n",
       "  'funccall.get_schema(sums)',\n",
       "  'tools = [funccall.get_schema(sums)]',\n",
       "  \"tool_choice = claudette.mk_tool_choice('sums')\",\n",
       "  'pr',\n",
       "  'msgs = claudette.mk_msgs([pr])',\n",
       "  'r = c(msgs=msgs, sp=sp, tools=tools, tool_choice=tool_choice)',\n",
       "  'r.content',\n",
       "  'r',\n",
       "  'r.usage',\n",
       "  'claudette._mk_ns(sums)',\n",
       "  'class Dummy:\\n    def sums(\\n            a:int, # The first thing to sum\\n            b:int = 5 # The second thing to sum\\n    ) -> int: # The sum of the inputs\\n        \"Adds a + b\"\\n        print(f\"finding the sum of {a} + {b}\")\\n        return a + b',\n",
       "  'class Dummy:\\n    def sums(\\n            a:int, # The first thing to sum\\n            b:int = 5 # The second thing to sum\\n    ) -> int: # The sum of the inputs\\n        \"Adds a + b\"\\n        print(f\"finding the sum of {a} + {b}\")\\n        return a + b',\n",
       "  'tools = [funccall.get_schema(Dummy.sums)]',\n",
       "  'tools',\n",
       "  \"tool_choice = claudette.mk_tool_choice('sums')\",\n",
       "  'pr',\n",
       "  'msgs = claudette.mk_msgs([pr])',\n",
       "  'r = c(msgs=msgs, sp=sp, tools=tools, tool_choice=tool_choice)',\n",
       "  'r.content',\n",
       "  'o = Dummy()',\n",
       "  'o',\n",
       "  'claudette.mk_toolres(r, obj=o)',\n",
       "  'r.content',\n",
       "  'claudette.mk_msg(r.content)',\n",
       "  'claudette.call_func(r.content)',\n",
       "  'claudette.call_func(r)',\n",
       "  'r',\n",
       "  'r = c(msgs=msgs, sp=sp, tools=tools, tool_choice=tool_choice)',\n",
       "  'r.content',\n",
       "  'r',\n",
       "  'r',\n",
       "  'r',\n",
       "  'claudette.call_func(r.content)',\n",
       "  'claudette.call_func(r, obj=o)',\n",
       "  'type(r)',\n",
       "  'type(r.name)',\n",
       "  'c.model',\n",
       "  'msgs = claudette.mk_msgs(pr)',\n",
       "  'r = c(msgs=msgs, sp=sp, tools=tools, tool_choice=tool_choice)',\n",
       "  'r.content',\n",
       "  'o = Dummy()',\n",
       "  'claudette.mk_msg(r.content)',\n",
       "  'r',\n",
       "  'r',\n",
       "  'type(r.name)',\n",
       "  'claudette.call_func(r)',\n",
       "  'r',\n",
       "  'type(r)',\n",
       "  'type(r.name)',\n",
       "  'type(r)',\n",
       "  'rr',\n",
       "  'r',\n",
       "  'r[0]',\n",
       "  'r',\n",
       "  'r.conent',\n",
       "  'r.content',\n",
       "  'r.content[0]',\n",
       "  'r.content[0].id',\n",
       "  'r.content[0]',\n",
       "  'r.content[0]',\n",
       "  'type(r.content[0])',\n",
       "  'claudette.call_func(r.content)',\n",
       "  'c(\"hi\")',\n",
       "  'r = c(msgs=msgs, sp=sp, tools=tools, tool_choice=tool_choice)',\n",
       "  'r.content',\n",
       "  'claudette.call_func(r.content[0])',\n",
       "  'ns = None',\n",
       "  'if ns is None: ns=globals()',\n",
       "  'ns'],\n",
       " 'Out': {4: ('claude-3-opus-20240229',\n",
       "   'claude-3-5-sonnet-20240620',\n",
       "   'claude-3-haiku-20240307'),\n",
       "  6: 'claude-3-haiku-20240307',\n",
       "  9: In: 0; Out: 0; Total: 0,\n",
       "  10: Message(id='msg_01SP2kkyLTSW5YXQRzTukeoE', content=[TextBlock(text='Hello! How can I assist you today?', type='text')], model='claude-3-haiku-20240307', role='assistant', stop_reason='end_turn', stop_sequence=None, type='message', usage=In: 8; Out: 12; Total: 20),\n",
       "  12: 7,\n",
       "  14: {'type': 'tool', 'name': 'sums'},\n",
       "  15: {'name': 'sums',\n",
       "   'description': 'Adds a + b\\n\\nReturns:\\n- type: integer\\n- description: The sum of the inputs',\n",
       "   'input_schema': {'type': 'object',\n",
       "    'properties': {'a': {'type': 'integer',\n",
       "      'description': 'The first thing to sum'},\n",
       "     'b': {'type': 'integer',\n",
       "      'description': 'The second thing to sum',\n",
       "      'default': 5}},\n",
       "    'required': ['a']}},\n",
       "  18: 'What is 604542+6458932?',\n",
       "  21: [ToolUseBlock(id='toolu_01Ub2FKvP9kgnijYNNNbYGze', input={'a': 604542, 'b': 6458932}, name='sums', type='tool_use')],\n",
       "  22: Message(id='msg_01NfGaKfJaPVxBAMt6twx4Sg', content=[ToolUseBlock(id='toolu_01Ub2FKvP9kgnijYNNNbYGze', input={'a': 604542, 'b': 6458932}, name='sums', type='tool_use')], model='claude-3-haiku-20240307', role='assistant', stop_reason='tool_use', stop_sequence=None, type='message', usage=In: 495; Out: 53; Total: 548),\n",
       "  23: In: 495; Out: 53; Total: 548,\n",
       "  28: [{'name': 'sums',\n",
       "    'description': 'Adds a + b\\n\\nReturns:\\n- type: integer\\n- description: The sum of the inputs',\n",
       "    'input_schema': {'type': 'object',\n",
       "     'properties': {'a': {'type': 'integer',\n",
       "       'description': 'The first thing to sum'},\n",
       "      'b': {'type': 'integer',\n",
       "       'description': 'The second thing to sum',\n",
       "       'default': 5}},\n",
       "     'required': ['a']}}],\n",
       "  30: 'What is 604542+6458932?',\n",
       "  33: [ToolUseBlock(id='toolu_01CqLeUD95BVvoWRpFVtiVb1', input={'a': 604542, 'b': 6458932}, name='sums', type='tool_use')],\n",
       "  35: <__main__.Dummy at 0x7f292a161ff0>,\n",
       "  37: [ToolUseBlock(id='toolu_01CqLeUD95BVvoWRpFVtiVb1', input={'a': 604542, 'b': 6458932}, name='sums', type='tool_use')],\n",
       "  38: {'role': 'user',\n",
       "   'content': [ToolUseBlock(id='toolu_01CqLeUD95BVvoWRpFVtiVb1', input={'a': 604542, 'b': 6458932}, name='sums', type='tool_use')]},\n",
       "  41: Message(id='msg_01BDhpqEU7vHA5zdAUQnS3yf', content=[ToolUseBlock(id='toolu_01CqLeUD95BVvoWRpFVtiVb1', input={'a': 604542, 'b': 6458932}, name='sums', type='tool_use')], model='claude-3-haiku-20240307', role='assistant', stop_reason='tool_use', stop_sequence=None, type='message', usage=In: 495; Out: 53; Total: 548),\n",
       "  43: [ToolUseBlock(id='toolu_0188Y5LHeqYw1B7UhaQXsLid', input={'a': 604542, 'b': 6458932}, name='sums', type='tool_use')],\n",
       "  44: Message(id='msg_01PzU2wCRzbFXZnStrAPKj7m', content=[ToolUseBlock(id='toolu_0188Y5LHeqYw1B7UhaQXsLid', input={'a': 604542, 'b': 6458932}, name='sums', type='tool_use')], model='claude-3-haiku-20240307', role='assistant', stop_reason='tool_use', stop_sequence=None, type='message', usage=In: 495; Out: 53; Total: 548),\n",
       "  45: Message(id='msg_01PzU2wCRzbFXZnStrAPKj7m', content=[ToolUseBlock(id='toolu_0188Y5LHeqYw1B7UhaQXsLid', input={'a': 604542, 'b': 6458932}, name='sums', type='tool_use')], model='claude-3-haiku-20240307', role='assistant', stop_reason='tool_use', stop_sequence=None, type='message', usage=In: 495; Out: 53; Total: 548),\n",
       "  46: Message(id='msg_01PzU2wCRzbFXZnStrAPKj7m', content=[ToolUseBlock(id='toolu_0188Y5LHeqYw1B7UhaQXsLid', input={'a': 604542, 'b': 6458932}, name='sums', type='tool_use')], model='claude-3-haiku-20240307', role='assistant', stop_reason='tool_use', stop_sequence=None, type='message', usage=In: 495; Out: 53; Total: 548),\n",
       "  49: anthropic.types.message.Message,\n",
       "  51: 'claude-3-haiku-20240307',\n",
       "  54: [ToolUseBlock(id='toolu_015ynhNszsk3RUMpUov2koyb', input={'a': 604542, 'b': 6458932}, name='sums', type='tool_use')],\n",
       "  56: {'role': 'user',\n",
       "   'content': [ToolUseBlock(id='toolu_015ynhNszsk3RUMpUov2koyb', input={'a': 604542, 'b': 6458932}, name='sums', type='tool_use')]},\n",
       "  57: Message(id='msg_011rdddbnU1rnE697TrRy3qE', content=[ToolUseBlock(id='toolu_015ynhNszsk3RUMpUov2koyb', input={'a': 604542, 'b': 6458932}, name='sums', type='tool_use')], model='claude-3-haiku-20240307', role='assistant', stop_reason='tool_use', stop_sequence=None, type='message', usage=In: 495; Out: 53; Total: 548),\n",
       "  58: Message(id='msg_011rdddbnU1rnE697TrRy3qE', content=[ToolUseBlock(id='toolu_015ynhNszsk3RUMpUov2koyb', input={'a': 604542, 'b': 6458932}, name='sums', type='tool_use')], model='claude-3-haiku-20240307', role='assistant', stop_reason='tool_use', stop_sequence=None, type='message', usage=In: 495; Out: 53; Total: 548),\n",
       "  61: Message(id='msg_011rdddbnU1rnE697TrRy3qE', content=[ToolUseBlock(id='toolu_015ynhNszsk3RUMpUov2koyb', input={'a': 604542, 'b': 6458932}, name='sums', type='tool_use')], model='claude-3-haiku-20240307', role='assistant', stop_reason='tool_use', stop_sequence=None, type='message', usage=In: 495; Out: 53; Total: 548),\n",
       "  62: anthropic.types.message.Message,\n",
       "  64: anthropic.types.message.Message,\n",
       "  66: Message(id='msg_011rdddbnU1rnE697TrRy3qE', content=[ToolUseBlock(id='toolu_015ynhNszsk3RUMpUov2koyb', input={'a': 604542, 'b': 6458932}, name='sums', type='tool_use')], model='claude-3-haiku-20240307', role='assistant', stop_reason='tool_use', stop_sequence=None, type='message', usage=In: 495; Out: 53; Total: 548),\n",
       "  68: Message(id='msg_011rdddbnU1rnE697TrRy3qE', content=[ToolUseBlock(id='toolu_015ynhNszsk3RUMpUov2koyb', input={'a': 604542, 'b': 6458932}, name='sums', type='tool_use')], model='claude-3-haiku-20240307', role='assistant', stop_reason='tool_use', stop_sequence=None, type='message', usage=In: 495; Out: 53; Total: 548),\n",
       "  70: [ToolUseBlock(id='toolu_015ynhNszsk3RUMpUov2koyb', input={'a': 604542, 'b': 6458932}, name='sums', type='tool_use')],\n",
       "  71: ToolUseBlock(id='toolu_015ynhNszsk3RUMpUov2koyb', input={'a': 604542, 'b': 6458932}, name='sums', type='tool_use'),\n",
       "  72: 'toolu_015ynhNszsk3RUMpUov2koyb',\n",
       "  73: ToolUseBlock(id='toolu_015ynhNszsk3RUMpUov2koyb', input={'a': 604542, 'b': 6458932}, name='sums', type='tool_use'),\n",
       "  74: ToolUseBlock(id='toolu_015ynhNszsk3RUMpUov2koyb', input={'a': 604542, 'b': 6458932}, name='sums', type='tool_use'),\n",
       "  75: anthropic.types.tool_use_block.ToolUseBlock,\n",
       "  77: Message(id='msg_017T6E8kgzYCJeBPyVbSVRMC', content=[TextBlock(text='Hello! How can I assist you today?', type='text')], model='claude-3-haiku-20240307', role='assistant', stop_reason='end_turn', stop_sequence=None, type='message', usage=In: 8; Out: 12; Total: 20),\n",
       "  79: [ToolUseBlock(id='toolu_01BgFfVbgn1p1mPQzn4jkVdY', input={'a': 604542, 'b': 6458932}, name='sums', type='tool_use')]},\n",
       " 'get_ipython': <bound method InteractiveShell.get_ipython of <ipykernel.zmqshell.ZMQInteractiveShell object at 0x7f294027f130>>,\n",
       " 'exit': <IPython.core.autocall.ZMQExitAutocall at 0x7f294027fd60>,\n",
       " 'quit': <IPython.core.autocall.ZMQExitAutocall at 0x7f294027fd60>,\n",
       " 'open': <function io.open(file, mode='r', buffering=-1, encoding=None, errors=None, newline=None, closefd=True, opener=None)>,\n",
       " '_': [ToolUseBlock(id='toolu_01BgFfVbgn1p1mPQzn4jkVdY', input={'a': 604542, 'b': 6458932}, name='sums', type='tool_use')],\n",
       " '__': Message(id='msg_017T6E8kgzYCJeBPyVbSVRMC', content=[TextBlock(text='Hello! How can I assist you today?', type='text')], model='claude-3-haiku-20240307', role='assistant', stop_reason='end_turn', stop_sequence=None, type='message', usage=In: 8; Out: 12; Total: 20),\n",
       " '___': anthropic.types.tool_use_block.ToolUseBlock,\n",
       " '__vsc_ipynb_file__': '/home/peter/peter-projects/bodhi-assistant/nbs/python/240624_claudette.ipynb',\n",
       " '_i': 'if ns is None: ns=globals()',\n",
       " '_ii': 'ns = None',\n",
       " '_iii': 'claudette.call_func(r.content[0])',\n",
       " '_i1': 'import os',\n",
       " 'os': <module 'os' from '/usr/lib/python3.10/os.py'>,\n",
       " '_i2': 'from toolslm import funccall\\nimport claudette',\n",
       " 'funccall': <module 'toolslm.funccall' from '/home/peter/peter-projects/bodhi-assistant/nbs/python/.venv/lib/python3.10/site-packages/toolslm/funccall.py'>,\n",
       " 'claudette': <module 'claudette' from '/home/peter/peter-projects/bodhi-assistant/nbs/python/.venv/lib/python3.10/site-packages/claudette/__init__.py'>,\n",
       " '_i3': \"# os.environ['ANTHROPIC_LOG'] = 'debug'\",\n",
       " '_i4': 'claudette.models',\n",
       " '_4': ('claude-3-opus-20240229',\n",
       "  'claude-3-5-sonnet-20240620',\n",
       "  'claude-3-haiku-20240307'),\n",
       " '_i5': 'model = claudette.models[-1]',\n",
       " 'model': 'claude-3-haiku-20240307',\n",
       " '_i6': 'model',\n",
       " '_6': 'claude-3-haiku-20240307',\n",
       " '_i7': 'm = {\\'role\\': \\'user\\', \\'content\\': \"I\\'m Peter\"}',\n",
       " 'm': {'role': 'user', 'content': \"I'm Peter\"},\n",
       " '_i8': 'c = claudette.Client(model)',\n",
       " 'c': <claudette.core.Client at 0x7f2929fdb7f0>,\n",
       " '_i9': 'c.use',\n",
       " '_9': In: 0; Out: 0; Total: 0,\n",
       " '_i10': \"c('Hi')\",\n",
       " '_10': Message(id='msg_01SP2kkyLTSW5YXQRzTukeoE', content=[TextBlock(text='Hello! How can I assist you today?', type='text')], model='claude-3-haiku-20240307', role='assistant', stop_reason='end_turn', stop_sequence=None, type='message', usage=In: 8; Out: 12; Total: 20),\n",
       " '_i11': 'def sums(\\n        a:int, # The first thing to sum\\n        b:int = 5 # The second thing to sum\\n) -> int: # The sum of the inputs\\n    \"Adds a + b\"\\n    print(f\"finding the sum of {a} + {b}\")\\n    return a + b',\n",
       " 'sums': <function __main__.sums(a: int, b: int = 5) -> int>,\n",
       " '_i12': 'sums(2, 5)',\n",
       " '_12': 7,\n",
       " '_i13': 'a, b = 604542, 6458932\\npr = f\"What is {a}+{b}?\"\\nsp = \"You are a summing expert.\"',\n",
       " 'a': 604542,\n",
       " 'b': 6458932,\n",
       " 'pr': 'What is 604542+6458932?',\n",
       " 'sp': 'You are a summing expert.',\n",
       " '_i14': 'claudette.mk_tool_choice(\"sums\")',\n",
       " '_14': {'type': 'tool', 'name': 'sums'},\n",
       " '_i15': 'funccall.get_schema(sums)',\n",
       " '_15': {'name': 'sums',\n",
       "  'description': 'Adds a + b\\n\\nReturns:\\n- type: integer\\n- description: The sum of the inputs',\n",
       "  'input_schema': {'type': 'object',\n",
       "   'properties': {'a': {'type': 'integer',\n",
       "     'description': 'The first thing to sum'},\n",
       "    'b': {'type': 'integer',\n",
       "     'description': 'The second thing to sum',\n",
       "     'default': 5}},\n",
       "   'required': ['a']}},\n",
       " '_i16': 'tools = [funccall.get_schema(sums)]',\n",
       " 'tools': [{'name': 'sums',\n",
       "   'description': 'Adds a + b\\n\\nReturns:\\n- type: integer\\n- description: The sum of the inputs',\n",
       "   'input_schema': {'type': 'object',\n",
       "    'properties': {'a': {'type': 'integer',\n",
       "      'description': 'The first thing to sum'},\n",
       "     'b': {'type': 'integer',\n",
       "      'description': 'The second thing to sum',\n",
       "      'default': 5}},\n",
       "    'required': ['a']}}],\n",
       " '_i17': \"tool_choice = claudette.mk_tool_choice('sums')\",\n",
       " 'tool_choice': {'type': 'tool', 'name': 'sums'},\n",
       " '_i18': 'pr',\n",
       " '_18': 'What is 604542+6458932?',\n",
       " '_i19': 'msgs = claudette.mk_msgs([pr])',\n",
       " 'msgs': [{'role': 'user',\n",
       "   'content': [{'type': 'text', 'text': 'What is 604542+6458932?'}]}],\n",
       " '_i20': 'r = c(msgs=msgs, sp=sp, tools=tools, tool_choice=tool_choice)',\n",
       " 'r': Message(id='msg_016BDxwUX59r9p8PwCTWmtZD', content=[ToolUseBlock(id='toolu_01BgFfVbgn1p1mPQzn4jkVdY', input={'a': 604542, 'b': 6458932}, name='sums', type='tool_use')], model='claude-3-haiku-20240307', role='assistant', stop_reason='tool_use', stop_sequence=None, type='message', usage=In: 495; Out: 53; Total: 548),\n",
       " '_i21': 'r.content',\n",
       " '_21': [ToolUseBlock(id='toolu_01Ub2FKvP9kgnijYNNNbYGze', input={'a': 604542, 'b': 6458932}, name='sums', type='tool_use')],\n",
       " '_i22': 'r',\n",
       " '_22': Message(id='msg_01NfGaKfJaPVxBAMt6twx4Sg', content=[ToolUseBlock(id='toolu_01Ub2FKvP9kgnijYNNNbYGze', input={'a': 604542, 'b': 6458932}, name='sums', type='tool_use')], model='claude-3-haiku-20240307', role='assistant', stop_reason='tool_use', stop_sequence=None, type='message', usage=In: 495; Out: 53; Total: 548),\n",
       " '_i23': 'r.usage',\n",
       " '_23': In: 495; Out: 53; Total: 548,\n",
       " '_i24': 'claudette._mk_ns(sums)',\n",
       " '_i25': 'class Dummy:\\n    def sums(\\n            a:int, # The first thing to sum\\n            b:int = 5 # The second thing to sum\\n    ) -> int: # The sum of the inputs\\n        \"Adds a + b\"\\n        print(f\"finding the sum of {a} + {b}\")\\n        return a + b',\n",
       " 'Dummy': __main__.Dummy,\n",
       " '_i26': 'class Dummy:\\n    def sums(\\n            a:int, # The first thing to sum\\n            b:int = 5 # The second thing to sum\\n    ) -> int: # The sum of the inputs\\n        \"Adds a + b\"\\n        print(f\"finding the sum of {a} + {b}\")\\n        return a + b',\n",
       " '_i27': 'tools = [funccall.get_schema(Dummy.sums)]',\n",
       " '_i28': 'tools',\n",
       " '_28': [{'name': 'sums',\n",
       "   'description': 'Adds a + b\\n\\nReturns:\\n- type: integer\\n- description: The sum of the inputs',\n",
       "   'input_schema': {'type': 'object',\n",
       "    'properties': {'a': {'type': 'integer',\n",
       "      'description': 'The first thing to sum'},\n",
       "     'b': {'type': 'integer',\n",
       "      'description': 'The second thing to sum',\n",
       "      'default': 5}},\n",
       "    'required': ['a']}}],\n",
       " '_i29': \"tool_choice = claudette.mk_tool_choice('sums')\",\n",
       " '_i30': 'pr',\n",
       " '_30': 'What is 604542+6458932?',\n",
       " '_i31': 'msgs = claudette.mk_msgs([pr])',\n",
       " '_i32': 'r = c(msgs=msgs, sp=sp, tools=tools, tool_choice=tool_choice)',\n",
       " '_i33': 'r.content',\n",
       " '_33': [ToolUseBlock(id='toolu_01CqLeUD95BVvoWRpFVtiVb1', input={'a': 604542, 'b': 6458932}, name='sums', type='tool_use')],\n",
       " '_i34': 'o = Dummy()',\n",
       " 'o': <__main__.Dummy at 0x7f2929d07310>,\n",
       " '_i35': 'o',\n",
       " '_35': <__main__.Dummy at 0x7f292a161ff0>,\n",
       " '_i36': 'claudette.mk_toolres(r, obj=o)',\n",
       " '_i37': 'r.content',\n",
       " '_37': [ToolUseBlock(id='toolu_01CqLeUD95BVvoWRpFVtiVb1', input={'a': 604542, 'b': 6458932}, name='sums', type='tool_use')],\n",
       " '_i38': 'claudette.mk_msg(r.content)',\n",
       " '_38': {'role': 'user',\n",
       "  'content': [ToolUseBlock(id='toolu_01CqLeUD95BVvoWRpFVtiVb1', input={'a': 604542, 'b': 6458932}, name='sums', type='tool_use')]},\n",
       " '_i39': 'claudette.call_func(r.content)',\n",
       " '_i40': 'claudette.call_func(r)',\n",
       " '_i41': 'r',\n",
       " '_41': Message(id='msg_01BDhpqEU7vHA5zdAUQnS3yf', content=[ToolUseBlock(id='toolu_01CqLeUD95BVvoWRpFVtiVb1', input={'a': 604542, 'b': 6458932}, name='sums', type='tool_use')], model='claude-3-haiku-20240307', role='assistant', stop_reason='tool_use', stop_sequence=None, type='message', usage=In: 495; Out: 53; Total: 548),\n",
       " '_i42': 'r = c(msgs=msgs, sp=sp, tools=tools, tool_choice=tool_choice)',\n",
       " '_i43': 'r.content',\n",
       " '_43': [ToolUseBlock(id='toolu_0188Y5LHeqYw1B7UhaQXsLid', input={'a': 604542, 'b': 6458932}, name='sums', type='tool_use')],\n",
       " '_i44': 'r',\n",
       " '_44': Message(id='msg_01PzU2wCRzbFXZnStrAPKj7m', content=[ToolUseBlock(id='toolu_0188Y5LHeqYw1B7UhaQXsLid', input={'a': 604542, 'b': 6458932}, name='sums', type='tool_use')], model='claude-3-haiku-20240307', role='assistant', stop_reason='tool_use', stop_sequence=None, type='message', usage=In: 495; Out: 53; Total: 548),\n",
       " '_i45': 'r',\n",
       " '_45': Message(id='msg_01PzU2wCRzbFXZnStrAPKj7m', content=[ToolUseBlock(id='toolu_0188Y5LHeqYw1B7UhaQXsLid', input={'a': 604542, 'b': 6458932}, name='sums', type='tool_use')], model='claude-3-haiku-20240307', role='assistant', stop_reason='tool_use', stop_sequence=None, type='message', usage=In: 495; Out: 53; Total: 548),\n",
       " '_i46': 'r',\n",
       " '_46': Message(id='msg_01PzU2wCRzbFXZnStrAPKj7m', content=[ToolUseBlock(id='toolu_0188Y5LHeqYw1B7UhaQXsLid', input={'a': 604542, 'b': 6458932}, name='sums', type='tool_use')], model='claude-3-haiku-20240307', role='assistant', stop_reason='tool_use', stop_sequence=None, type='message', usage=In: 495; Out: 53; Total: 548),\n",
       " '_i47': 'claudette.call_func(r.content)',\n",
       " '_i48': 'claudette.call_func(r, obj=o)',\n",
       " '_i49': 'type(r)',\n",
       " '_49': anthropic.types.message.Message,\n",
       " '_i50': 'type(r.name)',\n",
       " '_i51': 'c.model',\n",
       " '_51': 'claude-3-haiku-20240307',\n",
       " '_i52': 'msgs = claudette.mk_msgs(pr)',\n",
       " '_i53': 'r = c(msgs=msgs, sp=sp, tools=tools, tool_choice=tool_choice)',\n",
       " '_i54': 'r.content',\n",
       " '_54': [ToolUseBlock(id='toolu_015ynhNszsk3RUMpUov2koyb', input={'a': 604542, 'b': 6458932}, name='sums', type='tool_use')],\n",
       " '_i55': 'o = Dummy()',\n",
       " '_i56': 'claudette.mk_msg(r.content)',\n",
       " '_56': {'role': 'user',\n",
       "  'content': [ToolUseBlock(id='toolu_015ynhNszsk3RUMpUov2koyb', input={'a': 604542, 'b': 6458932}, name='sums', type='tool_use')]},\n",
       " '_i57': 'r',\n",
       " '_57': Message(id='msg_011rdddbnU1rnE697TrRy3qE', content=[ToolUseBlock(id='toolu_015ynhNszsk3RUMpUov2koyb', input={'a': 604542, 'b': 6458932}, name='sums', type='tool_use')], model='claude-3-haiku-20240307', role='assistant', stop_reason='tool_use', stop_sequence=None, type='message', usage=In: 495; Out: 53; Total: 548),\n",
       " '_i58': 'r',\n",
       " '_58': Message(id='msg_011rdddbnU1rnE697TrRy3qE', content=[ToolUseBlock(id='toolu_015ynhNszsk3RUMpUov2koyb', input={'a': 604542, 'b': 6458932}, name='sums', type='tool_use')], model='claude-3-haiku-20240307', role='assistant', stop_reason='tool_use', stop_sequence=None, type='message', usage=In: 495; Out: 53; Total: 548),\n",
       " '_i59': 'type(r.name)',\n",
       " '_i60': 'claudette.call_func(r)',\n",
       " '_i61': 'r',\n",
       " '_61': Message(id='msg_011rdddbnU1rnE697TrRy3qE', content=[ToolUseBlock(id='toolu_015ynhNszsk3RUMpUov2koyb', input={'a': 604542, 'b': 6458932}, name='sums', type='tool_use')], model='claude-3-haiku-20240307', role='assistant', stop_reason='tool_use', stop_sequence=None, type='message', usage=In: 495; Out: 53; Total: 548),\n",
       " '_i62': 'type(r)',\n",
       " '_62': anthropic.types.message.Message,\n",
       " '_i63': 'type(r.name)',\n",
       " '_i64': 'type(r)',\n",
       " '_64': anthropic.types.message.Message,\n",
       " '_i65': 'rr',\n",
       " '_i66': 'r',\n",
       " '_66': Message(id='msg_011rdddbnU1rnE697TrRy3qE', content=[ToolUseBlock(id='toolu_015ynhNszsk3RUMpUov2koyb', input={'a': 604542, 'b': 6458932}, name='sums', type='tool_use')], model='claude-3-haiku-20240307', role='assistant', stop_reason='tool_use', stop_sequence=None, type='message', usage=In: 495; Out: 53; Total: 548),\n",
       " '_i67': 'r[0]',\n",
       " '_i68': 'r',\n",
       " '_68': Message(id='msg_011rdddbnU1rnE697TrRy3qE', content=[ToolUseBlock(id='toolu_015ynhNszsk3RUMpUov2koyb', input={'a': 604542, 'b': 6458932}, name='sums', type='tool_use')], model='claude-3-haiku-20240307', role='assistant', stop_reason='tool_use', stop_sequence=None, type='message', usage=In: 495; Out: 53; Total: 548),\n",
       " '_i69': 'r.conent',\n",
       " '_i70': 'r.content',\n",
       " '_70': [ToolUseBlock(id='toolu_015ynhNszsk3RUMpUov2koyb', input={'a': 604542, 'b': 6458932}, name='sums', type='tool_use')],\n",
       " '_i71': 'r.content[0]',\n",
       " '_71': ToolUseBlock(id='toolu_015ynhNszsk3RUMpUov2koyb', input={'a': 604542, 'b': 6458932}, name='sums', type='tool_use'),\n",
       " '_i72': 'r.content[0].id',\n",
       " '_72': 'toolu_015ynhNszsk3RUMpUov2koyb',\n",
       " '_i73': 'r.content[0]',\n",
       " '_73': ToolUseBlock(id='toolu_015ynhNszsk3RUMpUov2koyb', input={'a': 604542, 'b': 6458932}, name='sums', type='tool_use'),\n",
       " '_i74': 'r.content[0]',\n",
       " '_74': ToolUseBlock(id='toolu_015ynhNszsk3RUMpUov2koyb', input={'a': 604542, 'b': 6458932}, name='sums', type='tool_use'),\n",
       " '_i75': 'type(r.content[0])',\n",
       " '_75': anthropic.types.tool_use_block.ToolUseBlock,\n",
       " '_i76': 'claudette.call_func(r.content)',\n",
       " '_i77': 'c(\"hi\")',\n",
       " '_77': Message(id='msg_017T6E8kgzYCJeBPyVbSVRMC', content=[TextBlock(text='Hello! How can I assist you today?', type='text')], model='claude-3-haiku-20240307', role='assistant', stop_reason='end_turn', stop_sequence=None, type='message', usage=In: 8; Out: 12; Total: 20),\n",
       " '_i78': 'r = c(msgs=msgs, sp=sp, tools=tools, tool_choice=tool_choice)',\n",
       " '_i79': 'r.content',\n",
       " '_79': [ToolUseBlock(id='toolu_01BgFfVbgn1p1mPQzn4jkVdY', input={'a': 604542, 'b': 6458932}, name='sums', type='tool_use')],\n",
       " '_i80': 'claudette.call_func(r.content[0])',\n",
       " '_i81': 'ns = None',\n",
       " 'ns': {...},\n",
       " '_i82': 'if ns is None: ns=globals()',\n",
       " '_i83': 'ns'}"
      ]
     },
     "execution_count": 83,
     "metadata": {},
     "output_type": "execute_result"
    }
   ],
   "source": [
    "ns"
   ]
  },
  {
   "cell_type": "code",
   "execution_count": null,
   "metadata": {},
   "outputs": [],
   "source": []
  }
 ],
 "metadata": {
  "kernelspec": {
   "display_name": ".venv",
   "language": "python",
   "name": "python3"
  },
  "language_info": {
   "codemirror_mode": {
    "name": "ipython",
    "version": 3
   },
   "file_extension": ".py",
   "mimetype": "text/x-python",
   "name": "python",
   "nbconvert_exporter": "python",
   "pygments_lexer": "ipython3",
   "version": "3.10.12"
  }
 },
 "nbformat": 4,
 "nbformat_minor": 2
}
