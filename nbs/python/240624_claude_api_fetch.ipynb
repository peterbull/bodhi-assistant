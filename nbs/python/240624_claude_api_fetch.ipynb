{
 "cells": [
  {
   "cell_type": "code",
   "execution_count": 6,
   "metadata": {},
   "outputs": [],
   "source": [
    "import requests"
   ]
  },
  {
   "cell_type": "code",
   "execution_count": 32,
   "metadata": {},
   "outputs": [],
   "source": [
    "from typing import Dict, Optional, List, Any"
   ]
  },
  {
   "cell_type": "code",
   "execution_count": 1,
   "metadata": {},
   "outputs": [],
   "source": [
    "from anthropic.types import Message, TextBlock, ToolUseBlock\n",
    "from claudette.core import *"
   ]
  },
  {
   "cell_type": "markdown",
   "metadata": {},
   "source": [
    "### Define Model "
   ]
  },
  {
   "cell_type": "code",
   "execution_count": 16,
   "metadata": {},
   "outputs": [
    {
     "data": {
      "text/plain": [
       "'claude-3-haiku-20240307'"
      ]
     },
     "execution_count": 16,
     "metadata": {},
     "output_type": "execute_result"
    }
   ],
   "source": [
    "model = models[-1]\n",
    "model"
   ]
  },
  {
   "cell_type": "markdown",
   "metadata": {},
   "source": [
    "### Define Tools"
   ]
  },
  {
   "cell_type": "code",
   "execution_count": 23,
   "metadata": {},
   "outputs": [],
   "source": [
    "bodhicast_spec = \"https://api.bodhicast.com/openapi.json\""
   ]
  },
  {
   "cell_type": "code",
   "execution_count": 33,
   "metadata": {},
   "outputs": [],
   "source": [
    "def get_bodhicast_spec(\n",
    ") -> dict: # OpenAPI Specification\n",
    "    \"Retrieves the OpenAPI specification for the bodhicast API\"\n",
    "    print(f'- Retrieving bodhicast API spec.')\n",
    "    res = requests.get(bodhicast_spec)\n",
    "    return res.json()"
   ]
  },
  {
   "cell_type": "code",
   "execution_count": 34,
   "metadata": {},
   "outputs": [
    {
     "name": "stdout",
     "output_type": "stream",
     "text": [
      "- Retrieving bodhicast API spec.\n"
     ]
    },
    {
     "data": {
      "text/plain": [
       "{'openapi': '3.1.0',\n",
       " 'info': {'title': 'FastAPI', 'version': '0.1.0'},\n",
       " 'paths': {'/': {'get': {'summary': 'Read Root',\n",
       "    'operationId': 'read_root__get',\n",
       "    'responses': {'200': {'description': 'Successful Response',\n",
       "      'content': {'application/json': {'schema': {}}}}}}},\n",
       "  '/forecasts/spots/{date}/{spot_lat}/{spot_lng}': {'get': {'summary': 'Get Forecast By Lat Lng',\n",
       "    'description': \"Retrieve wave forecasts for a specific spot based on date and coordinates.\\n\\n- This function creates a PostGIS point using the provided latitude (spot_lat) and longitude\\n  (spot_lng) as the origin.\\n- It then calculates the nearest data point by distance to this origin.\\n- Forecasts where significant combined swell and wind wave height (swh) values\\n  are null are excluded, as null values indicate land areas rather than water.\\n- Additional logic will need to be added to handle rolling forecast updates\\n  if fetching from NOAA multiple times per day\\n\\nArgs:\\n    date (str): The date in the format 'YYYYMMDD'.\\n    spot_lat (str): The latitude of the spot.\\n    spot_lng (str): The longitude of the spot.\\n    db (Session, optional): The database session. Defaults to Depends(get_db).\\n\\nReturns:\\n    list: A list of dictionaries containing the forecast data for each valid time.\",\n",
       "    'operationId': 'get_forecast_by_lat_lng_forecasts_spots__date___spot_lat___spot_lng__get',\n",
       "    'parameters': [{'name': 'date',\n",
       "      'in': 'path',\n",
       "      'required': True,\n",
       "      'schema': {'type': 'string', 'title': 'Date'}},\n",
       "     {'name': 'spot_lat',\n",
       "      'in': 'path',\n",
       "      'required': True,\n",
       "      'schema': {'type': 'string', 'title': 'Spot Lat'}},\n",
       "     {'name': 'spot_lng',\n",
       "      'in': 'path',\n",
       "      'required': True,\n",
       "      'schema': {'type': 'string', 'title': 'Spot Lng'}}],\n",
       "    'responses': {'200': {'description': 'Successful Response',\n",
       "      'content': {'application/json': {'schema': {}}}},\n",
       "     '422': {'description': 'Validation Error',\n",
       "      'content': {'application/json': {'schema': {'$ref': '#/components/schemas/HTTPValidationError'}}}}}}},\n",
       "  '/spots': {'get': {'summary': 'Get All Spots',\n",
       "    'description': 'Retrieve all spots from the database.\\n\\nParameters:\\n- db: The database session.\\n\\nReturns:\\n- A list of dictionaries representing each spot.',\n",
       "    'operationId': 'get_all_spots_spots_get',\n",
       "    'responses': {'200': {'description': 'Successful Response',\n",
       "      'content': {'application/json': {'schema': {}}}}}}},\n",
       "  '/addspot': {'post': {'summary': 'Create Spot',\n",
       "    'description': 'Create a new spot and store it in the database.\\n\\nThis endpoint accepts spot details, including its name, geographical coordinates, and street address, and creates a new record in the database.\\n\\nArgs:\\n    spot (SpotCreate): A Pydantic model representing the new spot\\'s data, including latitude (lat), longitude (lng), spot name, and street address.\\n    db (Session, optional): The database session injected by FastAPI\\'s dependency injection system. Defaults to the session provided by Depends(get_db).\\n\\nReturns:\\n    dict: A dictionary with a message indicating the successful creation of the spot. For example, {\"message\": \"Spot successfully created\"}.\\n\\nExample:\\n    Input:\\n        {\\n            \"lat\": 36.83055459542353,\\n            \"lng\": -75.96764801341773,\\n            \"spot_name\": \"1st Street Jetty\",\\n            \"street_address\": \"Virginia Beach, Va 23451\"\\n        }\\n\\n    Output:\\n        {\\n            \"message\": \"Spot successfully created\"\\n        }\\nRaises:\\n    HTTPException: An error message and status code if the spot cannot be created due to specific conditions (not shown here but consider implementing error handling for database operations).',\n",
       "    'operationId': 'create_spot_addspot_post',\n",
       "    'requestBody': {'content': {'application/json': {'schema': {'$ref': '#/components/schemas/SpotCreate'}}},\n",
       "     'required': True},\n",
       "    'responses': {'200': {'description': 'Successful Response',\n",
       "      'content': {'application/json': {'schema': {}}}},\n",
       "     '422': {'description': 'Validation Error',\n",
       "      'content': {'application/json': {'schema': {'$ref': '#/components/schemas/HTTPValidationError'}}}}}}},\n",
       "  '/current/spots/{range}/{lat}/{lng}': {'get': {'summary': 'Get Nearby Station Data',\n",
       "    'description': 'Retrieve nearby weather station data within a specified range. The station data is populated to redis in near realtime via consumption from a kafka topic\\n\\n\\nParameters:\\n- range (str): The range in meters(m) within which to search for nearby stations.\\n- lat (str): The latitude of the location.\\n- lng (str): The longitude of the location.\\n- db (Session, optional): The database session. Defaults to Depends(get_db).\\n\\nReturns:\\n- List[Dict[str, Any]]: A list of dictionaries containing the station data.',\n",
       "    'operationId': 'get_nearby_station_data_current_spots__range___lat___lng__get',\n",
       "    'parameters': [{'name': 'range',\n",
       "      'in': 'path',\n",
       "      'required': True,\n",
       "      'schema': {'type': 'string', 'title': 'Range'}},\n",
       "     {'name': 'lat',\n",
       "      'in': 'path',\n",
       "      'required': True,\n",
       "      'schema': {'type': 'string', 'title': 'Lat'}},\n",
       "     {'name': 'lng',\n",
       "      'in': 'path',\n",
       "      'required': True,\n",
       "      'schema': {'type': 'string', 'title': 'Lng'}}],\n",
       "    'responses': {'200': {'description': 'Successful Response',\n",
       "      'content': {'application/json': {'schema': {}}}},\n",
       "     '422': {'description': 'Validation Error',\n",
       "      'content': {'application/json': {'schema': {'$ref': '#/components/schemas/HTTPValidationError'}}}}}}},\n",
       "  '/forecasts/nearest/{date}/{spot_lat}/{spot_lng}': {'get': {'summary': 'Get Forecasts By Spot',\n",
       "    'operationId': 'get_forecasts_by_spot_forecasts_nearest__date___spot_lat___spot_lng__get',\n",
       "    'parameters': [{'name': 'date',\n",
       "      'in': 'path',\n",
       "      'required': True,\n",
       "      'schema': {'type': 'string', 'title': 'Date'}},\n",
       "     {'name': 'spot_lat',\n",
       "      'in': 'path',\n",
       "      'required': True,\n",
       "      'schema': {'type': 'string', 'title': 'Spot Lat'}},\n",
       "     {'name': 'spot_lng',\n",
       "      'in': 'path',\n",
       "      'required': True,\n",
       "      'schema': {'type': 'string', 'title': 'Spot Lng'}}],\n",
       "    'responses': {'200': {'description': 'Successful Response',\n",
       "      'content': {'application/json': {'schema': {}}}},\n",
       "     '422': {'description': 'Validation Error',\n",
       "      'content': {'application/json': {'schema': {'$ref': '#/components/schemas/HTTPValidationError'}}}}}}}},\n",
       " 'components': {'schemas': {'HTTPValidationError': {'properties': {'detail': {'items': {'$ref': '#/components/schemas/ValidationError'},\n",
       "      'type': 'array',\n",
       "      'title': 'Detail'}},\n",
       "    'type': 'object',\n",
       "    'title': 'HTTPValidationError'},\n",
       "   'SpotCreate': {'properties': {'lat': {'type': 'number', 'title': 'Lat'},\n",
       "     'lng': {'type': 'number', 'title': 'Lng'},\n",
       "     'spot_name': {'type': 'string', 'title': 'Spot Name'},\n",
       "     'street_address': {'type': 'string', 'title': 'Street Address'}},\n",
       "    'type': 'object',\n",
       "    'required': ['lat', 'lng', 'spot_name', 'street_address'],\n",
       "    'title': 'SpotCreate'},\n",
       "   'ValidationError': {'properties': {'loc': {'items': {'anyOf': [{'type': 'string'},\n",
       "        {'type': 'integer'}]},\n",
       "      'type': 'array',\n",
       "      'title': 'Location'},\n",
       "     'msg': {'type': 'string', 'title': 'Message'},\n",
       "     'type': {'type': 'string', 'title': 'Error Type'}},\n",
       "    'type': 'object',\n",
       "    'required': ['loc', 'msg', 'type'],\n",
       "    'title': 'ValidationError'}}}}"
      ]
     },
     "execution_count": 34,
     "metadata": {},
     "output_type": "execute_result"
    }
   ],
   "source": [
    "get_bodhicast_spec()"
   ]
  },
  {
   "cell_type": "code",
   "execution_count": 35,
   "metadata": {},
   "outputs": [],
   "source": [
    "tools = [get_bodhicast_spec]\n",
    "client = Chat(model, tools=tools)"
   ]
  },
  {
   "cell_type": "code",
   "execution_count": 36,
   "metadata": {},
   "outputs": [
    {
     "ename": "KeyError",
     "evalue": "typing.Dict[typing.Any, typing.Any]",
     "output_type": "error",
     "traceback": [
      "\u001b[0;31m---------------------------------------------------------------------------\u001b[0m",
      "\u001b[0;31mKeyError\u001b[0m                                  Traceback (most recent call last)",
      "Cell \u001b[0;32mIn[36], line 1\u001b[0m\n\u001b[0;32m----> 1\u001b[0m r \u001b[38;5;241m=\u001b[39m \u001b[43mclient\u001b[49m\u001b[43m(\u001b[49m\u001b[38;5;124;43m'\u001b[39;49m\u001b[38;5;124;43mWhat bodhicast endpoint should I use to add a spot? How should I structure my data?\u001b[39;49m\u001b[38;5;124;43m'\u001b[39;49m\u001b[43m)\u001b[49m\n\u001b[1;32m      2\u001b[0m \u001b[38;5;28mprint\u001b[39m(r\u001b[38;5;241m.\u001b[39mstop_reason)\n\u001b[1;32m      3\u001b[0m r\u001b[38;5;241m.\u001b[39mcontent\n",
      "File \u001b[0;32m~/peter-projects/bodhi-assistant/nbs/python/.venv/lib/python3.10/site-packages/claudette/core.py:200\u001b[0m, in \u001b[0;36m__call__\u001b[0;34m(self, pr, temp, maxtok, stream, prefill, **kw)\u001b[0m\n\u001b[1;32m    198\u001b[0m     \u001b[38;5;28mself\u001b[39m() \u001b[38;5;66;03m# There's already a user request pending, so complete it\u001b[39;00m\n\u001b[1;32m    199\u001b[0m \u001b[38;5;28;01mif\u001b[39;00m pr: \u001b[38;5;28mself\u001b[39m\u001b[38;5;241m.\u001b[39mh\u001b[38;5;241m.\u001b[39mappend(mk_msg(pr))\n\u001b[0;32m--> 200\u001b[0m \u001b[38;5;28;01mif\u001b[39;00m \u001b[38;5;28mself\u001b[39m\u001b[38;5;241m.\u001b[39mtools: kw[\u001b[38;5;124m'\u001b[39m\u001b[38;5;124mtools\u001b[39m\u001b[38;5;124m'\u001b[39m] \u001b[38;5;241m=\u001b[39m [get_schema(o) \u001b[38;5;28;01mfor\u001b[39;00m o \u001b[38;5;129;01min\u001b[39;00m \u001b[38;5;28mself\u001b[39m\u001b[38;5;241m.\u001b[39mtools]\n\u001b[1;32m    201\u001b[0m \u001b[38;5;28;01mif\u001b[39;00m \u001b[38;5;28mself\u001b[39m\u001b[38;5;241m.\u001b[39mtool_choice: kw[\u001b[38;5;124m'\u001b[39m\u001b[38;5;124mtool_choice\u001b[39m\u001b[38;5;124m'\u001b[39m] \u001b[38;5;241m=\u001b[39m mk_tool_choice(\u001b[38;5;28mself\u001b[39m\u001b[38;5;241m.\u001b[39mtool_choice)\n\u001b[1;32m    202\u001b[0m res \u001b[38;5;241m=\u001b[39m \u001b[38;5;28mself\u001b[39m\u001b[38;5;241m.\u001b[39mc(\u001b[38;5;28mself\u001b[39m\u001b[38;5;241m.\u001b[39mh, stream\u001b[38;5;241m=\u001b[39mstream, prefill\u001b[38;5;241m=\u001b[39mprefill, sp\u001b[38;5;241m=\u001b[39m\u001b[38;5;28mself\u001b[39m\u001b[38;5;241m.\u001b[39msp, temp\u001b[38;5;241m=\u001b[39mtemp, maxtok\u001b[38;5;241m=\u001b[39mmaxtok, \u001b[38;5;241m*\u001b[39m\u001b[38;5;241m*\u001b[39mkw)\n",
      "File \u001b[0;32m~/peter-projects/bodhi-assistant/nbs/python/.venv/lib/python3.10/site-packages/claudette/core.py:200\u001b[0m, in \u001b[0;36m<listcomp>\u001b[0;34m(.0)\u001b[0m\n\u001b[1;32m    198\u001b[0m     \u001b[38;5;28mself\u001b[39m() \u001b[38;5;66;03m# There's already a user request pending, so complete it\u001b[39;00m\n\u001b[1;32m    199\u001b[0m \u001b[38;5;28;01mif\u001b[39;00m pr: \u001b[38;5;28mself\u001b[39m\u001b[38;5;241m.\u001b[39mh\u001b[38;5;241m.\u001b[39mappend(mk_msg(pr))\n\u001b[0;32m--> 200\u001b[0m \u001b[38;5;28;01mif\u001b[39;00m \u001b[38;5;28mself\u001b[39m\u001b[38;5;241m.\u001b[39mtools: kw[\u001b[38;5;124m'\u001b[39m\u001b[38;5;124mtools\u001b[39m\u001b[38;5;124m'\u001b[39m] \u001b[38;5;241m=\u001b[39m [\u001b[43mget_schema\u001b[49m\u001b[43m(\u001b[49m\u001b[43mo\u001b[49m\u001b[43m)\u001b[49m \u001b[38;5;28;01mfor\u001b[39;00m o \u001b[38;5;129;01min\u001b[39;00m \u001b[38;5;28mself\u001b[39m\u001b[38;5;241m.\u001b[39mtools]\n\u001b[1;32m    201\u001b[0m \u001b[38;5;28;01mif\u001b[39;00m \u001b[38;5;28mself\u001b[39m\u001b[38;5;241m.\u001b[39mtool_choice: kw[\u001b[38;5;124m'\u001b[39m\u001b[38;5;124mtool_choice\u001b[39m\u001b[38;5;124m'\u001b[39m] \u001b[38;5;241m=\u001b[39m mk_tool_choice(\u001b[38;5;28mself\u001b[39m\u001b[38;5;241m.\u001b[39mtool_choice)\n\u001b[1;32m    202\u001b[0m res \u001b[38;5;241m=\u001b[39m \u001b[38;5;28mself\u001b[39m\u001b[38;5;241m.\u001b[39mc(\u001b[38;5;28mself\u001b[39m\u001b[38;5;241m.\u001b[39mh, stream\u001b[38;5;241m=\u001b[39mstream, prefill\u001b[38;5;241m=\u001b[39mprefill, sp\u001b[38;5;241m=\u001b[39m\u001b[38;5;28mself\u001b[39m\u001b[38;5;241m.\u001b[39msp, temp\u001b[38;5;241m=\u001b[39mtemp, maxtok\u001b[38;5;241m=\u001b[39mmaxtok, \u001b[38;5;241m*\u001b[39m\u001b[38;5;241m*\u001b[39mkw)\n",
      "File \u001b[0;32m~/peter-projects/bodhi-assistant/nbs/python/.venv/lib/python3.10/site-packages/toolslm/funccall.py:43\u001b[0m, in \u001b[0;36mget_schema\u001b[0;34m(f)\u001b[0m\n\u001b[1;32m     37\u001b[0m paramd \u001b[38;5;241m=\u001b[39m {\n\u001b[1;32m     38\u001b[0m     \u001b[38;5;124m'\u001b[39m\u001b[38;5;124mtype\u001b[39m\u001b[38;5;124m'\u001b[39m: \u001b[38;5;124m\"\u001b[39m\u001b[38;5;124mobject\u001b[39m\u001b[38;5;124m\"\u001b[39m,\n\u001b[1;32m     39\u001b[0m     \u001b[38;5;124m'\u001b[39m\u001b[38;5;124mproperties\u001b[39m\u001b[38;5;124m'\u001b[39m: {n:_param(n,o) \u001b[38;5;28;01mfor\u001b[39;00m n,o \u001b[38;5;129;01min\u001b[39;00m d\u001b[38;5;241m.\u001b[39mitems() \u001b[38;5;28;01mif\u001b[39;00m n[\u001b[38;5;241m0\u001b[39m]\u001b[38;5;241m!=\u001b[39m\u001b[38;5;124m'\u001b[39m\u001b[38;5;124m_\u001b[39m\u001b[38;5;124m'\u001b[39m},\n\u001b[1;32m     40\u001b[0m     \u001b[38;5;124m'\u001b[39m\u001b[38;5;124mrequired\u001b[39m\u001b[38;5;124m'\u001b[39m: [n \u001b[38;5;28;01mfor\u001b[39;00m n,o \u001b[38;5;129;01min\u001b[39;00m d\u001b[38;5;241m.\u001b[39mitems() \u001b[38;5;28;01mif\u001b[39;00m o\u001b[38;5;241m.\u001b[39mdefault \u001b[38;5;129;01mis\u001b[39;00m empty \u001b[38;5;129;01mand\u001b[39;00m n[\u001b[38;5;241m0\u001b[39m]\u001b[38;5;241m!=\u001b[39m\u001b[38;5;124m'\u001b[39m\u001b[38;5;124m_\u001b[39m\u001b[38;5;124m'\u001b[39m]\n\u001b[1;32m     41\u001b[0m }\n\u001b[1;32m     42\u001b[0m desc \u001b[38;5;241m=\u001b[39m f\u001b[38;5;241m.\u001b[39m\u001b[38;5;18m__doc__\u001b[39m\n\u001b[0;32m---> 43\u001b[0m \u001b[38;5;28;01mif\u001b[39;00m ret\u001b[38;5;241m.\u001b[39manno \u001b[38;5;129;01mis\u001b[39;00m \u001b[38;5;129;01mnot\u001b[39;00m empty: desc \u001b[38;5;241m+\u001b[39m\u001b[38;5;241m=\u001b[39m \u001b[38;5;124mf\u001b[39m\u001b[38;5;124m'\u001b[39m\u001b[38;5;130;01m\\n\u001b[39;00m\u001b[38;5;130;01m\\n\u001b[39;00m\u001b[38;5;124mReturns:\u001b[39m\u001b[38;5;130;01m\\n\u001b[39;00m\u001b[38;5;124m- type: \u001b[39m\u001b[38;5;132;01m{\u001b[39;00m\u001b[43m_types\u001b[49m\u001b[43m(\u001b[49m\u001b[43mret\u001b[49m\u001b[38;5;241;43m.\u001b[39;49m\u001b[43manno\u001b[49m\u001b[43m)\u001b[49m[\u001b[38;5;241m0\u001b[39m]\u001b[38;5;132;01m}\u001b[39;00m\u001b[38;5;124m'\u001b[39m\n\u001b[1;32m     44\u001b[0m \u001b[38;5;28;01mif\u001b[39;00m ret\u001b[38;5;241m.\u001b[39mdocment: desc \u001b[38;5;241m+\u001b[39m\u001b[38;5;241m=\u001b[39m \u001b[38;5;124mf\u001b[39m\u001b[38;5;124m'\u001b[39m\u001b[38;5;130;01m\\n\u001b[39;00m\u001b[38;5;124m- description: \u001b[39m\u001b[38;5;132;01m{\u001b[39;00mret\u001b[38;5;241m.\u001b[39mdocment\u001b[38;5;132;01m}\u001b[39;00m\u001b[38;5;124m'\u001b[39m\n\u001b[1;32m     45\u001b[0m \u001b[38;5;28;01mreturn\u001b[39;00m \u001b[38;5;28mdict\u001b[39m(name\u001b[38;5;241m=\u001b[39mf\u001b[38;5;241m.\u001b[39m\u001b[38;5;18m__name__\u001b[39m, description\u001b[38;5;241m=\u001b[39mdesc \u001b[38;5;129;01mor\u001b[39;00m \u001b[38;5;124m\"\u001b[39m\u001b[38;5;124m\"\u001b[39m, input_schema\u001b[38;5;241m=\u001b[39mparamd)\n",
      "File \u001b[0;32m~/peter-projects/bodhi-assistant/nbs/python/.venv/lib/python3.10/site-packages/toolslm/funccall.py:20\u001b[0m, in \u001b[0;36m_types\u001b[0;34m(t)\u001b[0m\n\u001b[1;32m     18\u001b[0m tmap \u001b[38;5;241m=\u001b[39m {\u001b[38;5;28mint\u001b[39m:\u001b[38;5;124m\"\u001b[39m\u001b[38;5;124minteger\u001b[39m\u001b[38;5;124m\"\u001b[39m, \u001b[38;5;28mfloat\u001b[39m:\u001b[38;5;124m\"\u001b[39m\u001b[38;5;124mnumber\u001b[39m\u001b[38;5;124m\"\u001b[39m, \u001b[38;5;28mstr\u001b[39m:\u001b[38;5;124m\"\u001b[39m\u001b[38;5;124mstring\u001b[39m\u001b[38;5;124m\"\u001b[39m, \u001b[38;5;28mbool\u001b[39m:\u001b[38;5;124m\"\u001b[39m\u001b[38;5;124mboolean\u001b[39m\u001b[38;5;124m\"\u001b[39m, \u001b[38;5;28mlist\u001b[39m:\u001b[38;5;124m\"\u001b[39m\u001b[38;5;124marray\u001b[39m\u001b[38;5;124m\"\u001b[39m, \u001b[38;5;28mdict\u001b[39m:\u001b[38;5;124m\"\u001b[39m\u001b[38;5;124mobject\u001b[39m\u001b[38;5;124m\"\u001b[39m}\n\u001b[1;32m     19\u001b[0m \u001b[38;5;28;01mif\u001b[39;00m \u001b[38;5;28mgetattr\u001b[39m(t, \u001b[38;5;124m'\u001b[39m\u001b[38;5;124m__origin__\u001b[39m\u001b[38;5;124m'\u001b[39m, \u001b[38;5;28;01mNone\u001b[39;00m) \u001b[38;5;129;01min\u001b[39;00m  (\u001b[38;5;28mlist\u001b[39m,\u001b[38;5;28mtuple\u001b[39m): \u001b[38;5;28;01mreturn\u001b[39;00m \u001b[38;5;124m\"\u001b[39m\u001b[38;5;124marray\u001b[39m\u001b[38;5;124m\"\u001b[39m, tmap\u001b[38;5;241m.\u001b[39mget(t\u001b[38;5;241m.\u001b[39m__args__[\u001b[38;5;241m0\u001b[39m], \u001b[38;5;124m\"\u001b[39m\u001b[38;5;124mobject\u001b[39m\u001b[38;5;124m\"\u001b[39m)\n\u001b[0;32m---> 20\u001b[0m \u001b[38;5;28;01melse\u001b[39;00m: \u001b[38;5;28;01mreturn\u001b[39;00m \u001b[43mtmap\u001b[49m\u001b[43m[\u001b[49m\u001b[43mt\u001b[49m\u001b[43m]\u001b[49m, \u001b[38;5;28;01mNone\u001b[39;00m\n",
      "\u001b[0;31mKeyError\u001b[0m: typing.Dict[typing.Any, typing.Any]"
     ]
    }
   ],
   "source": [
    "r = client('What bodhicast endpoint should I use to add a spot? How should I structure my data?')\n",
    "print(r.stop_reason)\n",
    "r.content"
   ]
  },
  {
   "cell_type": "code",
   "execution_count": null,
   "metadata": {},
   "outputs": [],
   "source": []
  }
 ],
 "metadata": {
  "kernelspec": {
   "display_name": ".venv",
   "language": "python",
   "name": "python3"
  },
  "language_info": {
   "codemirror_mode": {
    "name": "ipython",
    "version": 3
   },
   "file_extension": ".py",
   "mimetype": "text/x-python",
   "name": "python",
   "nbconvert_exporter": "python",
   "pygments_lexer": "ipython3",
   "version": "3.10.12"
  }
 },
 "nbformat": 4,
 "nbformat_minor": 2
}
