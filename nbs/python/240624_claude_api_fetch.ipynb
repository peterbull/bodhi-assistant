{
 "cells": [
  {
   "cell_type": "code",
   "execution_count": 1,
   "metadata": {},
   "outputs": [],
   "source": [
    "import os\n",
    "import requests\n",
    "import numpy as np\n",
    "import duckdb\n",
    "import polars as pl\n",
    "from dotenv import load_dotenv\n"
   ]
  },
  {
   "cell_type": "code",
   "execution_count": 2,
   "metadata": {},
   "outputs": [
    {
     "data": {
      "text/plain": [
       "True"
      ]
     },
     "execution_count": 2,
     "metadata": {},
     "output_type": "execute_result"
    }
   ],
   "source": [
    "load_dotenv()"
   ]
  },
  {
   "cell_type": "code",
   "execution_count": 3,
   "metadata": {},
   "outputs": [],
   "source": [
    "from typing import Dict, Optional, List, Any"
   ]
  },
  {
   "cell_type": "code",
   "execution_count": 4,
   "metadata": {},
   "outputs": [],
   "source": [
    "from anthropic.types import Message, TextBlock, ToolUseBlock\n",
    "from claudette.core import *"
   ]
  },
  {
   "cell_type": "markdown",
   "metadata": {},
   "source": [
    "### Define Model "
   ]
  },
  {
   "cell_type": "code",
   "execution_count": 5,
   "metadata": {},
   "outputs": [],
   "source": [
    "model = models[-1]"
   ]
  },
  {
   "cell_type": "markdown",
   "metadata": {},
   "source": [
    "### Define Tools"
   ]
  },
  {
   "cell_type": "code",
   "execution_count": 6,
   "metadata": {},
   "outputs": [],
   "source": [
    "bodhicast_spec = \"https://api.bodhicast.com/openapi.json\""
   ]
  },
  {
   "cell_type": "code",
   "execution_count": 7,
   "metadata": {},
   "outputs": [],
   "source": [
    "def get_bodhicast_spec(\n",
    ") -> dict: # OpenAPI Specification\n",
    "    \"Retrieves the OpenAPI specification for the bodhicast API\"\n",
    "    print(f'- Retrieving bodhicast API spec.')\n",
    "    res = requests.get(bodhicast_spec)\n",
    "    return res.json()"
   ]
  },
  {
   "cell_type": "code",
   "execution_count": 8,
   "metadata": {},
   "outputs": [
    {
     "name": "stdout",
     "output_type": "stream",
     "text": [
      "- Retrieving bodhicast API spec.\n"
     ]
    },
    {
     "data": {
      "text/plain": [
       "{'openapi': '3.1.0',\n",
       " 'info': {'title': 'FastAPI', 'version': '0.1.0'},\n",
       " 'paths': {'/': {'get': {'summary': 'Read Root',\n",
       "    'operationId': 'read_root__get',\n",
       "    'responses': {'200': {'description': 'Successful Response',\n",
       "      'content': {'application/json': {'schema': {}}}}}}},\n",
       "  '/forecasts/spots/{date}/{spot_lat}/{spot_lng}': {'get': {'summary': 'Get Forecast By Lat Lng',\n",
       "    'description': \"Retrieve wave forecasts for a specific spot based on date and coordinates.\\n\\n- This function creates a PostGIS point using the provided latitude (spot_lat) and longitude\\n  (spot_lng) as the origin.\\n- It then calculates the nearest data point by distance to this origin.\\n- Forecasts where significant combined swell and wind wave height (swh) values\\n  are null are excluded, as null values indicate land areas rather than water.\\n- Additional logic will need to be added to handle rolling forecast updates\\n  if fetching from NOAA multiple times per day\\n\\nArgs:\\n    date (str): The date in the format 'YYYYMMDD'.\\n    spot_lat (str): The latitude of the spot.\\n    spot_lng (str): The longitude of the spot.\\n    db (Session, optional): The database session. Defaults to Depends(get_db).\\n\\nReturns:\\n    list: A list of dictionaries containing the forecast data for each valid time.\",\n",
       "    'operationId': 'get_forecast_by_lat_lng_forecasts_spots__date___spot_lat___spot_lng__get',\n",
       "    'parameters': [{'name': 'date',\n",
       "      'in': 'path',\n",
       "      'required': True,\n",
       "      'schema': {'type': 'string', 'title': 'Date'}},\n",
       "     {'name': 'spot_lat',\n",
       "      'in': 'path',\n",
       "      'required': True,\n",
       "      'schema': {'type': 'string', 'title': 'Spot Lat'}},\n",
       "     {'name': 'spot_lng',\n",
       "      'in': 'path',\n",
       "      'required': True,\n",
       "      'schema': {'type': 'string', 'title': 'Spot Lng'}}],\n",
       "    'responses': {'200': {'description': 'Successful Response',\n",
       "      'content': {'application/json': {'schema': {}}}},\n",
       "     '422': {'description': 'Validation Error',\n",
       "      'content': {'application/json': {'schema': {'$ref': '#/components/schemas/HTTPValidationError'}}}}}}},\n",
       "  '/spots': {'get': {'summary': 'Get All Spots',\n",
       "    'description': 'Retrieve all spots from the database.\\n\\nParameters:\\n- db: The database session.\\n\\nReturns:\\n- A list of dictionaries representing each spot.',\n",
       "    'operationId': 'get_all_spots_spots_get',\n",
       "    'responses': {'200': {'description': 'Successful Response',\n",
       "      'content': {'application/json': {'schema': {}}}}}}},\n",
       "  '/addspot': {'post': {'summary': 'Create Spot',\n",
       "    'description': 'Create a new spot and store it in the database.\\n\\nThis endpoint accepts spot details, including its name, geographical coordinates, and street address, and creates a new record in the database.\\n\\nArgs:\\n    spot (SpotCreate): A Pydantic model representing the new spot\\'s data, including latitude (lat), longitude (lng), spot name, and street address.\\n    db (Session, optional): The database session injected by FastAPI\\'s dependency injection system. Defaults to the session provided by Depends(get_db).\\n\\nReturns:\\n    dict: A dictionary with a message indicating the successful creation of the spot. For example, {\"message\": \"Spot successfully created\"}.\\n\\nExample:\\n    Input:\\n        {\\n            \"lat\": 36.83055459542353,\\n            \"lng\": -75.96764801341773,\\n            \"spot_name\": \"1st Street Jetty\",\\n            \"street_address\": \"Virginia Beach, Va 23451\"\\n        }\\n\\n    Output:\\n        {\\n            \"message\": \"Spot successfully created\"\\n        }\\nRaises:\\n    HTTPException: An error message and status code if the spot cannot be created due to specific conditions (not shown here but consider implementing error handling for database operations).',\n",
       "    'operationId': 'create_spot_addspot_post',\n",
       "    'requestBody': {'content': {'application/json': {'schema': {'$ref': '#/components/schemas/SpotCreate'}}},\n",
       "     'required': True},\n",
       "    'responses': {'200': {'description': 'Successful Response',\n",
       "      'content': {'application/json': {'schema': {}}}},\n",
       "     '422': {'description': 'Validation Error',\n",
       "      'content': {'application/json': {'schema': {'$ref': '#/components/schemas/HTTPValidationError'}}}}}}},\n",
       "  '/current/spots/{range}/{lat}/{lng}': {'get': {'summary': 'Get Nearby Station Data',\n",
       "    'description': 'Retrieve nearby weather station data within a specified range. The station data is populated to redis in near realtime via consumption from a kafka topic\\n\\n\\nParameters:\\n- range (str): The range in meters(m) within which to search for nearby stations.\\n- lat (str): The latitude of the location.\\n- lng (str): The longitude of the location.\\n- db (Session, optional): The database session. Defaults to Depends(get_db).\\n\\nReturns:\\n- List[Dict[str, Any]]: A list of dictionaries containing the station data.',\n",
       "    'operationId': 'get_nearby_station_data_current_spots__range___lat___lng__get',\n",
       "    'parameters': [{'name': 'range',\n",
       "      'in': 'path',\n",
       "      'required': True,\n",
       "      'schema': {'type': 'string', 'title': 'Range'}},\n",
       "     {'name': 'lat',\n",
       "      'in': 'path',\n",
       "      'required': True,\n",
       "      'schema': {'type': 'string', 'title': 'Lat'}},\n",
       "     {'name': 'lng',\n",
       "      'in': 'path',\n",
       "      'required': True,\n",
       "      'schema': {'type': 'string', 'title': 'Lng'}}],\n",
       "    'responses': {'200': {'description': 'Successful Response',\n",
       "      'content': {'application/json': {'schema': {}}}},\n",
       "     '422': {'description': 'Validation Error',\n",
       "      'content': {'application/json': {'schema': {'$ref': '#/components/schemas/HTTPValidationError'}}}}}}},\n",
       "  '/forecasts/nearest/{date}/{spot_lat}/{spot_lng}': {'get': {'summary': 'Get Forecasts By Spot',\n",
       "    'operationId': 'get_forecasts_by_spot_forecasts_nearest__date___spot_lat___spot_lng__get',\n",
       "    'parameters': [{'name': 'date',\n",
       "      'in': 'path',\n",
       "      'required': True,\n",
       "      'schema': {'type': 'string', 'title': 'Date'}},\n",
       "     {'name': 'spot_lat',\n",
       "      'in': 'path',\n",
       "      'required': True,\n",
       "      'schema': {'type': 'string', 'title': 'Spot Lat'}},\n",
       "     {'name': 'spot_lng',\n",
       "      'in': 'path',\n",
       "      'required': True,\n",
       "      'schema': {'type': 'string', 'title': 'Spot Lng'}}],\n",
       "    'responses': {'200': {'description': 'Successful Response',\n",
       "      'content': {'application/json': {'schema': {}}}},\n",
       "     '422': {'description': 'Validation Error',\n",
       "      'content': {'application/json': {'schema': {'$ref': '#/components/schemas/HTTPValidationError'}}}}}}}},\n",
       " 'components': {'schemas': {'HTTPValidationError': {'properties': {'detail': {'items': {'$ref': '#/components/schemas/ValidationError'},\n",
       "      'type': 'array',\n",
       "      'title': 'Detail'}},\n",
       "    'type': 'object',\n",
       "    'title': 'HTTPValidationError'},\n",
       "   'SpotCreate': {'properties': {'lat': {'type': 'number', 'title': 'Lat'},\n",
       "     'lng': {'type': 'number', 'title': 'Lng'},\n",
       "     'spot_name': {'type': 'string', 'title': 'Spot Name'},\n",
       "     'street_address': {'type': 'string', 'title': 'Street Address'}},\n",
       "    'type': 'object',\n",
       "    'required': ['lat', 'lng', 'spot_name', 'street_address'],\n",
       "    'title': 'SpotCreate'},\n",
       "   'ValidationError': {'properties': {'loc': {'items': {'anyOf': [{'type': 'string'},\n",
       "        {'type': 'integer'}]},\n",
       "      'type': 'array',\n",
       "      'title': 'Location'},\n",
       "     'msg': {'type': 'string', 'title': 'Message'},\n",
       "     'type': {'type': 'string', 'title': 'Error Type'}},\n",
       "    'type': 'object',\n",
       "    'required': ['loc', 'msg', 'type'],\n",
       "    'title': 'ValidationError'}}}}"
      ]
     },
     "execution_count": 8,
     "metadata": {},
     "output_type": "execute_result"
    }
   ],
   "source": [
    "get_bodhicast_spec()"
   ]
  },
  {
   "cell_type": "code",
   "execution_count": 9,
   "metadata": {},
   "outputs": [],
   "source": [
    "tools = [get_bodhicast_spec]\n",
    "chat = Chat(model, tools=tools)"
   ]
  },
  {
   "cell_type": "code",
   "execution_count": 10,
   "metadata": {},
   "outputs": [
    {
     "name": "stdout",
     "output_type": "stream",
     "text": [
      "- Retrieving bodhicast API spec.\n",
      "tool_use\n"
     ]
    },
    {
     "data": {
      "text/plain": [
       "[ToolUseBlock(id='toolu_01Va2i2XbsY9b1BEoxqbJMAK', input={}, name='get_bodhicast_spec', type='tool_use')]"
      ]
     },
     "execution_count": 10,
     "metadata": {},
     "output_type": "execute_result"
    }
   ],
   "source": [
    "r = chat('What endpoint should i use for adding spots in bodhicast?')\n",
    "print(r.stop_reason)\n",
    "r.content"
   ]
  },
  {
   "cell_type": "code",
   "execution_count": 11,
   "metadata": {},
   "outputs": [],
   "source": [
    "r = chat()"
   ]
  },
  {
   "cell_type": "code",
   "execution_count": 12,
   "metadata": {},
   "outputs": [
    {
     "data": {
      "text/plain": [
       "'Based on the OpenAPI specification, the endpoint you should use for adding spots in bodhicast is `/addspot`. This endpoint accepts a `SpotCreate` model as the request body, which includes the latitude, longitude, spot name, and street address of the new spot.\\n\\nThe relevant details are:\\n\\n- Endpoint: `/addspot`\\n- HTTP Method: `POST`\\n- Request Body: `SpotCreate` model with the following properties:\\n    - `lat`: latitude of the spot\\n    - `lng`: longitude of the spot\\n    - `spot_name`: name of the spot\\n    - `street_address`: street address of the spot\\n- Response: A dictionary with a message indicating the successful creation of the spot.\\n\\nSo, to add a new spot, you would make a POST request to the `/addspot` endpoint with a JSON payload containing the spot details.'"
      ]
     },
     "execution_count": 12,
     "metadata": {},
     "output_type": "execute_result"
    }
   ],
   "source": [
    "contents(r)"
   ]
  },
  {
   "cell_type": "code",
   "execution_count": 13,
   "metadata": {},
   "outputs": [
    {
     "name": "stdout",
     "output_type": "stream",
     "text": [
      "- Retrieving bodhicast API spec.\n",
      "Message(id='msg_018UKYEaupjV8Fva98icXw54', content=[ToolUseBlock(id='toolu_01VjHmR2tsDotsBWfyPusCo2', input={}, name='get_bodhicast_spec', type='tool_use')], model='claude-3-haiku-20240307', role='assistant', stop_reason='tool_use', stop_sequence=None, type='message', usage=In: 374; Out: 41; Total: 415)\n",
      "- Retrieving bodhicast API spec.\n",
      "Message(id='msg_01CWvPoS8tdwzSXD8tXGSZuY', content=[TextBlock(text='Based on the OpenAPI specification, the structure for the create spot endpoint in bodhicast should be as follows:', type='text'), ToolUseBlock(id='toolu_013f3P2WLZukbuvSWXT7ZEX6', input={}, name='get_bodhicast_spec', type='tool_use')], model='claude-3-haiku-20240307', role='assistant', stop_reason='tool_use', stop_sequence=None, type='message', usage=In: 2628; Out: 67; Total: 2695)\n",
      "- Retrieving bodhicast API spec.\n",
      "Message(id='msg_01CGKQVMqeaZrPChSUCLYFhF', content=[TextBlock(text='The structure for the create spot endpoint in bodhicast should be as follows:', type='text'), ToolUseBlock(id='toolu_018piHcWg3x8WJdfkLk1v4im', input={}, name='get_bodhicast_spec', type='tool_use')], model='claude-3-haiku-20240307', role='assistant', stop_reason='tool_use', stop_sequence=None, type='message', usage=In: 4907; Out: 60; Total: 4967)\n",
      "Message(id='msg_01A6Y1CJRhNJ4ksxDZc2UxXL', content=[TextBlock(text='The create spot endpoint in bodhicast expects a JSON request body with the following structure:\\n\\n```json\\n{\\n    \"lat\": 36.83055459542353,\\n    \"lng\": -75.96764801341773,\\n    \"spot_name\": \"1st Street Jetty\",\\n    \"street_address\": \"Virginia Beach, Va 23451\"\\n}\\n```\\n\\nThe request body should be a JSON object with the following properties:\\n\\n- `lat`: a number representing the latitude of the spot\\n- `lng`: a number representing the longitude of the spot\\n- `spot_name`: a string representing the name of the spot\\n- `street_address`: a string representing the street address of the spot\\n\\nThe endpoint will return a JSON response with a message indicating the successful creation of the spot, like this:\\n\\n```json\\n{\\n    \"message\": \"Spot successfully created\"\\n}\\n```', type='text')], model='claude-3-haiku-20240307', role='assistant', stop_reason='end_turn', stop_sequence=None, type='message', usage=In: 7179; Out: 204; Total: 7383)\n"
     ]
    }
   ],
   "source": [
    "chat = Chat(model, tools=tools)\n",
    "r = chat.toolloop('Can you provide me with an example of the structure I should use for the create spot endpoint in bodhicast?', trace_func=print)"
   ]
  },
  {
   "cell_type": "code",
   "execution_count": 14,
   "metadata": {},
   "outputs": [
    {
     "name": "stdout",
     "output_type": "stream",
     "text": [
      "The create spot endpoint in bodhicast expects a JSON request body with the following structure:\n",
      "\n",
      "```json\n",
      "{\n",
      "    \"lat\": 36.83055459542353,\n",
      "    \"lng\": -75.96764801341773,\n",
      "    \"spot_name\": \"1st Street Jetty\",\n",
      "    \"street_address\": \"Virginia Beach, Va 23451\"\n",
      "}\n",
      "```\n",
      "\n",
      "The request body should be a JSON object with the following properties:\n",
      "\n",
      "- `lat`: a number representing the latitude of the spot\n",
      "- `lng`: a number representing the longitude of the spot\n",
      "- `spot_name`: a string representing the name of the spot\n",
      "- `street_address`: a string representing the street address of the spot\n",
      "\n",
      "The endpoint will return a JSON response with a message indicating the successful creation of the spot, like this:\n",
      "\n",
      "```json\n",
      "{\n",
      "    \"message\": \"Spot successfully created\"\n",
      "}\n",
      "```\n"
     ]
    }
   ],
   "source": [
    "print(r.content[0].text)"
   ]
  },
  {
   "cell_type": "markdown",
   "metadata": {},
   "source": [
    "### Get a few random spots"
   ]
  },
  {
   "cell_type": "code",
   "execution_count": 15,
   "metadata": {},
   "outputs": [],
   "source": [
    "bodhicast_url_base = 'https://api.bodhicast.com'"
   ]
  },
  {
   "cell_type": "code",
   "execution_count": 16,
   "metadata": {},
   "outputs": [],
   "source": [
    "spots_url = f'{bodhicast_url_base}/spots'"
   ]
  },
  {
   "cell_type": "code",
   "execution_count": 17,
   "metadata": {},
   "outputs": [],
   "source": [
    "spots = requests.get(spots_url)"
   ]
  },
  {
   "cell_type": "code",
   "execution_count": 18,
   "metadata": {},
   "outputs": [],
   "source": [
    "spot_list = spots.json()"
   ]
  },
  {
   "cell_type": "code",
   "execution_count": 19,
   "metadata": {},
   "outputs": [],
   "source": [
    "spot_sample = np.random.choice(spot_list, 5, replace=False)"
   ]
  },
  {
   "cell_type": "code",
   "execution_count": 20,
   "metadata": {},
   "outputs": [
    {
     "data": {
      "text/plain": [
       "array([{'id': 830, 'latitude': 41.145758, 'longitude': -71.59174, 'spot_name': 'Black Rock Point', 'street_address': 'New Shoreham, Rhode Island'},\n",
       "       {'id': 361, 'latitude': 39.6458, 'longitude': -74.18338, 'spot_name': 'Borough of Ship Bottom', 'street_address': 'Beach Haven, New Jersey'},\n",
       "       {'id': 760, 'latitude': 41.315015, 'longitude': -70.76408, 'spot_name': 'Squibnocket', 'street_address': 'Gay Head, Massachusetts'},\n",
       "       {'id': 945, 'latitude': 33.90129336911256, 'longitude': -118.42184, 'spot_name': 'El Porto', 'street_address': 'Manhattan Beach, California'},\n",
       "       {'id': 395, 'latitude': 40.113, 'longitude': -74.028, 'spot_name': 'Manasquan Inlet', 'street_address': 'Manasquan, New Jersey'}],\n",
       "      dtype=object)"
      ]
     },
     "execution_count": 20,
     "metadata": {},
     "output_type": "execute_result"
    }
   ],
   "source": [
    "spot_sample"
   ]
  },
  {
   "cell_type": "markdown",
   "metadata": {},
   "source": [
    "### Open Meteo Weather"
   ]
  },
  {
   "cell_type": "code",
   "execution_count": 21,
   "metadata": {},
   "outputs": [],
   "source": [
    "from string import Template"
   ]
  },
  {
   "cell_type": "code",
   "execution_count": 22,
   "metadata": {},
   "outputs": [],
   "source": [
    "temperature_template = Template('https://api.open-meteo.com/v1/forecast?latitude={lat}&longitude={lon}&current=temperature_2m')"
   ]
  },
  {
   "cell_type": "code",
   "execution_count": 23,
   "metadata": {},
   "outputs": [
    {
     "data": {
      "text/plain": [
       "'https://api.open-meteo.com/v1/forecast?latitude={lat}&longitude={lon}&current=temperature_2m'"
      ]
     },
     "execution_count": 23,
     "metadata": {},
     "output_type": "execute_result"
    }
   ],
   "source": [
    "temperature_template.template"
   ]
  },
  {
   "cell_type": "markdown",
   "metadata": {},
   "source": [
    "### Setup Db"
   ]
  },
  {
   "cell_type": "code",
   "execution_count": 24,
   "metadata": {},
   "outputs": [],
   "source": [
    "import psycopg"
   ]
  },
  {
   "cell_type": "code",
   "execution_count": 25,
   "metadata": {},
   "outputs": [],
   "source": [
    "conn_info = \"dbname='postgres' user='postgres' password='postgres' host='localhost' port='5432'\"\n"
   ]
  },
  {
   "cell_type": "code",
   "execution_count": 26,
   "metadata": {},
   "outputs": [
    {
     "ename": "SyntaxError",
     "evalue": "syntax error at or near \"name\"\nLINE 3:                     name\n                            ^",
     "output_type": "error",
     "traceback": [
      "\u001b[0;31m---------------------------------------------------------------------------\u001b[0m",
      "\u001b[0;31mSyntaxError\u001b[0m                               Traceback (most recent call last)",
      "Cell \u001b[0;32mIn[26], line 7\u001b[0m\n\u001b[1;32m      3\u001b[0m cur\u001b[38;5;241m.\u001b[39mexecute(\u001b[38;5;124m\"\u001b[39m\u001b[38;5;124mcreate extension if not exists vector\u001b[39m\u001b[38;5;124m\"\u001b[39m)\n\u001b[1;32m      4\u001b[0m \u001b[38;5;66;03m# rows = cur.fetchall()\u001b[39;00m\n\u001b[1;32m      5\u001b[0m \u001b[38;5;66;03m# for row in rows:\u001b[39;00m\n\u001b[1;32m      6\u001b[0m     \u001b[38;5;66;03m# print(row)\u001b[39;00m\n\u001b[0;32m----> 7\u001b[0m \u001b[43mcur\u001b[49m\u001b[38;5;241;43m.\u001b[39;49m\u001b[43mexecute\u001b[49m\u001b[43m(\u001b[49m\u001b[38;5;124;43m\"\"\"\u001b[39;49m\u001b[38;5;124;43mcreate table if not exists spots(\u001b[39;49m\n\u001b[1;32m      8\u001b[0m \u001b[38;5;124;43m            id serial primary key\u001b[39;49m\n\u001b[1;32m      9\u001b[0m \u001b[38;5;124;43m            name\u001b[39;49m\n\u001b[1;32m     10\u001b[0m \n\u001b[1;32m     11\u001b[0m \u001b[38;5;124;43m            )\u001b[39;49m\u001b[38;5;124;43m\"\"\"\u001b[39;49m\u001b[43m)\u001b[49m\n",
      "File \u001b[0;32m~/peter-projects/bodhi-assistant/nbs/python/.venv/lib/python3.10/site-packages/psycopg/cursor.py:732\u001b[0m, in \u001b[0;36mCursor.execute\u001b[0;34m(self, query, params, prepare, binary)\u001b[0m\n\u001b[1;32m    728\u001b[0m         \u001b[38;5;28mself\u001b[39m\u001b[38;5;241m.\u001b[39m_conn\u001b[38;5;241m.\u001b[39mwait(\n\u001b[1;32m    729\u001b[0m             \u001b[38;5;28mself\u001b[39m\u001b[38;5;241m.\u001b[39m_execute_gen(query, params, prepare\u001b[38;5;241m=\u001b[39mprepare, binary\u001b[38;5;241m=\u001b[39mbinary)\n\u001b[1;32m    730\u001b[0m         )\n\u001b[1;32m    731\u001b[0m \u001b[38;5;28;01mexcept\u001b[39;00m e\u001b[38;5;241m.\u001b[39m_NO_TRACEBACK \u001b[38;5;28;01mas\u001b[39;00m ex:\n\u001b[0;32m--> 732\u001b[0m     \u001b[38;5;28;01mraise\u001b[39;00m ex\u001b[38;5;241m.\u001b[39mwith_traceback(\u001b[38;5;28;01mNone\u001b[39;00m)\n\u001b[1;32m    733\u001b[0m \u001b[38;5;28;01mreturn\u001b[39;00m \u001b[38;5;28mself\u001b[39m\n",
      "\u001b[0;31mSyntaxError\u001b[0m: syntax error at or near \"name\"\nLINE 3:                     name\n                            ^"
     ]
    }
   ],
   "source": [
    "with psycopg.connect(conn_info) as conn:\n",
    "    with conn.cursor() as cur:\n",
    "        cur.execute(\"create extension if not exists vector\")\n",
    "        # rows = cur.fetchall()\n",
    "        # for row in rows:\n",
    "            # print(row)\n",
    "        cur.execute(\"\"\"create table if not exists spots(\n",
    "                    id serial primary key\n",
    "                    spot_name                     \n",
    "\n",
    "                    )\"\"\")"
   ]
  },
  {
   "cell_type": "code",
   "execution_count": null,
   "metadata": {},
   "outputs": [],
   "source": []
  }
 ],
 "metadata": {
  "kernelspec": {
   "display_name": ".venv",
   "language": "python",
   "name": "python3"
  },
  "language_info": {
   "codemirror_mode": {
    "name": "ipython",
    "version": 3
   },
   "file_extension": ".py",
   "mimetype": "text/x-python",
   "name": "python",
   "nbconvert_exporter": "python",
   "pygments_lexer": "ipython3",
   "version": "3.10.12"
  }
 },
 "nbformat": 4,
 "nbformat_minor": 4
}
