{
 "cells": [
  {
   "cell_type": "code",
   "execution_count": 2,
   "metadata": {},
   "outputs": [],
   "source": [
    "import os\n",
    "import requests\n",
    "import numpy as np\n",
    "import duckdb\n",
    "import polars as pl\n",
    "from dotenv import load_dotenv\n"
   ]
  },
  {
   "cell_type": "code",
   "execution_count": 3,
   "metadata": {},
   "outputs": [
    {
     "data": {
      "text/plain": [
       "True"
      ]
     },
     "execution_count": 3,
     "metadata": {},
     "output_type": "execute_result"
    }
   ],
   "source": [
    "load_dotenv()"
   ]
  },
  {
   "cell_type": "code",
   "execution_count": 4,
   "metadata": {},
   "outputs": [],
   "source": [
    "from typing import Dict, Optional, List, Any"
   ]
  },
  {
   "cell_type": "code",
   "execution_count": 5,
   "metadata": {},
   "outputs": [],
   "source": [
    "from anthropic.types import Message, TextBlock, ToolUseBlock\n",
    "from claudette.core import *"
   ]
  },
  {
   "cell_type": "markdown",
   "metadata": {},
   "source": [
    "### Define Model "
   ]
  },
  {
   "cell_type": "code",
   "execution_count": 6,
   "metadata": {},
   "outputs": [
    {
     "data": {
      "text/plain": [
       "'claude-3-haiku-20240307'"
      ]
     },
     "execution_count": 6,
     "metadata": {},
     "output_type": "execute_result"
    }
   ],
   "source": [
    "model = models[-1]\n",
    "model"
   ]
  },
  {
   "cell_type": "markdown",
   "metadata": {},
   "source": [
    "### Define Tools"
   ]
  },
  {
   "cell_type": "code",
   "execution_count": 15,
   "metadata": {},
   "outputs": [],
   "source": [
    "sp = \"\"\"\n",
    "You are an expert at generating statements of work for government contracting. You create statements of work(SOW) that are\n",
    "clear, concise, and adhere to best practices. Please use the provided examples to inform the style and best practices for your own\n",
    "SOW's.\n",
    "\n",
    "# STATEMENT OF WORK (SOW) EXAMPLES\n",
    "\n",
    "EXAMPLE 1 - Project Title: Pinewoods RO Treatment Plant and Wellfield Phase II\n",
    "\n",
    "A. Introduction/Background\n",
    "\n",
    "Lee County Utilities (LCU) owns and operates the Pinewoods Water Treatment Plant and related\n",
    "public water supply wellfield south of Corkscrew Road approximately one mile east of Interstate I-\n",
    "\n",
    "75. Currently, the wellfield consists of wells withdrawing water from traditional sources, the\n",
    "surficial and sandstone aquifers. Given the competition for fresh water resources and potential\n",
    "wetland impacts LCU decided that further development of raw water from traditional sources in\n",
    "this area was not feasible. Therefore, it was decided that further wellfield development would be\n",
    "raw water from the Lower Hawthorne aquifer, an alternative source. Lee County has initiated the\n",
    "construction of Pinewoods Lower Hawthorne Wells and RO Treatment Plant Phase I. In phase I\n",
    "the storage tank and RO building were completed. The next phase of this project will consist of\n",
    "completion of the 3.2 million gallons per day (MGD) Reverse Osmosis (RO) Water Treatment\n",
    "Plant (WTP) and the related Lower Hawthorne Wellfield.\n",
    "\n",
    "B. Objectives\n",
    "\n",
    "The objective of this project is to assist in the completion of the Pinewoods Reverse Osmosis\n",
    "Water Treatment Plant and Lower Hawthorne Wellfield Phase II to help meet the City's water\n",
    "supply demands.\n",
    "\n",
    "C. Scope of Work\n",
    "\n",
    "Fiscal Year 2007 work will complete construction of a 3.2 mgd water treatment facility and four\n",
    "Lower Hawthorne Floridan Aquifer Production wells. Work will include construction of RO\n",
    "equipment, high service pumps, mechanical equipment, yard piping, wellfield piping, electrical\n",
    "equipment, production wells, monitoring wells, raw water pipelines, and related appurtenances.\n",
    "\n",
    "EXAMPLE 2 - Project Title: Floridan Aquifer Wells (2) at Dixie Wellfield\n",
    "\n",
    "A Introduction/Background\n",
    "\n",
    "The project titled “Dixie Brackish Water Supply / Treatment Facility” is composed of multiple\n",
    "phases as follows:\n",
    "\n",
    "- Phase 1 - Construct Two Floridan Aquifer Test Wells\n",
    "- Phase 2 - Conceptual Plan for Brackish Water Supply and Treatment\n",
    "- Phase 3 - RO Membrane Pilot Testing\n",
    "- Phase 4 - Floridan Aquifer Production Well Design & Construction\n",
    "- Phase 5 - Wellfield Conveyance Facilities Design & Construction\n",
    "- Phase 6 - Dixie Reverse Osmosis Facilities Design & Construction\n",
    "\n",
    "This project includes construction work associated with Phase 1, which includes the installation\n",
    "and testing of two (2) 24-inch diameter by approximately 1,100-foot deep water supply wells to be\n",
    "completed in the Floridan Aquifer within the City of Fort Lauderdale's Dixie Wellfield. These wells\n",
    "will provide raw water to the Peele-Dixie Water Treatment Plant.\n",
    "\n",
    "B Objectives\n",
    "\n",
    "The objective of this project is to assist in the construction of a well field necessary to supply\n",
    "Floridan Aquifer water to help meet the City's water supply demands.\n",
    "\n",
    "\n",
    "C Scope of Work\n",
    "\n",
    "Fiscal Year 2007 work will consist of construction and testing of two 24-inch diameter water\n",
    "supply wells completed in the Floridan Aquifer. The wells are anticipated to able about 1,100 feet\n",
    "in depth and will be located at the City of Fort Lauderdale's Dixie Wellfield. These wells will\n",
    "provide raw water to the Peele-Dixie Water Treatment Plant.\n",
    "\n",
    "EXAMPLE 3 - Project Title: Floridan Aquifer Wells (2) and Two (2) MGD RO Expansion\n",
    "\n",
    "A Introduction/Background\n",
    "\n",
    "The City of Hollywood WTP requires additional treated capacity to service its existing and\n",
    "developing customer base. Additional raw water supply to be able to produce additional treated\n",
    "capacity is required in the short term. This request includes construction of two (2) new Floridan\n",
    "Aquifer groundwater wells classified as proposed under existing Consumptive Use Permit (CUP).\n",
    "These wells have previously been identified in the Lower East Coast Water Supply\n",
    "Questionnaire. In addition, a new 2 MGD Reverse Osmosis (RO) train is required to be built to\n",
    "increase treated capacity added to the distribution system from the Floridan water supply.\n",
    "\n",
    "Proposed Floridan Aquifer production wells requested under this application have already been\n",
    "characterized in the existing CUP. This project converts proposed production wells into existing\n",
    "test production wells, augmenting available supply from the Floridan Aquifer. Plans to revise the\n",
    "CUP accordingly are underway.\n",
    "\n",
    "Construction of new 2 MGD RO train has limited permitting requirements which will be obtained\n",
    "during the Bid Preparation stage indicated on the attached schedule. Hollywood RO system has\n",
    "been designed and built for modular expansion. RO train to be constructed will be replication of\n",
    "existing 2 MGD train and will be fabricated by skid supplier according to pre-established design\n",
    "specifications.\n",
    "\n",
    "B Objectives\n",
    "\n",
    "The objective of this project is to help meet the additional treated capacity required to service the\n",
    "City's existing developing customer base by increasing the Floridan Aquifer raw water supply and\n",
    "the Reverse Osmosis water treatment plant capacity.\n",
    "\n",
    "C Scope of Work\n",
    "\n",
    "This project entails the construction of two (2) Floridan Aquifer test production wells (16”\n",
    "diameter, cased to 950') and installation of an additional 2 MGD skid-mounted RO train starting\n",
    "from the pump discharge and terminating at the concentrate and permeate headers within the\n",
    "skid.\n",
    "\n",
    "The two (2) Floridan Alternative Water Supply wells (estimated at $920,000 per well, 16”\n",
    "diameter, cased to 950') are contained in the existing Consumptive Use Permit. These wells\n",
    "previously have been identified in the Lower East Coast Water Supply Questionnaire. Wells will\n",
    "be constructed as “test” production wells in this phase to enable water quality analysis,\n",
    "confirmation of hydro-geologic conditions, pump selection, and raw water pipeline design to be\n",
    "performed for construction in subsequent phase.\n",
    "\n",
    "The new two (2) MGD RO membrane train (approximately $619,600 cost) will be constructed\n",
    "from existing design information to increase the proportion of Plant treated water originating from\n",
    "the Floridan Aquifer Alternative Water Supply and allow utilization of new production wells also\n",
    "contained in this request.\n",
    "\n",
    "\n",
    "EXAMPLE 4 - Project Title: Reclaimed Water Booster Pump Station (North-South\n",
    "Interconnect Pipes under Livingston Road)\n",
    "\n",
    "A Introduction/Background\n",
    "\n",
    "Collier County reused approximately 5 billion gallons of treated wastewater in 2004. The majority\n",
    "of the water is used by commercial and residential users for irrigation. Collier County also uses\n",
    "reclaimed water for irrigation at various parks and roadway medians. A small portion of the\n",
    "reclaimed water is used for environmental mitigation. The reclaimed water system is made up of\n",
    "over 50 miles of distribution piping, 130 million gallons of wet weather storage, two deep injection\n",
    "wells, and six large pumping stations.\n",
    "\n",
    "The County serves two reclaimed water service areas referred to as the South and North service\n",
    "areas. The South service area is primarily served by treated effluent from the South County\n",
    "Water Reclamation Facility (WRF) and the North service area is served by the North County\n",
    "WRF. The main issue Collier County's reclaimed water program faces is wet weather storage.\n",
    "\n",
    "The County has identified a need to construct an in-line booster pump station to add flexibility and\n",
    "increase efficiency to their reclaimed water system. The reclaimed water pump station will\n",
    "enhance the interconnections of the North and South reclaimed water service areas, allowing the\n",
    "County to serve as many customers as possible and also maximizing the use of their reclaimed\n",
    "water storage facilities, including the reclaimed water ASR system, located in the North service\n",
    "area.\n",
    "\n",
    "B Objectives\n",
    "\n",
    "This project will allow storage of reclaimed water during the wet season, providing additional\n",
    "reclaimed water during the peak demand. The project will consist of two phases: Phase 1 is to\n",
    "connect the North and South reclaimed water service areas by microtunneling under the\n",
    "Livingston Road; Phase 2 is to build a reclaimed water booster pumping station.\n",
    "\n",
    "C Scope of Work\n",
    "\n",
    "FY2007 work activities include Phase 1: the microtunneling of two 16-inch reclaimed water mains\n",
    "across Livingston Road.\n",
    "\n",
    "EXAMPLE 5 - Project Title: JEA 16.5 MGD Floridan Wellfield and RO Expansion Ph II\n",
    "\n",
    "A Introduction/Background\n",
    "\n",
    "The City of Port St. Lucie's has a water and waste water master plan. Sources of water for the\n",
    "City in the near future are anticipated to be from the Floridan Aquifer. Major impediments to\n",
    "increasing the use of alternative water supplies includes competition with are communities for\n",
    "allocations from the same aquifer water source. This project will provide substantial\n",
    "environmental benefits by replacing water typically supplied from the Surficial Aquifer sources\n",
    "with brackish water from the Floridan Aquifer. It will also reduce competition for water supplies by\n",
    "reducing the quantity of Surficial Aquifer source water needed by the City of Port St. Lucie.\n",
    "\n",
    "\n",
    "B Objectives\n",
    "\n",
    "To expand the JEA Reverse Osmosis Water Treatment Plant capacity from 6.0 MGD to 22.\n",
    "MGD by increasing the numbers of Floridan wells and the number of reverse osmosis membrane\n",
    "trains.\n",
    "\n",
    "C Scope of Work\n",
    "\n",
    "Project work includes construction of water mains for raw water wells to supply water from the\n",
    "Floridan aquifer and expansion of the JEA Reverse Osmosis Water Treatment Plant from 6.\n",
    "MGD to 22.5 MGD Phase II of this work is for the water mains for raw water wells F-13, F-14, and\n",
    "F-15.\n",
    "\n",
    "\n",
    "\"\"\""
   ]
  },
  {
   "cell_type": "code",
   "execution_count": 16,
   "metadata": {},
   "outputs": [],
   "source": [
    "text_input = \"\"\"There has been an increase of traffic and wear and tear on main st. in charlottesville, va.\n",
    "Can you create a statement of work for repaving it? There will need to be at least 3 applications of asphalt and sealant. \n",
    "We will also have to proceed in phases because we can only disrupt traffic for a week at a time. Let's do 3-5 phases.\"\"\""
   ]
  },
  {
   "cell_type": "code",
   "execution_count": 18,
   "metadata": {},
   "outputs": [],
   "source": [
    "sow_chat = Chat(model=model, sp=sp)"
   ]
  },
  {
   "cell_type": "code",
   "execution_count": 20,
   "metadata": {},
   "outputs": [
    {
     "data": {
      "text/markdown": [
       "STATEMENT OF WORK (SOW)\n",
       "\n",
       "Project Title: Repaving of Main Street, Charlottesville, VA\n",
       "\n",
       "A. Introduction/Background\n",
       "The City of Charlottesville has experienced an increase in traffic and wear and tear on Main Street, necessitating a comprehensive repaving project. The repaving will involve a multi-phase approach to minimize disruption to traffic and ensure the efficient completion of the work.\n",
       "\n",
       "B. Objectives\n",
       "The primary objectives of this project are to:\n",
       "1. Restore the structural integrity and surface condition of Main Street through a multi-layered asphalt application and sealant treatment.\n",
       "2. Implement the repaving work in a phased approach to maintain traffic flow and minimize disruptions to the local community.\n",
       "\n",
       "C. Scope of Work\n",
       "The scope of work for this project includes the following:\n",
       "\n",
       "Phase 1:\n",
       "1. Prepare the existing road surface by milling and removing the top layer of asphalt.\n",
       "2. Apply the first layer of asphalt, with a minimum thickness of 2 inches.\n",
       "3. Apply a sealant coating to the new asphalt surface.\n",
       "4. Restore all affected areas, including curbs, gutters, and sidewalks, to their original condition.\n",
       "5. Implement traffic control measures, such as lane closures and detours, to facilitate the work while maintaining access to local businesses and residences.\n",
       "\n",
       "Phase 2:\n",
       "1. Repeat the process outlined in Phase 1, including milling, applying a second layer of asphalt (minimum 2 inches), and applying a sealant coating.\n",
       "2. Continue to implement traffic control measures to minimize disruptions to the local community.\n",
       "\n",
       "Phase 3:\n",
       "1. Repeat the process outlined in Phase 1 and 2, including milling, applying a third layer of asphalt (minimum 2 inches), and applying a sealant coating.\n",
       "2. Finalize all restoration work, including curbs, gutters, and sidewalks.\n",
       "3. Implement final traffic control measures to ensure the safe and efficient completion of the project.\n",
       "\n",
       "D. Project Schedule\n",
       "The project is expected to be completed within a 3-5 phase approach, with each phase lasting approximately one week. The specific schedule will be coordinated with the City of Charlottesville to minimize disruptions to local businesses and residents.\n",
       "\n",
       "E. Deliverables\n",
       "1. Repaved Main Street with a minimum of three layers of asphalt and sealant coating.\n",
       "2. Restored curbs, gutters, and sidewalks to their original condition.\n",
       "3. Maintained traffic flow and access to local businesses and residences throughout the project.\n",
       "\n",
       "F. Project Management and Coordination\n",
       "The Contractor shall work closely with the City of Charlottesville to ensure the successful completion of the project. Regular progress meetings and coordination with local stakeholders will be required to address any concerns or issues that may arise during the course of the work.\n",
       "\n",
       "<details>\n",
       "\n",
       "- id: msg_01LK6vmRhbMCGb6xhSKCrYmX\n",
       "- content: [{'text': 'STATEMENT OF WORK (SOW)\\n\\nProject Title: Repaving of Main Street, Charlottesville, VA\\n\\nA. Introduction/Background\\nThe City of Charlottesville has experienced an increase in traffic and wear and tear on Main Street, necessitating a comprehensive repaving project. The repaving will involve a multi-phase approach to minimize disruption to traffic and ensure the efficient completion of the work.\\n\\nB. Objectives\\nThe primary objectives of this project are to:\\n1. Restore the structural integrity and surface condition of Main Street through a multi-layered asphalt application and sealant treatment.\\n2. Implement the repaving work in a phased approach to maintain traffic flow and minimize disruptions to the local community.\\n\\nC. Scope of Work\\nThe scope of work for this project includes the following:\\n\\nPhase 1:\\n1. Prepare the existing road surface by milling and removing the top layer of asphalt.\\n2. Apply the first layer of asphalt, with a minimum thickness of 2 inches.\\n3. Apply a sealant coating to the new asphalt surface.\\n4. Restore all affected areas, including curbs, gutters, and sidewalks, to their original condition.\\n5. Implement traffic control measures, such as lane closures and detours, to facilitate the work while maintaining access to local businesses and residences.\\n\\nPhase 2:\\n1. Repeat the process outlined in Phase 1, including milling, applying a second layer of asphalt (minimum 2 inches), and applying a sealant coating.\\n2. Continue to implement traffic control measures to minimize disruptions to the local community.\\n\\nPhase 3:\\n1. Repeat the process outlined in Phase 1 and 2, including milling, applying a third layer of asphalt (minimum 2 inches), and applying a sealant coating.\\n2. Finalize all restoration work, including curbs, gutters, and sidewalks.\\n3. Implement final traffic control measures to ensure the safe and efficient completion of the project.\\n\\nD. Project Schedule\\nThe project is expected to be completed within a 3-5 phase approach, with each phase lasting approximately one week. The specific schedule will be coordinated with the City of Charlottesville to minimize disruptions to local businesses and residents.\\n\\nE. Deliverables\\n1. Repaved Main Street with a minimum of three layers of asphalt and sealant coating.\\n2. Restored curbs, gutters, and sidewalks to their original condition.\\n3. Maintained traffic flow and access to local businesses and residences throughout the project.\\n\\nF. Project Management and Coordination\\nThe Contractor shall work closely with the City of Charlottesville to ensure the successful completion of the project. Regular progress meetings and coordination with local stakeholders will be required to address any concerns or issues that may arise during the course of the work.', 'type': 'text'}]\n",
       "- model: claude-3-haiku-20240307\n",
       "- role: assistant\n",
       "- stop_reason: end_turn\n",
       "- stop_sequence: None\n",
       "- type: message\n",
       "- usage: {'input_tokens': 2424, 'output_tokens': 645}\n",
       "\n",
       "</details>"
      ],
      "text/plain": [
       "Message(id='msg_01LK6vmRhbMCGb6xhSKCrYmX', content=[TextBlock(text='STATEMENT OF WORK (SOW)\\n\\nProject Title: Repaving of Main Street, Charlottesville, VA\\n\\nA. Introduction/Background\\nThe City of Charlottesville has experienced an increase in traffic and wear and tear on Main Street, necessitating a comprehensive repaving project. The repaving will involve a multi-phase approach to minimize disruption to traffic and ensure the efficient completion of the work.\\n\\nB. Objectives\\nThe primary objectives of this project are to:\\n1. Restore the structural integrity and surface condition of Main Street through a multi-layered asphalt application and sealant treatment.\\n2. Implement the repaving work in a phased approach to maintain traffic flow and minimize disruptions to the local community.\\n\\nC. Scope of Work\\nThe scope of work for this project includes the following:\\n\\nPhase 1:\\n1. Prepare the existing road surface by milling and removing the top layer of asphalt.\\n2. Apply the first layer of asphalt, with a minimum thickness of 2 inches.\\n3. Apply a sealant coating to the new asphalt surface.\\n4. Restore all affected areas, including curbs, gutters, and sidewalks, to their original condition.\\n5. Implement traffic control measures, such as lane closures and detours, to facilitate the work while maintaining access to local businesses and residences.\\n\\nPhase 2:\\n1. Repeat the process outlined in Phase 1, including milling, applying a second layer of asphalt (minimum 2 inches), and applying a sealant coating.\\n2. Continue to implement traffic control measures to minimize disruptions to the local community.\\n\\nPhase 3:\\n1. Repeat the process outlined in Phase 1 and 2, including milling, applying a third layer of asphalt (minimum 2 inches), and applying a sealant coating.\\n2. Finalize all restoration work, including curbs, gutters, and sidewalks.\\n3. Implement final traffic control measures to ensure the safe and efficient completion of the project.\\n\\nD. Project Schedule\\nThe project is expected to be completed within a 3-5 phase approach, with each phase lasting approximately one week. The specific schedule will be coordinated with the City of Charlottesville to minimize disruptions to local businesses and residents.\\n\\nE. Deliverables\\n1. Repaved Main Street with a minimum of three layers of asphalt and sealant coating.\\n2. Restored curbs, gutters, and sidewalks to their original condition.\\n3. Maintained traffic flow and access to local businesses and residences throughout the project.\\n\\nF. Project Management and Coordination\\nThe Contractor shall work closely with the City of Charlottesville to ensure the successful completion of the project. Regular progress meetings and coordination with local stakeholders will be required to address any concerns or issues that may arise during the course of the work.', type='text')], model='claude-3-haiku-20240307', role='assistant', stop_reason='end_turn', stop_sequence=None, type='message', usage=In: 2424; Out: 645; Total: 3069)"
      ]
     },
     "execution_count": 20,
     "metadata": {},
     "output_type": "execute_result"
    }
   ],
   "source": [
    "sow_chat(text_input)"
   ]
  },
  {
   "cell_type": "code",
   "execution_count": 21,
   "metadata": {},
   "outputs": [
    {
     "data": {
      "text/plain": [
       "In: 364; Out: 41; Total: 405"
      ]
     },
     "execution_count": 21,
     "metadata": {},
     "output_type": "execute_result"
    }
   ],
   "source": [
    "chat.use"
   ]
  },
  {
   "cell_type": "code",
   "execution_count": 7,
   "metadata": {},
   "outputs": [],
   "source": [
    "bodhicast_spec = \"https://api.bodhicast.com/openapi.json\""
   ]
  },
  {
   "cell_type": "code",
   "execution_count": 8,
   "metadata": {},
   "outputs": [],
   "source": [
    "def get_bodhicast_spec(\n",
    ") -> dict: # OpenAPI Specification\n",
    "    \"Retrieves the OpenAPI specification for the bodhicast API\"\n",
    "    print(f'- Retrieving bodhicast API spec.')\n",
    "    res = requests.get(bodhicast_spec)\n",
    "    return res.json()"
   ]
  },
  {
   "cell_type": "code",
   "execution_count": 11,
   "metadata": {},
   "outputs": [
    {
     "name": "stdout",
     "output_type": "stream",
     "text": [
      "- Retrieving bodhicast API spec.\n",
      "tool_use\n"
     ]
    },
    {
     "data": {
      "text/plain": [
       "[ToolUseBlock(id='toolu_01AXBjoPakxNu1gGGXXtxSjB', input={}, name='get_bodhicast_spec', type='tool_use')]"
      ]
     },
     "execution_count": 11,
     "metadata": {},
     "output_type": "execute_result"
    }
   ],
   "source": [
    "r = chat('What endpoint should i use for adding spots in bodhicast?')\n",
    "print(r.stop_reason)\n",
    "r.content"
   ]
  },
  {
   "cell_type": "code",
   "execution_count": 11,
   "metadata": {},
   "outputs": [],
   "source": [
    "r = chat()"
   ]
  },
  {
   "cell_type": "code",
   "execution_count": 12,
   "metadata": {},
   "outputs": [
    {
     "data": {
      "text/plain": [
       "'Based on the OpenAPI specification, the endpoint you should use for adding spots in bodhicast is `/addspot`. This endpoint accepts a `SpotCreate` model as the request body, which includes the latitude, longitude, spot name, and street address of the new spot.\\n\\nThe relevant details are:\\n\\n- Endpoint: `/addspot`\\n- HTTP Method: `POST`\\n- Request Body: `SpotCreate` model with the following properties:\\n    - `lat`: latitude of the spot\\n    - `lng`: longitude of the spot\\n    - `spot_name`: name of the spot\\n    - `street_address`: street address of the spot\\n- Response: A dictionary with a message indicating the successful creation of the spot.\\n\\nSo, to add a new spot, you would make a POST request to the `/addspot` endpoint with a JSON payload containing the spot details.'"
      ]
     },
     "execution_count": 12,
     "metadata": {},
     "output_type": "execute_result"
    }
   ],
   "source": [
    "contents(r)"
   ]
  },
  {
   "cell_type": "code",
   "execution_count": 13,
   "metadata": {},
   "outputs": [
    {
     "name": "stdout",
     "output_type": "stream",
     "text": [
      "- Retrieving bodhicast API spec.\n",
      "Message(id='msg_018UKYEaupjV8Fva98icXw54', content=[ToolUseBlock(id='toolu_01VjHmR2tsDotsBWfyPusCo2', input={}, name='get_bodhicast_spec', type='tool_use')], model='claude-3-haiku-20240307', role='assistant', stop_reason='tool_use', stop_sequence=None, type='message', usage=In: 374; Out: 41; Total: 415)\n",
      "- Retrieving bodhicast API spec.\n",
      "Message(id='msg_01CWvPoS8tdwzSXD8tXGSZuY', content=[TextBlock(text='Based on the OpenAPI specification, the structure for the create spot endpoint in bodhicast should be as follows:', type='text'), ToolUseBlock(id='toolu_013f3P2WLZukbuvSWXT7ZEX6', input={}, name='get_bodhicast_spec', type='tool_use')], model='claude-3-haiku-20240307', role='assistant', stop_reason='tool_use', stop_sequence=None, type='message', usage=In: 2628; Out: 67; Total: 2695)\n",
      "- Retrieving bodhicast API spec.\n",
      "Message(id='msg_01CGKQVMqeaZrPChSUCLYFhF', content=[TextBlock(text='The structure for the create spot endpoint in bodhicast should be as follows:', type='text'), ToolUseBlock(id='toolu_018piHcWg3x8WJdfkLk1v4im', input={}, name='get_bodhicast_spec', type='tool_use')], model='claude-3-haiku-20240307', role='assistant', stop_reason='tool_use', stop_sequence=None, type='message', usage=In: 4907; Out: 60; Total: 4967)\n",
      "Message(id='msg_01A6Y1CJRhNJ4ksxDZc2UxXL', content=[TextBlock(text='The create spot endpoint in bodhicast expects a JSON request body with the following structure:\\n\\n```json\\n{\\n    \"lat\": 36.83055459542353,\\n    \"lng\": -75.96764801341773,\\n    \"spot_name\": \"1st Street Jetty\",\\n    \"street_address\": \"Virginia Beach, Va 23451\"\\n}\\n```\\n\\nThe request body should be a JSON object with the following properties:\\n\\n- `lat`: a number representing the latitude of the spot\\n- `lng`: a number representing the longitude of the spot\\n- `spot_name`: a string representing the name of the spot\\n- `street_address`: a string representing the street address of the spot\\n\\nThe endpoint will return a JSON response with a message indicating the successful creation of the spot, like this:\\n\\n```json\\n{\\n    \"message\": \"Spot successfully created\"\\n}\\n```', type='text')], model='claude-3-haiku-20240307', role='assistant', stop_reason='end_turn', stop_sequence=None, type='message', usage=In: 7179; Out: 204; Total: 7383)\n"
     ]
    }
   ],
   "source": [
    "chat = Chat(model, tools=tools)\n",
    "r = chat.toolloop('Can you provide me with an example of the structure I should use for the create spot endpoint in bodhicast?', trace_func=print)"
   ]
  },
  {
   "cell_type": "code",
   "execution_count": 14,
   "metadata": {},
   "outputs": [
    {
     "name": "stdout",
     "output_type": "stream",
     "text": [
      "The create spot endpoint in bodhicast expects a JSON request body with the following structure:\n",
      "\n",
      "```json\n",
      "{\n",
      "    \"lat\": 36.83055459542353,\n",
      "    \"lng\": -75.96764801341773,\n",
      "    \"spot_name\": \"1st Street Jetty\",\n",
      "    \"street_address\": \"Virginia Beach, Va 23451\"\n",
      "}\n",
      "```\n",
      "\n",
      "The request body should be a JSON object with the following properties:\n",
      "\n",
      "- `lat`: a number representing the latitude of the spot\n",
      "- `lng`: a number representing the longitude of the spot\n",
      "- `spot_name`: a string representing the name of the spot\n",
      "- `street_address`: a string representing the street address of the spot\n",
      "\n",
      "The endpoint will return a JSON response with a message indicating the successful creation of the spot, like this:\n",
      "\n",
      "```json\n",
      "{\n",
      "    \"message\": \"Spot successfully created\"\n",
      "}\n",
      "```\n"
     ]
    }
   ],
   "source": [
    "print(r.content[0].text)"
   ]
  },
  {
   "cell_type": "markdown",
   "metadata": {},
   "source": [
    "### Get a few random spots"
   ]
  },
  {
   "cell_type": "code",
   "execution_count": 15,
   "metadata": {},
   "outputs": [],
   "source": [
    "bodhicast_url_base = 'https://api.bodhicast.com'"
   ]
  },
  {
   "cell_type": "code",
   "execution_count": 16,
   "metadata": {},
   "outputs": [],
   "source": [
    "spots_url = f'{bodhicast_url_base}/spots'"
   ]
  },
  {
   "cell_type": "code",
   "execution_count": 17,
   "metadata": {},
   "outputs": [],
   "source": [
    "spots = requests.get(spots_url)"
   ]
  },
  {
   "cell_type": "code",
   "execution_count": 18,
   "metadata": {},
   "outputs": [],
   "source": [
    "spot_list = spots.json()"
   ]
  },
  {
   "cell_type": "code",
   "execution_count": 19,
   "metadata": {},
   "outputs": [],
   "source": [
    "spot_sample = np.random.choice(spot_list, 5, replace=False)"
   ]
  },
  {
   "cell_type": "code",
   "execution_count": 20,
   "metadata": {},
   "outputs": [
    {
     "data": {
      "text/plain": [
       "array([{'id': 830, 'latitude': 41.145758, 'longitude': -71.59174, 'spot_name': 'Black Rock Point', 'street_address': 'New Shoreham, Rhode Island'},\n",
       "       {'id': 361, 'latitude': 39.6458, 'longitude': -74.18338, 'spot_name': 'Borough of Ship Bottom', 'street_address': 'Beach Haven, New Jersey'},\n",
       "       {'id': 760, 'latitude': 41.315015, 'longitude': -70.76408, 'spot_name': 'Squibnocket', 'street_address': 'Gay Head, Massachusetts'},\n",
       "       {'id': 945, 'latitude': 33.90129336911256, 'longitude': -118.42184, 'spot_name': 'El Porto', 'street_address': 'Manhattan Beach, California'},\n",
       "       {'id': 395, 'latitude': 40.113, 'longitude': -74.028, 'spot_name': 'Manasquan Inlet', 'street_address': 'Manasquan, New Jersey'}],\n",
       "      dtype=object)"
      ]
     },
     "execution_count": 20,
     "metadata": {},
     "output_type": "execute_result"
    }
   ],
   "source": [
    "spot_sample"
   ]
  },
  {
   "cell_type": "markdown",
   "metadata": {},
   "source": [
    "### Open Meteo Weather"
   ]
  },
  {
   "cell_type": "code",
   "execution_count": 21,
   "metadata": {},
   "outputs": [],
   "source": [
    "from string import Template"
   ]
  },
  {
   "cell_type": "code",
   "execution_count": 22,
   "metadata": {},
   "outputs": [],
   "source": [
    "temperature_template = Template('https://api.open-meteo.com/v1/forecast?latitude={lat}&longitude={lon}&current=temperature_2m')"
   ]
  },
  {
   "cell_type": "code",
   "execution_count": 23,
   "metadata": {},
   "outputs": [
    {
     "data": {
      "text/plain": [
       "'https://api.open-meteo.com/v1/forecast?latitude={lat}&longitude={lon}&current=temperature_2m'"
      ]
     },
     "execution_count": 23,
     "metadata": {},
     "output_type": "execute_result"
    }
   ],
   "source": [
    "temperature_template.template"
   ]
  },
  {
   "cell_type": "markdown",
   "metadata": {},
   "source": [
    "### Setup Db"
   ]
  },
  {
   "cell_type": "code",
   "execution_count": 24,
   "metadata": {},
   "outputs": [],
   "source": [
    "import psycopg"
   ]
  },
  {
   "cell_type": "code",
   "execution_count": 25,
   "metadata": {},
   "outputs": [],
   "source": [
    "conn_info = \"dbname='postgres' user='postgres' password='postgres' host='localhost' port='5432'\"\n"
   ]
  },
  {
   "cell_type": "code",
   "execution_count": 26,
   "metadata": {},
   "outputs": [
    {
     "ename": "SyntaxError",
     "evalue": "syntax error at or near \"name\"\nLINE 3:                     name\n                            ^",
     "output_type": "error",
     "traceback": [
      "\u001b[0;31m---------------------------------------------------------------------------\u001b[0m",
      "\u001b[0;31mSyntaxError\u001b[0m                               Traceback (most recent call last)",
      "Cell \u001b[0;32mIn[26], line 7\u001b[0m\n\u001b[1;32m      3\u001b[0m cur\u001b[38;5;241m.\u001b[39mexecute(\u001b[38;5;124m\"\u001b[39m\u001b[38;5;124mcreate extension if not exists vector\u001b[39m\u001b[38;5;124m\"\u001b[39m)\n\u001b[1;32m      4\u001b[0m \u001b[38;5;66;03m# rows = cur.fetchall()\u001b[39;00m\n\u001b[1;32m      5\u001b[0m \u001b[38;5;66;03m# for row in rows:\u001b[39;00m\n\u001b[1;32m      6\u001b[0m     \u001b[38;5;66;03m# print(row)\u001b[39;00m\n\u001b[0;32m----> 7\u001b[0m \u001b[43mcur\u001b[49m\u001b[38;5;241;43m.\u001b[39;49m\u001b[43mexecute\u001b[49m\u001b[43m(\u001b[49m\u001b[38;5;124;43m\"\"\"\u001b[39;49m\u001b[38;5;124;43mcreate table if not exists spots(\u001b[39;49m\n\u001b[1;32m      8\u001b[0m \u001b[38;5;124;43m            id serial primary key\u001b[39;49m\n\u001b[1;32m      9\u001b[0m \u001b[38;5;124;43m            name\u001b[39;49m\n\u001b[1;32m     10\u001b[0m \n\u001b[1;32m     11\u001b[0m \u001b[38;5;124;43m            )\u001b[39;49m\u001b[38;5;124;43m\"\"\"\u001b[39;49m\u001b[43m)\u001b[49m\n",
      "File \u001b[0;32m~/peter-projects/bodhi-assistant/nbs/python/.venv/lib/python3.10/site-packages/psycopg/cursor.py:732\u001b[0m, in \u001b[0;36mCursor.execute\u001b[0;34m(self, query, params, prepare, binary)\u001b[0m\n\u001b[1;32m    728\u001b[0m         \u001b[38;5;28mself\u001b[39m\u001b[38;5;241m.\u001b[39m_conn\u001b[38;5;241m.\u001b[39mwait(\n\u001b[1;32m    729\u001b[0m             \u001b[38;5;28mself\u001b[39m\u001b[38;5;241m.\u001b[39m_execute_gen(query, params, prepare\u001b[38;5;241m=\u001b[39mprepare, binary\u001b[38;5;241m=\u001b[39mbinary)\n\u001b[1;32m    730\u001b[0m         )\n\u001b[1;32m    731\u001b[0m \u001b[38;5;28;01mexcept\u001b[39;00m e\u001b[38;5;241m.\u001b[39m_NO_TRACEBACK \u001b[38;5;28;01mas\u001b[39;00m ex:\n\u001b[0;32m--> 732\u001b[0m     \u001b[38;5;28;01mraise\u001b[39;00m ex\u001b[38;5;241m.\u001b[39mwith_traceback(\u001b[38;5;28;01mNone\u001b[39;00m)\n\u001b[1;32m    733\u001b[0m \u001b[38;5;28;01mreturn\u001b[39;00m \u001b[38;5;28mself\u001b[39m\n",
      "\u001b[0;31mSyntaxError\u001b[0m: syntax error at or near \"name\"\nLINE 3:                     name\n                            ^"
     ]
    }
   ],
   "source": [
    "with psycopg.connect(conn_info) as conn:\n",
    "    with conn.cursor() as cur:\n",
    "        cur.execute(\"create extension if not exists vector\")\n",
    "        # rows = cur.fetchall()\n",
    "        # for row in rows:\n",
    "            # print(row)\n",
    "        cur.execute(\"\"\"create table if not exists spots(\n",
    "                    id serial primary key\n",
    "                    spot_name                     \n",
    "\n",
    "                    )\"\"\")"
   ]
  },
  {
   "cell_type": "code",
   "execution_count": null,
   "metadata": {},
   "outputs": [],
   "source": []
  }
 ],
 "metadata": {
  "kernelspec": {
   "display_name": "bodhi-assist-ipy",
   "language": "python",
   "name": "bodhi-assist-ipy"
  },
  "language_info": {
   "codemirror_mode": {
    "name": "ipython",
    "version": 3
   },
   "file_extension": ".py",
   "mimetype": "text/x-python",
   "name": "python",
   "nbconvert_exporter": "python",
   "pygments_lexer": "ipython3",
   "version": "3.10.12"
  }
 },
 "nbformat": 4,
 "nbformat_minor": 4
}
