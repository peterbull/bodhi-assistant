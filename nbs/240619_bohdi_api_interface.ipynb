{
 "cells": [
  {
   "cell_type": "code",
   "execution_count": 1,
   "id": "d82f7a4c-085f-4db2-a5bd-29ccd3fc8da1",
   "metadata": {},
   "outputs": [],
   "source": [
    "import { DynamicTool, DynamicStructuredTool } from \"https://esm.sh/@langchain/core/tools\";\n"
   ]
  },
  {
   "cell_type": "code",
   "execution_count": 2,
   "id": "9bcfc759-930d-42d7-8dea-91000b81f39f",
   "metadata": {},
   "outputs": [],
   "source": [
    "async function getSpots () {\n",
    "    const res = await fetch('https://api.bodhicast.com/spots');\n",
    "    const data = await res.json();\n",
    "    return data\n",
    "}\n",
    "    "
   ]
  },
  {
   "cell_type": "code",
   "execution_count": 3,
   "id": "557ef4be-ee1c-4820-9815-3abbebccf28d",
   "metadata": {},
   "outputs": [],
   "source": [
    "const spots = await getSpots()"
   ]
  },
  {
   "cell_type": "code",
   "execution_count": 16,
   "id": "124122c8-690c-4c05-8441-fa5060a329c7",
   "metadata": {},
   "outputs": [
    {
     "data": {
      "text/plain": [
       "{ name: \u001b[32m\"printName\"\u001b[39m, description: \u001b[32m\"prints a name\"\u001b[39m }"
      ]
     },
     "execution_count": 16,
     "metadata": {},
     "output_type": "execute_result"
    }
   ],
   "source": [
    "async function printName (name: string) {\n",
    "    console.log(name)\n",
    "}\n",
    "printName.metadata = {name: 'printName', description: 'prints a name'}"
   ]
  },
  {
   "cell_type": "code",
   "execution_count": 20,
   "id": "827caad8-4614-47d0-8cd8-ab35f02b6795",
   "metadata": {},
   "outputs": [
    {
     "name": "stdout",
     "output_type": "stream",
     "text": [
      "peter\n"
     ]
    }
   ],
   "source": [
    "await printName('peter')"
   ]
  },
  {
   "cell_type": "code",
   "execution_count": 21,
   "id": "88975189-bb64-4777-b528-aa535b674294",
   "metadata": {},
   "outputs": [
    {
     "data": {
      "text/plain": [
       "{ name: \u001b[32m\"printName\"\u001b[39m, description: \u001b[32m\"prints a name\"\u001b[39m }"
      ]
     },
     "execution_count": 21,
     "metadata": {},
     "output_type": "execute_result"
    }
   ],
   "source": [
    "printName.metadata"
   ]
  },
  {
   "cell_type": "code",
   "execution_count": 10,
   "id": "40b54255-cbe5-4039-9b49-eec771741866",
   "metadata": {},
   "outputs": [
    {
     "name": "stdout",
     "output_type": "stream",
     "text": [
      "peter\n"
     ]
    }
   ],
   "source": [
    "await printName(\"peter\")"
   ]
  },
  {
   "cell_type": "code",
   "execution_count": 11,
   "id": "aac592ee-8e57-4395-a697-ea4d7fd3f4e2",
   "metadata": {},
   "outputs": [
    {
     "data": {
      "text/plain": [
       "\u001b[32m\"printName\"\u001b[39m"
      ]
     },
     "execution_count": 11,
     "metadata": {},
     "output_type": "execute_result"
    }
   ],
   "source": [
    "printName.name"
   ]
  },
  {
   "cell_type": "code",
   "execution_count": null,
   "id": "a351d74a-72f4-41ee-9a06-4789f0c89f6b",
   "metadata": {},
   "outputs": [],
   "source": []
  }
 ],
 "metadata": {
  "kernelspec": {
   "display_name": "Deno",
   "language": "typescript",
   "name": "deno"
  },
  "language_info": {
   "codemirror_mode": "typescript",
   "file_extension": ".ts",
   "mimetype": "text/x.typescript",
   "name": "typescript",
   "nbconvert_exporter": "script",
   "pygments_lexer": "typescript",
   "version": "5.4.5"
  }
 },
 "nbformat": 4,
 "nbformat_minor": 5
}
